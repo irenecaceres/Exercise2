{
 "cells": [
  {
   "cell_type": "code",
   "execution_count": 81,
   "id": "6fc819f5",
   "metadata": {},
   "outputs": [],
   "source": [
    "import pandas as pd\n",
    "import datetime"
   ]
  },
  {
   "cell_type": "code",
   "execution_count": 108,
   "id": "e4ef6a49",
   "metadata": {},
   "outputs": [
    {
     "data": {
      "text/plain": "   awardYear           category  \\\n0       2001  Economic Sciences   \n1       1975            Physics   \n2       2004          Chemistry   \n3       1982          Chemistry   \n4       1979            Physics   \n\n                                    categoryFullName  sortOrder portion  \\\n0  The Sveriges Riksbank Prize in Economic Scienc...          2     1/3   \n1                         The Nobel Prize in Physics          1     1/3   \n2                       The Nobel Prize in Chemistry          1     1/3   \n3                       The Nobel Prize in Chemistry          1       1   \n4                         The Nobel Prize in Physics          2     1/3   \n\n   prizeAmount  prizeAmountAdjusted dateAwarded prizeStatus  \\\n0     10000000             12295082  2001-10-10    received   \n1       630000              3404179  1975-10-17    received   \n2     10000000             11762861  2004-10-06    received   \n3      1150000              3102518  1982-10-18    received   \n4       800000              2988048  1979-10-15    received   \n\n                                          motivation  ... org_founded_country  \\\n0  for their analyses of markets with asymmetric ...  ...                 NaN   \n1  for the discovery of the connection between co...  ...                 NaN   \n2  for the discovery of ubiquitin-mediated protei...  ...                 NaN   \n3  for his development of crystallographic electr...  ...                 NaN   \n4  for their contributions to the theory of the u...  ...                 NaN   \n\n  org_founded_countryNow  org_founded_locationString  ind_or_org residence_1  \\\n0                    NaN                         NaN  Individual         NaN   \n1                    NaN                         NaN  Individual         NaN   \n2                    NaN                         NaN  Individual         NaN   \n3                    NaN                         NaN  Individual         NaN   \n4                    NaN                         NaN  Individual         NaN   \n\n  residence_2                                      affiliation_1  \\\n0         NaN             Stanford University, Stanford, CA, USA   \n1         NaN          Niels Bohr Institute, Copenhagen, Denmark   \n2         NaN  Technion - Israel Institute of Technology, Hai...   \n3         NaN  MRC Laboratory of Molecular Biology, Cambridge...   \n4         NaN  International Centre for Theoretical Physics, ...   \n\n                              affiliation_2 affiliation_3 affiliation_4  \n0                                       NaN           NaN           NaN  \n1                                       NaN           NaN           NaN  \n2                                       NaN           NaN           NaN  \n3                                       NaN           NaN           NaN  \n4  Imperial College, London, United Kingdom           NaN           NaN  \n\n[5 rows x 52 columns]",
      "text/html": "<div>\n<style scoped>\n    .dataframe tbody tr th:only-of-type {\n        vertical-align: middle;\n    }\n\n    .dataframe tbody tr th {\n        vertical-align: top;\n    }\n\n    .dataframe thead th {\n        text-align: right;\n    }\n</style>\n<table border=\"1\" class=\"dataframe\">\n  <thead>\n    <tr style=\"text-align: right;\">\n      <th></th>\n      <th>awardYear</th>\n      <th>category</th>\n      <th>categoryFullName</th>\n      <th>sortOrder</th>\n      <th>portion</th>\n      <th>prizeAmount</th>\n      <th>prizeAmountAdjusted</th>\n      <th>dateAwarded</th>\n      <th>prizeStatus</th>\n      <th>motivation</th>\n      <th>...</th>\n      <th>org_founded_country</th>\n      <th>org_founded_countryNow</th>\n      <th>org_founded_locationString</th>\n      <th>ind_or_org</th>\n      <th>residence_1</th>\n      <th>residence_2</th>\n      <th>affiliation_1</th>\n      <th>affiliation_2</th>\n      <th>affiliation_3</th>\n      <th>affiliation_4</th>\n    </tr>\n  </thead>\n  <tbody>\n    <tr>\n      <th>0</th>\n      <td>2001</td>\n      <td>Economic Sciences</td>\n      <td>The Sveriges Riksbank Prize in Economic Scienc...</td>\n      <td>2</td>\n      <td>1/3</td>\n      <td>10000000</td>\n      <td>12295082</td>\n      <td>2001-10-10</td>\n      <td>received</td>\n      <td>for their analyses of markets with asymmetric ...</td>\n      <td>...</td>\n      <td>NaN</td>\n      <td>NaN</td>\n      <td>NaN</td>\n      <td>Individual</td>\n      <td>NaN</td>\n      <td>NaN</td>\n      <td>Stanford University, Stanford, CA, USA</td>\n      <td>NaN</td>\n      <td>NaN</td>\n      <td>NaN</td>\n    </tr>\n    <tr>\n      <th>1</th>\n      <td>1975</td>\n      <td>Physics</td>\n      <td>The Nobel Prize in Physics</td>\n      <td>1</td>\n      <td>1/3</td>\n      <td>630000</td>\n      <td>3404179</td>\n      <td>1975-10-17</td>\n      <td>received</td>\n      <td>for the discovery of the connection between co...</td>\n      <td>...</td>\n      <td>NaN</td>\n      <td>NaN</td>\n      <td>NaN</td>\n      <td>Individual</td>\n      <td>NaN</td>\n      <td>NaN</td>\n      <td>Niels Bohr Institute, Copenhagen, Denmark</td>\n      <td>NaN</td>\n      <td>NaN</td>\n      <td>NaN</td>\n    </tr>\n    <tr>\n      <th>2</th>\n      <td>2004</td>\n      <td>Chemistry</td>\n      <td>The Nobel Prize in Chemistry</td>\n      <td>1</td>\n      <td>1/3</td>\n      <td>10000000</td>\n      <td>11762861</td>\n      <td>2004-10-06</td>\n      <td>received</td>\n      <td>for the discovery of ubiquitin-mediated protei...</td>\n      <td>...</td>\n      <td>NaN</td>\n      <td>NaN</td>\n      <td>NaN</td>\n      <td>Individual</td>\n      <td>NaN</td>\n      <td>NaN</td>\n      <td>Technion - Israel Institute of Technology, Hai...</td>\n      <td>NaN</td>\n      <td>NaN</td>\n      <td>NaN</td>\n    </tr>\n    <tr>\n      <th>3</th>\n      <td>1982</td>\n      <td>Chemistry</td>\n      <td>The Nobel Prize in Chemistry</td>\n      <td>1</td>\n      <td>1</td>\n      <td>1150000</td>\n      <td>3102518</td>\n      <td>1982-10-18</td>\n      <td>received</td>\n      <td>for his development of crystallographic electr...</td>\n      <td>...</td>\n      <td>NaN</td>\n      <td>NaN</td>\n      <td>NaN</td>\n      <td>Individual</td>\n      <td>NaN</td>\n      <td>NaN</td>\n      <td>MRC Laboratory of Molecular Biology, Cambridge...</td>\n      <td>NaN</td>\n      <td>NaN</td>\n      <td>NaN</td>\n    </tr>\n    <tr>\n      <th>4</th>\n      <td>1979</td>\n      <td>Physics</td>\n      <td>The Nobel Prize in Physics</td>\n      <td>2</td>\n      <td>1/3</td>\n      <td>800000</td>\n      <td>2988048</td>\n      <td>1979-10-15</td>\n      <td>received</td>\n      <td>for their contributions to the theory of the u...</td>\n      <td>...</td>\n      <td>NaN</td>\n      <td>NaN</td>\n      <td>NaN</td>\n      <td>Individual</td>\n      <td>NaN</td>\n      <td>NaN</td>\n      <td>International Centre for Theoretical Physics, ...</td>\n      <td>Imperial College, London, United Kingdom</td>\n      <td>NaN</td>\n      <td>NaN</td>\n    </tr>\n  </tbody>\n</table>\n<p>5 rows × 52 columns</p>\n</div>"
     },
     "execution_count": 108,
     "metadata": {},
     "output_type": "execute_result"
    }
   ],
   "source": [
    "df = pd.read_csv('../datasets/nobel.csv')\n",
    "df.head()"
   ]
  },
  {
   "cell_type": "markdown",
   "id": "5d7a9a6a",
   "metadata": {},
   "source": [
    "(1) In which years was there a price related to refugees?"
   ]
  },
  {
   "cell_type": "code",
   "execution_count": 86,
   "id": "a39c6138",
   "metadata": {},
   "outputs": [
    {
     "data": {
      "text/plain": "     awardYear category\n267       1922    Peace\n303       1958    Peace\n615       1938    Peace\n634       1954    Peace\n948       1981    Peace",
      "text/html": "<div>\n<style scoped>\n    .dataframe tbody tr th:only-of-type {\n        vertical-align: middle;\n    }\n\n    .dataframe tbody tr th {\n        vertical-align: top;\n    }\n\n    .dataframe thead th {\n        text-align: right;\n    }\n</style>\n<table border=\"1\" class=\"dataframe\">\n  <thead>\n    <tr style=\"text-align: right;\">\n      <th></th>\n      <th>awardYear</th>\n      <th>category</th>\n    </tr>\n  </thead>\n  <tbody>\n    <tr>\n      <th>267</th>\n      <td>1922</td>\n      <td>Peace</td>\n    </tr>\n    <tr>\n      <th>303</th>\n      <td>1958</td>\n      <td>Peace</td>\n    </tr>\n    <tr>\n      <th>615</th>\n      <td>1938</td>\n      <td>Peace</td>\n    </tr>\n    <tr>\n      <th>634</th>\n      <td>1954</td>\n      <td>Peace</td>\n    </tr>\n    <tr>\n      <th>948</th>\n      <td>1981</td>\n      <td>Peace</td>\n    </tr>\n  </tbody>\n</table>\n</div>"
     },
     "execution_count": 86,
     "metadata": {},
     "output_type": "execute_result"
    }
   ],
   "source": [
    "df[df.motivation.str.contains('refugee')][['awardYear','category']]"
   ]
  },
  {
   "cell_type": "markdown",
   "id": "ba16d405",
   "metadata": {},
   "source": [
    "(2) In all categories there have been more men than women winners. In which category is the gap the largest (in absolute values)? And in percentage?"
   ]
  },
  {
   "cell_type": "code",
   "execution_count": 87,
   "outputs": [
    {
     "data": {
      "text/plain": "27"
     },
     "execution_count": 87,
     "metadata": {},
     "output_type": "execute_result"
    }
   ],
   "source": [
    "df.gender.isna().sum()"
   ],
   "metadata": {
    "collapsed": false,
    "pycharm": {
     "name": "#%%\n"
    }
   }
  },
  {
   "cell_type": "code",
   "execution_count": 88,
   "outputs": [
    {
     "data": {
      "text/plain": "category                gender\nChemistry               female      5\n                        male      179\nEconomic Sciences       female      2\n                        male       82\nLiterature              female     15\n                        male      101\nPeace                   female     17\n                        male       90\n                        NaN        27\nPhysics                 female      3\n                        male      210\nPhysiology or Medicine  female     12\n                        male      207\ndtype: int64"
     },
     "execution_count": 88,
     "metadata": {},
     "output_type": "execute_result"
    }
   ],
   "source": [
    "df.groupby(['category','gender'],dropna=False).size()"
   ],
   "metadata": {
    "collapsed": false,
    "pycharm": {
     "name": "#%%\n"
    }
   }
  },
  {
   "cell_type": "code",
   "execution_count": 89,
   "id": "21bc9b5b",
   "metadata": {},
   "outputs": [
    {
     "data": {
      "text/plain": "            category  gender  count\n0          Chemistry  female      5\n1          Chemistry    male    179\n2  Economic Sciences  female      2\n3  Economic Sciences    male     82\n4         Literature  female     15",
      "text/html": "<div>\n<style scoped>\n    .dataframe tbody tr th:only-of-type {\n        vertical-align: middle;\n    }\n\n    .dataframe tbody tr th {\n        vertical-align: top;\n    }\n\n    .dataframe thead th {\n        text-align: right;\n    }\n</style>\n<table border=\"1\" class=\"dataframe\">\n  <thead>\n    <tr style=\"text-align: right;\">\n      <th></th>\n      <th>category</th>\n      <th>gender</th>\n      <th>count</th>\n    </tr>\n  </thead>\n  <tbody>\n    <tr>\n      <th>0</th>\n      <td>Chemistry</td>\n      <td>female</td>\n      <td>5</td>\n    </tr>\n    <tr>\n      <th>1</th>\n      <td>Chemistry</td>\n      <td>male</td>\n      <td>179</td>\n    </tr>\n    <tr>\n      <th>2</th>\n      <td>Economic Sciences</td>\n      <td>female</td>\n      <td>2</td>\n    </tr>\n    <tr>\n      <th>3</th>\n      <td>Economic Sciences</td>\n      <td>male</td>\n      <td>82</td>\n    </tr>\n    <tr>\n      <th>4</th>\n      <td>Literature</td>\n      <td>female</td>\n      <td>15</td>\n    </tr>\n  </tbody>\n</table>\n</div>"
     },
     "execution_count": 89,
     "metadata": {},
     "output_type": "execute_result"
    }
   ],
   "source": [
    "grouped = df.groupby(['category','gender'],dropna=False).size().\\\n",
    "    reset_index(name = 'count')\n",
    "grouped.head()"
   ]
  },
  {
   "cell_type": "markdown",
   "id": "fb582a61",
   "metadata": {},
   "source": [
    "---- Método (I) ----"
   ]
  },
  {
   "cell_type": "code",
   "execution_count": 6,
   "id": "d182af43",
   "metadata": {},
   "outputs": [],
   "source": [
    "def dif_f_m(df_in, ret = \"dif_abs\"):\n",
    "    '''\n",
    "    For a given category, extract difference of male - female awardees.\n",
    "    \n",
    "    Parameters\n",
    "    ------------\n",
    "    df_in: (DataFrame) DataFrame containing a 'gender' column (male, female, NA)\n",
    "    and a 'count' column, with the number of awardees per gender.\n",
    "    \n",
    "    ret: (str) controla the output\n",
    "    \n",
    "    Returns\n",
    "    ------------\n",
    "    If ret == \"dif_abs\": (int) Absolute difference in magnitude\n",
    "    \n",
    "    Si ret == \"dif_porc\": (float) Difference in percentage\n",
    "    '''\n",
    "    f = df_in[df_in['gender'] == \"female\"]['count'].item()\n",
    "    m = df_in[df_in['gender'] == \"male\"]['count'].item()\n",
    "    tot = df_in['count'].sum()\n",
    "    if(ret == \"dif_abs\"):\n",
    "        return m-f\n",
    "    elif(ret ==\"dif_porc\"):\n",
    "        return 100*(m-f)/tot\n",
    "    else:\n",
    "        return None"
   ]
  },
  {
   "cell_type": "code",
   "execution_count": 90,
   "outputs": [
    {
     "data": {
      "text/plain": "                  category  gender  count\n0                Chemistry  female      5\n1                Chemistry    male    179\n2        Economic Sciences  female      2\n3        Economic Sciences    male     82\n4               Literature  female     15\n5               Literature    male    101\n6                    Peace  female     17\n7                    Peace    male     90\n8                    Peace     NaN     27\n9                  Physics  female      3\n10                 Physics    male    210\n11  Physiology or Medicine  female     12\n12  Physiology or Medicine    male    207",
      "text/html": "<div>\n<style scoped>\n    .dataframe tbody tr th:only-of-type {\n        vertical-align: middle;\n    }\n\n    .dataframe tbody tr th {\n        vertical-align: top;\n    }\n\n    .dataframe thead th {\n        text-align: right;\n    }\n</style>\n<table border=\"1\" class=\"dataframe\">\n  <thead>\n    <tr style=\"text-align: right;\">\n      <th></th>\n      <th>category</th>\n      <th>gender</th>\n      <th>count</th>\n    </tr>\n  </thead>\n  <tbody>\n    <tr>\n      <th>0</th>\n      <td>Chemistry</td>\n      <td>female</td>\n      <td>5</td>\n    </tr>\n    <tr>\n      <th>1</th>\n      <td>Chemistry</td>\n      <td>male</td>\n      <td>179</td>\n    </tr>\n    <tr>\n      <th>2</th>\n      <td>Economic Sciences</td>\n      <td>female</td>\n      <td>2</td>\n    </tr>\n    <tr>\n      <th>3</th>\n      <td>Economic Sciences</td>\n      <td>male</td>\n      <td>82</td>\n    </tr>\n    <tr>\n      <th>4</th>\n      <td>Literature</td>\n      <td>female</td>\n      <td>15</td>\n    </tr>\n    <tr>\n      <th>5</th>\n      <td>Literature</td>\n      <td>male</td>\n      <td>101</td>\n    </tr>\n    <tr>\n      <th>6</th>\n      <td>Peace</td>\n      <td>female</td>\n      <td>17</td>\n    </tr>\n    <tr>\n      <th>7</th>\n      <td>Peace</td>\n      <td>male</td>\n      <td>90</td>\n    </tr>\n    <tr>\n      <th>8</th>\n      <td>Peace</td>\n      <td>NaN</td>\n      <td>27</td>\n    </tr>\n    <tr>\n      <th>9</th>\n      <td>Physics</td>\n      <td>female</td>\n      <td>3</td>\n    </tr>\n    <tr>\n      <th>10</th>\n      <td>Physics</td>\n      <td>male</td>\n      <td>210</td>\n    </tr>\n    <tr>\n      <th>11</th>\n      <td>Physiology or Medicine</td>\n      <td>female</td>\n      <td>12</td>\n    </tr>\n    <tr>\n      <th>12</th>\n      <td>Physiology or Medicine</td>\n      <td>male</td>\n      <td>207</td>\n    </tr>\n  </tbody>\n</table>\n</div>"
     },
     "execution_count": 90,
     "metadata": {},
     "output_type": "execute_result"
    }
   ],
   "source": [
    "grouped"
   ],
   "metadata": {
    "collapsed": false,
    "pycharm": {
     "name": "#%%\n"
    }
   }
  },
  {
   "cell_type": "code",
   "execution_count": 93,
   "id": "1239041a",
   "metadata": {},
   "outputs": [
    {
     "data": {
      "text/plain": "                 category  abs_dif_m_f\n0               Chemistry          174\n1       Economic Sciences           80\n2              Literature           86\n3                   Peace           73\n4                 Physics          207\n5  Physiology or Medicine          195",
      "text/html": "<div>\n<style scoped>\n    .dataframe tbody tr th:only-of-type {\n        vertical-align: middle;\n    }\n\n    .dataframe tbody tr th {\n        vertical-align: top;\n    }\n\n    .dataframe thead th {\n        text-align: right;\n    }\n</style>\n<table border=\"1\" class=\"dataframe\">\n  <thead>\n    <tr style=\"text-align: right;\">\n      <th></th>\n      <th>category</th>\n      <th>abs_dif_m_f</th>\n    </tr>\n  </thead>\n  <tbody>\n    <tr>\n      <th>0</th>\n      <td>Chemistry</td>\n      <td>174</td>\n    </tr>\n    <tr>\n      <th>1</th>\n      <td>Economic Sciences</td>\n      <td>80</td>\n    </tr>\n    <tr>\n      <th>2</th>\n      <td>Literature</td>\n      <td>86</td>\n    </tr>\n    <tr>\n      <th>3</th>\n      <td>Peace</td>\n      <td>73</td>\n    </tr>\n    <tr>\n      <th>4</th>\n      <td>Physics</td>\n      <td>207</td>\n    </tr>\n    <tr>\n      <th>5</th>\n      <td>Physiology or Medicine</td>\n      <td>195</td>\n    </tr>\n  </tbody>\n</table>\n</div>"
     },
     "execution_count": 93,
     "metadata": {},
     "output_type": "execute_result"
    }
   ],
   "source": [
    "dif_m_f = grouped.groupby('category').\\\n",
    "    apply(lambda x: dif_f_m(x)).\\\n",
    "    reset_index(name =\"abs_dif_m_f\")\n",
    "dif_m_f"
   ]
  },
  {
   "cell_type": "code",
   "execution_count": 94,
   "id": "c2332264",
   "metadata": {},
   "outputs": [
    {
     "data": {
      "text/plain": "category\nChemistry                 94.565217\nEconomic Sciences         95.238095\nLiterature                74.137931\nPeace                     54.477612\nPhysics                   97.183099\nPhysiology or Medicine    89.041096\ndtype: float64"
     },
     "execution_count": 94,
     "metadata": {},
     "output_type": "execute_result"
    }
   ],
   "source": [
    "grouped.groupby('category').apply(lambda x: dif_f_m(x, ret = \"dif_porc\"))"
   ]
  },
  {
   "cell_type": "code",
   "execution_count": 95,
   "id": "038770f5",
   "metadata": {},
   "outputs": [
    {
     "data": {
      "text/plain": "                 category  abs_dif_m_f  porc_dif_m_f\n0               Chemistry          174     94.565217\n1       Economic Sciences           80     95.238095\n2              Literature           86     74.137931\n3                   Peace           73     54.477612\n4                 Physics          207     97.183099\n5  Physiology or Medicine          195     89.041096",
      "text/html": "<div>\n<style scoped>\n    .dataframe tbody tr th:only-of-type {\n        vertical-align: middle;\n    }\n\n    .dataframe tbody tr th {\n        vertical-align: top;\n    }\n\n    .dataframe thead th {\n        text-align: right;\n    }\n</style>\n<table border=\"1\" class=\"dataframe\">\n  <thead>\n    <tr style=\"text-align: right;\">\n      <th></th>\n      <th>category</th>\n      <th>abs_dif_m_f</th>\n      <th>porc_dif_m_f</th>\n    </tr>\n  </thead>\n  <tbody>\n    <tr>\n      <th>0</th>\n      <td>Chemistry</td>\n      <td>174</td>\n      <td>94.565217</td>\n    </tr>\n    <tr>\n      <th>1</th>\n      <td>Economic Sciences</td>\n      <td>80</td>\n      <td>95.238095</td>\n    </tr>\n    <tr>\n      <th>2</th>\n      <td>Literature</td>\n      <td>86</td>\n      <td>74.137931</td>\n    </tr>\n    <tr>\n      <th>3</th>\n      <td>Peace</td>\n      <td>73</td>\n      <td>54.477612</td>\n    </tr>\n    <tr>\n      <th>4</th>\n      <td>Physics</td>\n      <td>207</td>\n      <td>97.183099</td>\n    </tr>\n    <tr>\n      <th>5</th>\n      <td>Physiology or Medicine</td>\n      <td>195</td>\n      <td>89.041096</td>\n    </tr>\n  </tbody>\n</table>\n</div>"
     },
     "execution_count": 95,
     "metadata": {},
     "output_type": "execute_result"
    }
   ],
   "source": [
    "dif_m_f['porc_dif_m_f'] = grouped.groupby('category').apply(lambda x: dif_f_m(x, ret = \"dif_porc\")).values\n",
    "dif_m_f"
   ]
  },
  {
   "cell_type": "markdown",
   "id": "ab91fc1b",
   "metadata": {},
   "source": [
    "---- Método (II) ----"
   ]
  },
  {
   "cell_type": "code",
   "execution_count": 12,
   "id": "2edb4f87",
   "metadata": {},
   "outputs": [
    {
     "data": {
      "text/plain": "gender                   NaN  female   male\ncategory                                   \nChemistry                NaN     5.0  179.0\nEconomic Sciences        NaN     2.0   82.0\nLiterature               NaN    15.0  101.0\nPeace                   27.0    17.0   90.0\nPhysics                  NaN     3.0  210.0\nPhysiology or Medicine   NaN    12.0  207.0",
      "text/html": "<div>\n<style scoped>\n    .dataframe tbody tr th:only-of-type {\n        vertical-align: middle;\n    }\n\n    .dataframe tbody tr th {\n        vertical-align: top;\n    }\n\n    .dataframe thead th {\n        text-align: right;\n    }\n</style>\n<table border=\"1\" class=\"dataframe\">\n  <thead>\n    <tr style=\"text-align: right;\">\n      <th>gender</th>\n      <th>NaN</th>\n      <th>female</th>\n      <th>male</th>\n    </tr>\n    <tr>\n      <th>category</th>\n      <th></th>\n      <th></th>\n      <th></th>\n    </tr>\n  </thead>\n  <tbody>\n    <tr>\n      <th>Chemistry</th>\n      <td>NaN</td>\n      <td>5.0</td>\n      <td>179.0</td>\n    </tr>\n    <tr>\n      <th>Economic Sciences</th>\n      <td>NaN</td>\n      <td>2.0</td>\n      <td>82.0</td>\n    </tr>\n    <tr>\n      <th>Literature</th>\n      <td>NaN</td>\n      <td>15.0</td>\n      <td>101.0</td>\n    </tr>\n    <tr>\n      <th>Peace</th>\n      <td>27.0</td>\n      <td>17.0</td>\n      <td>90.0</td>\n    </tr>\n    <tr>\n      <th>Physics</th>\n      <td>NaN</td>\n      <td>3.0</td>\n      <td>210.0</td>\n    </tr>\n    <tr>\n      <th>Physiology or Medicine</th>\n      <td>NaN</td>\n      <td>12.0</td>\n      <td>207.0</td>\n    </tr>\n  </tbody>\n</table>\n</div>"
     },
     "metadata": {},
     "output_type": "display_data"
    }
   ],
   "source": [
    "piv = grouped.pivot(index=\"category\", columns=\"gender\", values=\"count\")\n",
    "display(piv)"
   ]
  },
  {
   "cell_type": "code",
   "execution_count": 13,
   "id": "0d53b000",
   "metadata": {},
   "outputs": [
    {
     "data": {
      "text/plain": "gender                  not_assigned  female   male\ncategory                                           \nChemistry                        NaN     5.0  179.0\nEconomic Sciences                NaN     2.0   82.0\nLiterature                       NaN    15.0  101.0\nPeace                           27.0    17.0   90.0\nPhysics                          NaN     3.0  210.0\nPhysiology or Medicine           NaN    12.0  207.0",
      "text/html": "<div>\n<style scoped>\n    .dataframe tbody tr th:only-of-type {\n        vertical-align: middle;\n    }\n\n    .dataframe tbody tr th {\n        vertical-align: top;\n    }\n\n    .dataframe thead th {\n        text-align: right;\n    }\n</style>\n<table border=\"1\" class=\"dataframe\">\n  <thead>\n    <tr style=\"text-align: right;\">\n      <th>gender</th>\n      <th>not_assigned</th>\n      <th>female</th>\n      <th>male</th>\n    </tr>\n    <tr>\n      <th>category</th>\n      <th></th>\n      <th></th>\n      <th></th>\n    </tr>\n  </thead>\n  <tbody>\n    <tr>\n      <th>Chemistry</th>\n      <td>NaN</td>\n      <td>5.0</td>\n      <td>179.0</td>\n    </tr>\n    <tr>\n      <th>Economic Sciences</th>\n      <td>NaN</td>\n      <td>2.0</td>\n      <td>82.0</td>\n    </tr>\n    <tr>\n      <th>Literature</th>\n      <td>NaN</td>\n      <td>15.0</td>\n      <td>101.0</td>\n    </tr>\n    <tr>\n      <th>Peace</th>\n      <td>27.0</td>\n      <td>17.0</td>\n      <td>90.0</td>\n    </tr>\n    <tr>\n      <th>Physics</th>\n      <td>NaN</td>\n      <td>3.0</td>\n      <td>210.0</td>\n    </tr>\n    <tr>\n      <th>Physiology or Medicine</th>\n      <td>NaN</td>\n      <td>12.0</td>\n      <td>207.0</td>\n    </tr>\n  </tbody>\n</table>\n</div>"
     },
     "metadata": {},
     "output_type": "display_data"
    }
   ],
   "source": [
    "piv.rename(columns={ piv.columns[0]: \"not_assigned\" }, inplace = True)\n",
    "display(piv)"
   ]
  },
  {
   "cell_type": "code",
   "execution_count": 14,
   "id": "5b5871ed",
   "metadata": {},
   "outputs": [
    {
     "data": {
      "text/plain": "gender                  not_assigned  female   male  total  abs_dif_m_f\ncategory                                                               \nChemistry                        NaN     5.0  179.0  184.0        174.0\nEconomic Sciences                NaN     2.0   82.0   84.0         80.0\nLiterature                       NaN    15.0  101.0  116.0         86.0\nPeace                           27.0    17.0   90.0  134.0         73.0\nPhysics                          NaN     3.0  210.0  213.0        207.0\nPhysiology or Medicine           NaN    12.0  207.0  219.0        195.0",
      "text/html": "<div>\n<style scoped>\n    .dataframe tbody tr th:only-of-type {\n        vertical-align: middle;\n    }\n\n    .dataframe tbody tr th {\n        vertical-align: top;\n    }\n\n    .dataframe thead th {\n        text-align: right;\n    }\n</style>\n<table border=\"1\" class=\"dataframe\">\n  <thead>\n    <tr style=\"text-align: right;\">\n      <th>gender</th>\n      <th>not_assigned</th>\n      <th>female</th>\n      <th>male</th>\n      <th>total</th>\n      <th>abs_dif_m_f</th>\n    </tr>\n    <tr>\n      <th>category</th>\n      <th></th>\n      <th></th>\n      <th></th>\n      <th></th>\n      <th></th>\n    </tr>\n  </thead>\n  <tbody>\n    <tr>\n      <th>Chemistry</th>\n      <td>NaN</td>\n      <td>5.0</td>\n      <td>179.0</td>\n      <td>184.0</td>\n      <td>174.0</td>\n    </tr>\n    <tr>\n      <th>Economic Sciences</th>\n      <td>NaN</td>\n      <td>2.0</td>\n      <td>82.0</td>\n      <td>84.0</td>\n      <td>80.0</td>\n    </tr>\n    <tr>\n      <th>Literature</th>\n      <td>NaN</td>\n      <td>15.0</td>\n      <td>101.0</td>\n      <td>116.0</td>\n      <td>86.0</td>\n    </tr>\n    <tr>\n      <th>Peace</th>\n      <td>27.0</td>\n      <td>17.0</td>\n      <td>90.0</td>\n      <td>134.0</td>\n      <td>73.0</td>\n    </tr>\n    <tr>\n      <th>Physics</th>\n      <td>NaN</td>\n      <td>3.0</td>\n      <td>210.0</td>\n      <td>213.0</td>\n      <td>207.0</td>\n    </tr>\n    <tr>\n      <th>Physiology or Medicine</th>\n      <td>NaN</td>\n      <td>12.0</td>\n      <td>207.0</td>\n      <td>219.0</td>\n      <td>195.0</td>\n    </tr>\n  </tbody>\n</table>\n</div>"
     },
     "metadata": {},
     "output_type": "display_data"
    }
   ],
   "source": [
    "piv['total'] = piv.sum(axis=1, skipna = True)\n",
    "piv['abs_dif_m_f'] = piv.male - piv.female\n",
    "display(piv)\n"
   ]
  },
  {
   "cell_type": "code",
   "execution_count": 15,
   "id": "d0c60df6",
   "metadata": {},
   "outputs": [
    {
     "data": {
      "text/plain": "gender                  not_assigned  female   male  total  abs_dif_m_f  \\\ncategory                                                                  \nChemistry                        NaN     5.0  179.0  184.0        174.0   \nEconomic Sciences                NaN     2.0   82.0   84.0         80.0   \nLiterature                       NaN    15.0  101.0  116.0         86.0   \nPeace                           27.0    17.0   90.0  134.0         73.0   \nPhysics                          NaN     3.0  210.0  213.0        207.0   \nPhysiology or Medicine           NaN    12.0  207.0  219.0        195.0   \n\ngender                  porc_dif_m_f  \ncategory                              \nChemistry                  94.565217  \nEconomic Sciences          95.238095  \nLiterature                 74.137931  \nPeace                      54.477612  \nPhysics                    97.183099  \nPhysiology or Medicine     89.041096  ",
      "text/html": "<div>\n<style scoped>\n    .dataframe tbody tr th:only-of-type {\n        vertical-align: middle;\n    }\n\n    .dataframe tbody tr th {\n        vertical-align: top;\n    }\n\n    .dataframe thead th {\n        text-align: right;\n    }\n</style>\n<table border=\"1\" class=\"dataframe\">\n  <thead>\n    <tr style=\"text-align: right;\">\n      <th>gender</th>\n      <th>not_assigned</th>\n      <th>female</th>\n      <th>male</th>\n      <th>total</th>\n      <th>abs_dif_m_f</th>\n      <th>porc_dif_m_f</th>\n    </tr>\n    <tr>\n      <th>category</th>\n      <th></th>\n      <th></th>\n      <th></th>\n      <th></th>\n      <th></th>\n      <th></th>\n    </tr>\n  </thead>\n  <tbody>\n    <tr>\n      <th>Chemistry</th>\n      <td>NaN</td>\n      <td>5.0</td>\n      <td>179.0</td>\n      <td>184.0</td>\n      <td>174.0</td>\n      <td>94.565217</td>\n    </tr>\n    <tr>\n      <th>Economic Sciences</th>\n      <td>NaN</td>\n      <td>2.0</td>\n      <td>82.0</td>\n      <td>84.0</td>\n      <td>80.0</td>\n      <td>95.238095</td>\n    </tr>\n    <tr>\n      <th>Literature</th>\n      <td>NaN</td>\n      <td>15.0</td>\n      <td>101.0</td>\n      <td>116.0</td>\n      <td>86.0</td>\n      <td>74.137931</td>\n    </tr>\n    <tr>\n      <th>Peace</th>\n      <td>27.0</td>\n      <td>17.0</td>\n      <td>90.0</td>\n      <td>134.0</td>\n      <td>73.0</td>\n      <td>54.477612</td>\n    </tr>\n    <tr>\n      <th>Physics</th>\n      <td>NaN</td>\n      <td>3.0</td>\n      <td>210.0</td>\n      <td>213.0</td>\n      <td>207.0</td>\n      <td>97.183099</td>\n    </tr>\n    <tr>\n      <th>Physiology or Medicine</th>\n      <td>NaN</td>\n      <td>12.0</td>\n      <td>207.0</td>\n      <td>219.0</td>\n      <td>195.0</td>\n      <td>89.041096</td>\n    </tr>\n  </tbody>\n</table>\n</div>"
     },
     "metadata": {},
     "output_type": "display_data"
    }
   ],
   "source": [
    "piv['porc_dif_m_f'] = 100*piv.abs_dif_m_f/piv.total\n",
    "display(piv)"
   ]
  },
  {
   "cell_type": "markdown",
   "id": "985c3505",
   "metadata": {},
   "source": [
    "--- Comparación métodos ---"
   ]
  },
  {
   "cell_type": "code",
   "execution_count": 16,
   "id": "d2ab34d3",
   "metadata": {},
   "outputs": [
    {
     "data": {
      "text/plain": "gender                  not_assigned  female   male  total  abs_dif_m_f  \\\ncategory                                                                  \nPhysics                          NaN     3.0  210.0  213.0        207.0   \nPhysiology or Medicine           NaN    12.0  207.0  219.0        195.0   \nChemistry                        NaN     5.0  179.0  184.0        174.0   \nLiterature                       NaN    15.0  101.0  116.0         86.0   \nEconomic Sciences                NaN     2.0   82.0   84.0         80.0   \nPeace                           27.0    17.0   90.0  134.0         73.0   \n\ngender                  porc_dif_m_f  \ncategory                              \nPhysics                    97.183099  \nPhysiology or Medicine     89.041096  \nChemistry                  94.565217  \nLiterature                 74.137931  \nEconomic Sciences          95.238095  \nPeace                      54.477612  ",
      "text/html": "<div>\n<style scoped>\n    .dataframe tbody tr th:only-of-type {\n        vertical-align: middle;\n    }\n\n    .dataframe tbody tr th {\n        vertical-align: top;\n    }\n\n    .dataframe thead th {\n        text-align: right;\n    }\n</style>\n<table border=\"1\" class=\"dataframe\">\n  <thead>\n    <tr style=\"text-align: right;\">\n      <th>gender</th>\n      <th>not_assigned</th>\n      <th>female</th>\n      <th>male</th>\n      <th>total</th>\n      <th>abs_dif_m_f</th>\n      <th>porc_dif_m_f</th>\n    </tr>\n    <tr>\n      <th>category</th>\n      <th></th>\n      <th></th>\n      <th></th>\n      <th></th>\n      <th></th>\n      <th></th>\n    </tr>\n  </thead>\n  <tbody>\n    <tr>\n      <th>Physics</th>\n      <td>NaN</td>\n      <td>3.0</td>\n      <td>210.0</td>\n      <td>213.0</td>\n      <td>207.0</td>\n      <td>97.183099</td>\n    </tr>\n    <tr>\n      <th>Physiology or Medicine</th>\n      <td>NaN</td>\n      <td>12.0</td>\n      <td>207.0</td>\n      <td>219.0</td>\n      <td>195.0</td>\n      <td>89.041096</td>\n    </tr>\n    <tr>\n      <th>Chemistry</th>\n      <td>NaN</td>\n      <td>5.0</td>\n      <td>179.0</td>\n      <td>184.0</td>\n      <td>174.0</td>\n      <td>94.565217</td>\n    </tr>\n    <tr>\n      <th>Literature</th>\n      <td>NaN</td>\n      <td>15.0</td>\n      <td>101.0</td>\n      <td>116.0</td>\n      <td>86.0</td>\n      <td>74.137931</td>\n    </tr>\n    <tr>\n      <th>Economic Sciences</th>\n      <td>NaN</td>\n      <td>2.0</td>\n      <td>82.0</td>\n      <td>84.0</td>\n      <td>80.0</td>\n      <td>95.238095</td>\n    </tr>\n    <tr>\n      <th>Peace</th>\n      <td>27.0</td>\n      <td>17.0</td>\n      <td>90.0</td>\n      <td>134.0</td>\n      <td>73.0</td>\n      <td>54.477612</td>\n    </tr>\n  </tbody>\n</table>\n</div>"
     },
     "execution_count": 16,
     "metadata": {},
     "output_type": "execute_result"
    }
   ],
   "source": [
    "piv.sort_values('abs_dif_m_f', ascending = False)"
   ]
  },
  {
   "cell_type": "code",
   "execution_count": 96,
   "id": "7665700b",
   "metadata": {},
   "outputs": [
    {
     "data": {
      "text/plain": "                 category  abs_dif_m_f  porc_dif_m_f\n4                 Physics          207     97.183099\n5  Physiology or Medicine          195     89.041096\n0               Chemistry          174     94.565217\n2              Literature           86     74.137931\n1       Economic Sciences           80     95.238095\n3                   Peace           73     54.477612",
      "text/html": "<div>\n<style scoped>\n    .dataframe tbody tr th:only-of-type {\n        vertical-align: middle;\n    }\n\n    .dataframe tbody tr th {\n        vertical-align: top;\n    }\n\n    .dataframe thead th {\n        text-align: right;\n    }\n</style>\n<table border=\"1\" class=\"dataframe\">\n  <thead>\n    <tr style=\"text-align: right;\">\n      <th></th>\n      <th>category</th>\n      <th>abs_dif_m_f</th>\n      <th>porc_dif_m_f</th>\n    </tr>\n  </thead>\n  <tbody>\n    <tr>\n      <th>4</th>\n      <td>Physics</td>\n      <td>207</td>\n      <td>97.183099</td>\n    </tr>\n    <tr>\n      <th>5</th>\n      <td>Physiology or Medicine</td>\n      <td>195</td>\n      <td>89.041096</td>\n    </tr>\n    <tr>\n      <th>0</th>\n      <td>Chemistry</td>\n      <td>174</td>\n      <td>94.565217</td>\n    </tr>\n    <tr>\n      <th>2</th>\n      <td>Literature</td>\n      <td>86</td>\n      <td>74.137931</td>\n    </tr>\n    <tr>\n      <th>1</th>\n      <td>Economic Sciences</td>\n      <td>80</td>\n      <td>95.238095</td>\n    </tr>\n    <tr>\n      <th>3</th>\n      <td>Peace</td>\n      <td>73</td>\n      <td>54.477612</td>\n    </tr>\n  </tbody>\n</table>\n</div>"
     },
     "execution_count": 96,
     "metadata": {},
     "output_type": "execute_result"
    }
   ],
   "source": [
    "dif_m_f.sort_values('abs_dif_m_f', ascending = False)"
   ]
  },
  {
   "cell_type": "code",
   "execution_count": 18,
   "id": "178addea",
   "metadata": {},
   "outputs": [
    {
     "data": {
      "text/plain": "gender                  not_assigned  female   male  total  abs_dif_m_f  \\\ncategory                                                                  \nPhysics                          NaN     3.0  210.0  213.0        207.0   \nEconomic Sciences                NaN     2.0   82.0   84.0         80.0   \nChemistry                        NaN     5.0  179.0  184.0        174.0   \nPhysiology or Medicine           NaN    12.0  207.0  219.0        195.0   \nLiterature                       NaN    15.0  101.0  116.0         86.0   \nPeace                           27.0    17.0   90.0  134.0         73.0   \n\ngender                  porc_dif_m_f  \ncategory                              \nPhysics                    97.183099  \nEconomic Sciences          95.238095  \nChemistry                  94.565217  \nPhysiology or Medicine     89.041096  \nLiterature                 74.137931  \nPeace                      54.477612  ",
      "text/html": "<div>\n<style scoped>\n    .dataframe tbody tr th:only-of-type {\n        vertical-align: middle;\n    }\n\n    .dataframe tbody tr th {\n        vertical-align: top;\n    }\n\n    .dataframe thead th {\n        text-align: right;\n    }\n</style>\n<table border=\"1\" class=\"dataframe\">\n  <thead>\n    <tr style=\"text-align: right;\">\n      <th>gender</th>\n      <th>not_assigned</th>\n      <th>female</th>\n      <th>male</th>\n      <th>total</th>\n      <th>abs_dif_m_f</th>\n      <th>porc_dif_m_f</th>\n    </tr>\n    <tr>\n      <th>category</th>\n      <th></th>\n      <th></th>\n      <th></th>\n      <th></th>\n      <th></th>\n      <th></th>\n    </tr>\n  </thead>\n  <tbody>\n    <tr>\n      <th>Physics</th>\n      <td>NaN</td>\n      <td>3.0</td>\n      <td>210.0</td>\n      <td>213.0</td>\n      <td>207.0</td>\n      <td>97.183099</td>\n    </tr>\n    <tr>\n      <th>Economic Sciences</th>\n      <td>NaN</td>\n      <td>2.0</td>\n      <td>82.0</td>\n      <td>84.0</td>\n      <td>80.0</td>\n      <td>95.238095</td>\n    </tr>\n    <tr>\n      <th>Chemistry</th>\n      <td>NaN</td>\n      <td>5.0</td>\n      <td>179.0</td>\n      <td>184.0</td>\n      <td>174.0</td>\n      <td>94.565217</td>\n    </tr>\n    <tr>\n      <th>Physiology or Medicine</th>\n      <td>NaN</td>\n      <td>12.0</td>\n      <td>207.0</td>\n      <td>219.0</td>\n      <td>195.0</td>\n      <td>89.041096</td>\n    </tr>\n    <tr>\n      <th>Literature</th>\n      <td>NaN</td>\n      <td>15.0</td>\n      <td>101.0</td>\n      <td>116.0</td>\n      <td>86.0</td>\n      <td>74.137931</td>\n    </tr>\n    <tr>\n      <th>Peace</th>\n      <td>27.0</td>\n      <td>17.0</td>\n      <td>90.0</td>\n      <td>134.0</td>\n      <td>73.0</td>\n      <td>54.477612</td>\n    </tr>\n  </tbody>\n</table>\n</div>"
     },
     "execution_count": 18,
     "metadata": {},
     "output_type": "execute_result"
    }
   ],
   "source": [
    "piv.sort_values('porc_dif_m_f', ascending = False)"
   ]
  },
  {
   "cell_type": "code",
   "execution_count": 19,
   "id": "299fb483",
   "metadata": {},
   "outputs": [
    {
     "data": {
      "text/plain": "                 category  abs_dif_m_f  porc_dif_m_f\n4                 Physics          207     97.183099\n1       Economic Sciences           80     95.238095\n0               Chemistry          174     94.565217\n5  Physiology or Medicine          195     89.041096\n2              Literature           86     74.137931\n3                   Peace           73     54.477612",
      "text/html": "<div>\n<style scoped>\n    .dataframe tbody tr th:only-of-type {\n        vertical-align: middle;\n    }\n\n    .dataframe tbody tr th {\n        vertical-align: top;\n    }\n\n    .dataframe thead th {\n        text-align: right;\n    }\n</style>\n<table border=\"1\" class=\"dataframe\">\n  <thead>\n    <tr style=\"text-align: right;\">\n      <th></th>\n      <th>category</th>\n      <th>abs_dif_m_f</th>\n      <th>porc_dif_m_f</th>\n    </tr>\n  </thead>\n  <tbody>\n    <tr>\n      <th>4</th>\n      <td>Physics</td>\n      <td>207</td>\n      <td>97.183099</td>\n    </tr>\n    <tr>\n      <th>1</th>\n      <td>Economic Sciences</td>\n      <td>80</td>\n      <td>95.238095</td>\n    </tr>\n    <tr>\n      <th>0</th>\n      <td>Chemistry</td>\n      <td>174</td>\n      <td>94.565217</td>\n    </tr>\n    <tr>\n      <th>5</th>\n      <td>Physiology or Medicine</td>\n      <td>195</td>\n      <td>89.041096</td>\n    </tr>\n    <tr>\n      <th>2</th>\n      <td>Literature</td>\n      <td>86</td>\n      <td>74.137931</td>\n    </tr>\n    <tr>\n      <th>3</th>\n      <td>Peace</td>\n      <td>73</td>\n      <td>54.477612</td>\n    </tr>\n  </tbody>\n</table>\n</div>"
     },
     "execution_count": 19,
     "metadata": {},
     "output_type": "execute_result"
    }
   ],
   "source": [
    "dif_m_f.sort_values('porc_dif_m_f', ascending = False)"
   ]
  },
  {
   "cell_type": "markdown",
   "id": "76e92e83",
   "metadata": {},
   "source": [
    "(3)"
   ]
  },
  {
   "cell_type": "markdown",
   "id": "8f1a8cd2",
   "metadata": {},
   "source": [
    "(a)"
   ]
  },
  {
   "cell_type": "code",
   "execution_count": 97,
   "id": "463d5eb0",
   "metadata": {},
   "outputs": [
    {
     "data": {
      "text/plain": "1901"
     },
     "execution_count": 97,
     "metadata": {},
     "output_type": "execute_result"
    }
   ],
   "source": [
    "df.awardYear.min()"
   ]
  },
  {
   "cell_type": "code",
   "execution_count": 98,
   "id": "c7c3e892",
   "metadata": {},
   "outputs": [
    {
     "data": {
      "text/plain": "                 category  awardYear\n0               Chemistry       1901\n1       Economic Sciences       1969\n2              Literature       1901\n3                   Peace       1901\n4                 Physics       1901\n5  Physiology or Medicine       1901",
      "text/html": "<div>\n<style scoped>\n    .dataframe tbody tr th:only-of-type {\n        vertical-align: middle;\n    }\n\n    .dataframe tbody tr th {\n        vertical-align: top;\n    }\n\n    .dataframe thead th {\n        text-align: right;\n    }\n</style>\n<table border=\"1\" class=\"dataframe\">\n  <thead>\n    <tr style=\"text-align: right;\">\n      <th></th>\n      <th>category</th>\n      <th>awardYear</th>\n    </tr>\n  </thead>\n  <tbody>\n    <tr>\n      <th>0</th>\n      <td>Chemistry</td>\n      <td>1901</td>\n    </tr>\n    <tr>\n      <th>1</th>\n      <td>Economic Sciences</td>\n      <td>1969</td>\n    </tr>\n    <tr>\n      <th>2</th>\n      <td>Literature</td>\n      <td>1901</td>\n    </tr>\n    <tr>\n      <th>3</th>\n      <td>Peace</td>\n      <td>1901</td>\n    </tr>\n    <tr>\n      <th>4</th>\n      <td>Physics</td>\n      <td>1901</td>\n    </tr>\n    <tr>\n      <th>5</th>\n      <td>Physiology or Medicine</td>\n      <td>1901</td>\n    </tr>\n  </tbody>\n</table>\n</div>"
     },
     "execution_count": 98,
     "metadata": {},
     "output_type": "execute_result"
    }
   ],
   "source": [
    "begin_category = df.groupby('category')['awardYear'].min().reset_index()\n",
    "begin_category"
   ]
  },
  {
   "cell_type": "code",
   "execution_count": 99,
   "id": "0fc3855c",
   "metadata": {},
   "outputs": [
    {
     "data": {
      "text/plain": "1    Economic Sciences\nName: category, dtype: object"
     },
     "execution_count": 99,
     "metadata": {},
     "output_type": "execute_result"
    }
   ],
   "source": [
    "begin_category[begin_category.awardYear > df.awardYear.min()].category"
   ]
  },
  {
   "cell_type": "markdown",
   "id": "bf075f14",
   "metadata": {},
   "source": [
    "(4)"
   ]
  },
  {
   "cell_type": "code",
   "execution_count": 23,
   "id": "51bfa339",
   "metadata": {},
   "outputs": [
    {
     "data": {
      "text/plain": "awardYear                      int64\ncategory                      object\ncategoryFullName              object\nsortOrder                      int64\nportion                       object\nprizeAmount                    int64\nprizeAmountAdjusted            int64\ndateAwarded                   object\nprizeStatus                   object\nmotivation                    object\ncategoryTopMotivation         object\naward_link                    object\nid                             int64\nname                          object\nknownName                     object\ngivenName                     object\nfamilyName                    object\nfullName                      object\npenName                       object\ngender                        object\nlaureate_link                 object\nbirth_date                    object\nbirth_city                    object\nbirth_cityNow                 object\nbirth_continent               object\nbirth_country                 object\nbirth_countryNow              object\nbirth_locationString          object\ndeath_date                    object\ndeath_city                    object\ndeath_cityNow                 object\ndeath_continent               object\ndeath_country                 object\ndeath_countryNow              object\ndeath_locationString          object\norgName                       object\nnativeName                    object\nacronym                       object\norg_founded_date              object\norg_founded_city              object\norg_founded_cityNow           object\norg_founded_continent         object\norg_founded_country           object\norg_founded_countryNow        object\norg_founded_locationString    object\nind_or_org                    object\nresidence_1                   object\nresidence_2                   object\naffiliation_1                 object\naffiliation_2                 object\naffiliation_3                 object\naffiliation_4                 object\ndtype: object"
     },
     "execution_count": 23,
     "metadata": {},
     "output_type": "execute_result"
    }
   ],
   "source": [
    "df.dtypes"
   ]
  },
  {
   "cell_type": "code",
   "execution_count": 100,
   "id": "6cd51535",
   "metadata": {},
   "outputs": [
    {
     "data": {
      "text/plain": "18"
     },
     "execution_count": 100,
     "metadata": {},
     "output_type": "execute_result"
    }
   ],
   "source": [
    "(df.birth_countryNow == 'Austria').sum() #"
   ]
  },
  {
   "cell_type": "code",
   "execution_count": 101,
   "id": "51f5a4aa",
   "metadata": {},
   "outputs": [
    {
     "data": {
      "text/plain": "36             Austria\n201            Austria\n218            Austria\n230            Austria\n269            Austria\n497            Austria\n502    Austrian Empire\n503            Austria\n520            Austria\n572            Austria\n585            Austria\n683            Austria\n719    Austria-Hungary\n726    Austrian Empire\n733            Austria\n884            Austria\n892            Austria\n933            Austria\nName: birth_country, dtype: object"
     },
     "execution_count": 101,
     "metadata": {},
     "output_type": "execute_result"
    }
   ],
   "source": [
    "df[df.birth_countryNow == 'Austria'].birth_country"
   ]
  },
  {
   "cell_type": "code",
   "execution_count": 109,
   "outputs": [
    {
     "data": {
      "text/plain": "     awardYear           category  \\\n0         2001  Economic Sciences   \n26        1960              Peace   \n612       2018              Peace   \n670       2018  Economic Sciences   \n785       2011            Physics   \n880       2009          Chemistry   \n\n                                      categoryFullName  sortOrder portion  \\\n0    The Sveriges Riksbank Prize in Economic Scienc...          2     1/3   \n26                               The Nobel Peace Prize          1       1   \n612                              The Nobel Peace Prize          2     1/2   \n670  The Sveriges Riksbank Prize in Economic Scienc...          2     1/2   \n785                         The Nobel Prize in Physics          1     1/2   \n880                       The Nobel Prize in Chemistry          1     1/3   \n\n     prizeAmount  prizeAmountAdjusted dateAwarded prizeStatus  \\\n0       10000000             12295082  2001-10-10    received   \n26        225987              2664941  1961-10-23    received   \n612      9000000              9000000  2018-10-05    received   \n670      9000000              9000000         NaN    received   \n785     10000000             10545557  2011-10-04    received   \n880     10000000             10958504  2009-10-07    received   \n\n                                            motivation  ...  \\\n0    for their analyses of markets with asymmetric ...  ...   \n26      for his non-violent struggle against apartheid  ...   \n612  for their efforts to end the use of sexual vio...  ...   \n670  for integrating technological innovations into...  ...   \n785  for the discovery of the accelerating expansio...  ...   \n880  for studies of the structure and function of t...  ...   \n\n    org_founded_country org_founded_countryNow  org_founded_locationString  \\\n0                   NaN                    NaN                         NaN   \n26                  NaN                    NaN                         NaN   \n612                 NaN                    NaN                         NaN   \n670                 NaN                    NaN                         NaN   \n785                 NaN                    NaN                         NaN   \n880                 NaN                    NaN                         NaN   \n\n     ind_or_org   residence_1 residence_2  \\\n0    Individual           NaN         NaN   \n26   Individual  South Africa         NaN   \n612  Individual           NaN         NaN   \n670  Individual           NaN         NaN   \n785  Individual           NaN         NaN   \n880  Individual           NaN         NaN   \n\n                                         affiliation_1  \\\n0               Stanford University, Stanford, CA, USA   \n26                                                 NaN   \n612                                                NaN   \n670    NYU Stern School of Business, New York, NY, USA   \n785  Lawrence Berkeley National Laboratory, Berkele...   \n880  MRC Laboratory of Molecular Biology, Cambridge...   \n\n                                   affiliation_2 affiliation_3 affiliation_4  \n0                                            NaN           NaN           NaN  \n26                                           NaN           NaN           NaN  \n612                                          NaN           NaN           NaN  \n670                                          NaN           NaN           NaN  \n785  University of California, Berkeley, CA, USA           NaN           NaN  \n880                                          NaN           NaN           NaN  \n\n[6 rows x 52 columns]",
      "text/html": "<div>\n<style scoped>\n    .dataframe tbody tr th:only-of-type {\n        vertical-align: middle;\n    }\n\n    .dataframe tbody tr th {\n        vertical-align: top;\n    }\n\n    .dataframe thead th {\n        text-align: right;\n    }\n</style>\n<table border=\"1\" class=\"dataframe\">\n  <thead>\n    <tr style=\"text-align: right;\">\n      <th></th>\n      <th>awardYear</th>\n      <th>category</th>\n      <th>categoryFullName</th>\n      <th>sortOrder</th>\n      <th>portion</th>\n      <th>prizeAmount</th>\n      <th>prizeAmountAdjusted</th>\n      <th>dateAwarded</th>\n      <th>prizeStatus</th>\n      <th>motivation</th>\n      <th>...</th>\n      <th>org_founded_country</th>\n      <th>org_founded_countryNow</th>\n      <th>org_founded_locationString</th>\n      <th>ind_or_org</th>\n      <th>residence_1</th>\n      <th>residence_2</th>\n      <th>affiliation_1</th>\n      <th>affiliation_2</th>\n      <th>affiliation_3</th>\n      <th>affiliation_4</th>\n    </tr>\n  </thead>\n  <tbody>\n    <tr>\n      <th>0</th>\n      <td>2001</td>\n      <td>Economic Sciences</td>\n      <td>The Sveriges Riksbank Prize in Economic Scienc...</td>\n      <td>2</td>\n      <td>1/3</td>\n      <td>10000000</td>\n      <td>12295082</td>\n      <td>2001-10-10</td>\n      <td>received</td>\n      <td>for their analyses of markets with asymmetric ...</td>\n      <td>...</td>\n      <td>NaN</td>\n      <td>NaN</td>\n      <td>NaN</td>\n      <td>Individual</td>\n      <td>NaN</td>\n      <td>NaN</td>\n      <td>Stanford University, Stanford, CA, USA</td>\n      <td>NaN</td>\n      <td>NaN</td>\n      <td>NaN</td>\n    </tr>\n    <tr>\n      <th>26</th>\n      <td>1960</td>\n      <td>Peace</td>\n      <td>The Nobel Peace Prize</td>\n      <td>1</td>\n      <td>1</td>\n      <td>225987</td>\n      <td>2664941</td>\n      <td>1961-10-23</td>\n      <td>received</td>\n      <td>for his non-violent struggle against apartheid</td>\n      <td>...</td>\n      <td>NaN</td>\n      <td>NaN</td>\n      <td>NaN</td>\n      <td>Individual</td>\n      <td>South Africa</td>\n      <td>NaN</td>\n      <td>NaN</td>\n      <td>NaN</td>\n      <td>NaN</td>\n      <td>NaN</td>\n    </tr>\n    <tr>\n      <th>612</th>\n      <td>2018</td>\n      <td>Peace</td>\n      <td>The Nobel Peace Prize</td>\n      <td>2</td>\n      <td>1/2</td>\n      <td>9000000</td>\n      <td>9000000</td>\n      <td>2018-10-05</td>\n      <td>received</td>\n      <td>for their efforts to end the use of sexual vio...</td>\n      <td>...</td>\n      <td>NaN</td>\n      <td>NaN</td>\n      <td>NaN</td>\n      <td>Individual</td>\n      <td>NaN</td>\n      <td>NaN</td>\n      <td>NaN</td>\n      <td>NaN</td>\n      <td>NaN</td>\n      <td>NaN</td>\n    </tr>\n    <tr>\n      <th>670</th>\n      <td>2018</td>\n      <td>Economic Sciences</td>\n      <td>The Sveriges Riksbank Prize in Economic Scienc...</td>\n      <td>2</td>\n      <td>1/2</td>\n      <td>9000000</td>\n      <td>9000000</td>\n      <td>NaN</td>\n      <td>received</td>\n      <td>for integrating technological innovations into...</td>\n      <td>...</td>\n      <td>NaN</td>\n      <td>NaN</td>\n      <td>NaN</td>\n      <td>Individual</td>\n      <td>NaN</td>\n      <td>NaN</td>\n      <td>NYU Stern School of Business, New York, NY, USA</td>\n      <td>NaN</td>\n      <td>NaN</td>\n      <td>NaN</td>\n    </tr>\n    <tr>\n      <th>785</th>\n      <td>2011</td>\n      <td>Physics</td>\n      <td>The Nobel Prize in Physics</td>\n      <td>1</td>\n      <td>1/2</td>\n      <td>10000000</td>\n      <td>10545557</td>\n      <td>2011-10-04</td>\n      <td>received</td>\n      <td>for the discovery of the accelerating expansio...</td>\n      <td>...</td>\n      <td>NaN</td>\n      <td>NaN</td>\n      <td>NaN</td>\n      <td>Individual</td>\n      <td>NaN</td>\n      <td>NaN</td>\n      <td>Lawrence Berkeley National Laboratory, Berkele...</td>\n      <td>University of California, Berkeley, CA, USA</td>\n      <td>NaN</td>\n      <td>NaN</td>\n    </tr>\n    <tr>\n      <th>880</th>\n      <td>2009</td>\n      <td>Chemistry</td>\n      <td>The Nobel Prize in Chemistry</td>\n      <td>1</td>\n      <td>1/3</td>\n      <td>10000000</td>\n      <td>10958504</td>\n      <td>2009-10-07</td>\n      <td>received</td>\n      <td>for studies of the structure and function of t...</td>\n      <td>...</td>\n      <td>NaN</td>\n      <td>NaN</td>\n      <td>NaN</td>\n      <td>Individual</td>\n      <td>NaN</td>\n      <td>NaN</td>\n      <td>MRC Laboratory of Molecular Biology, Cambridge...</td>\n      <td>NaN</td>\n      <td>NaN</td>\n      <td>NaN</td>\n    </tr>\n  </tbody>\n</table>\n<p>6 rows × 52 columns</p>\n</div>"
     },
     "execution_count": 109,
     "metadata": {},
     "output_type": "execute_result"
    }
   ],
   "source": [
    "df[df.birth_date.str[5:7] == '00']"
   ],
   "metadata": {
    "collapsed": false,
    "pycharm": {
     "name": "#%%\n"
    }
   }
  },
  {
   "cell_type": "code",
   "execution_count": 110,
   "outputs": [
    {
     "ename": "ParserError",
     "evalue": "month must be in 1..12: 1943-00-00",
     "output_type": "error",
     "traceback": [
      "\u001B[1;31m---------------------------------------------------------------------------\u001B[0m",
      "\u001B[1;31mValueError\u001B[0m                                Traceback (most recent call last)",
      "File \u001B[1;32mc:\\users\\priego\\pycharmprojects\\01-intropython\\venv\\lib\\site-packages\\dateutil\\parser\\_parser.py:649\u001B[0m, in \u001B[0;36mparser.parse\u001B[1;34m(self, timestr, default, ignoretz, tzinfos, **kwargs)\u001B[0m\n\u001B[0;32m    648\u001B[0m \u001B[38;5;28;01mtry\u001B[39;00m:\n\u001B[1;32m--> 649\u001B[0m     ret \u001B[38;5;241m=\u001B[39m \u001B[38;5;28;43mself\u001B[39;49m\u001B[38;5;241;43m.\u001B[39;49m\u001B[43m_build_naive\u001B[49m\u001B[43m(\u001B[49m\u001B[43mres\u001B[49m\u001B[43m,\u001B[49m\u001B[43m \u001B[49m\u001B[43mdefault\u001B[49m\u001B[43m)\u001B[49m\n\u001B[0;32m    650\u001B[0m \u001B[38;5;28;01mexcept\u001B[39;00m \u001B[38;5;167;01mValueError\u001B[39;00m \u001B[38;5;28;01mas\u001B[39;00m e:\n",
      "File \u001B[1;32mc:\\users\\priego\\pycharmprojects\\01-intropython\\venv\\lib\\site-packages\\dateutil\\parser\\_parser.py:1235\u001B[0m, in \u001B[0;36mparser._build_naive\u001B[1;34m(self, res, default)\u001B[0m\n\u001B[0;32m   1233\u001B[0m         repl[\u001B[38;5;124m'\u001B[39m\u001B[38;5;124mday\u001B[39m\u001B[38;5;124m'\u001B[39m] \u001B[38;5;241m=\u001B[39m monthrange(cyear, cmonth)[\u001B[38;5;241m1\u001B[39m]\n\u001B[1;32m-> 1235\u001B[0m naive \u001B[38;5;241m=\u001B[39m default\u001B[38;5;241m.\u001B[39mreplace(\u001B[38;5;241m*\u001B[39m\u001B[38;5;241m*\u001B[39mrepl)\n\u001B[0;32m   1237\u001B[0m \u001B[38;5;28;01mif\u001B[39;00m res\u001B[38;5;241m.\u001B[39mweekday \u001B[38;5;129;01mis\u001B[39;00m \u001B[38;5;129;01mnot\u001B[39;00m \u001B[38;5;28;01mNone\u001B[39;00m \u001B[38;5;129;01mand\u001B[39;00m \u001B[38;5;129;01mnot\u001B[39;00m res\u001B[38;5;241m.\u001B[39mday:\n",
      "\u001B[1;31mValueError\u001B[0m: month must be in 1..12",
      "\nThe above exception was the direct cause of the following exception:\n",
      "\u001B[1;31mParserError\u001B[0m                               Traceback (most recent call last)",
      "File \u001B[1;32mc:\\users\\priego\\pycharmprojects\\01-intropython\\venv\\lib\\site-packages\\pandas\\_libs\\tslib.pyx:536\u001B[0m, in \u001B[0;36mpandas._libs.tslib.array_to_datetime\u001B[1;34m()\u001B[0m\n",
      "File \u001B[1;32mc:\\users\\priego\\pycharmprojects\\01-intropython\\venv\\lib\\site-packages\\pandas\\_libs\\tslibs\\parsing.pyx:281\u001B[0m, in \u001B[0;36mpandas._libs.tslibs.parsing.parse_datetime_string\u001B[1;34m()\u001B[0m\n",
      "File \u001B[1;32mc:\\users\\priego\\pycharmprojects\\01-intropython\\venv\\lib\\site-packages\\dateutil\\parser\\_parser.py:1368\u001B[0m, in \u001B[0;36mparse\u001B[1;34m(timestr, parserinfo, **kwargs)\u001B[0m\n\u001B[0;32m   1367\u001B[0m \u001B[38;5;28;01melse\u001B[39;00m:\n\u001B[1;32m-> 1368\u001B[0m     \u001B[38;5;28;01mreturn\u001B[39;00m DEFAULTPARSER\u001B[38;5;241m.\u001B[39mparse(timestr, \u001B[38;5;241m*\u001B[39m\u001B[38;5;241m*\u001B[39mkwargs)\n",
      "File \u001B[1;32mc:\\users\\priego\\pycharmprojects\\01-intropython\\venv\\lib\\site-packages\\dateutil\\parser\\_parser.py:651\u001B[0m, in \u001B[0;36mparser.parse\u001B[1;34m(self, timestr, default, ignoretz, tzinfos, **kwargs)\u001B[0m\n\u001B[0;32m    650\u001B[0m \u001B[38;5;28;01mexcept\u001B[39;00m \u001B[38;5;167;01mValueError\u001B[39;00m \u001B[38;5;28;01mas\u001B[39;00m e:\n\u001B[1;32m--> 651\u001B[0m     \u001B[43msix\u001B[49m\u001B[38;5;241;43m.\u001B[39;49m\u001B[43mraise_from\u001B[49m\u001B[43m(\u001B[49m\u001B[43mParserError\u001B[49m\u001B[43m(\u001B[49m\u001B[38;5;28;43mstr\u001B[39;49m\u001B[43m(\u001B[49m\u001B[43me\u001B[49m\u001B[43m)\u001B[49m\u001B[43m \u001B[49m\u001B[38;5;241;43m+\u001B[39;49m\u001B[43m \u001B[49m\u001B[38;5;124;43m\"\u001B[39;49m\u001B[38;5;124;43m: \u001B[39;49m\u001B[38;5;132;43;01m%s\u001B[39;49;00m\u001B[38;5;124;43m\"\u001B[39;49m\u001B[43m,\u001B[49m\u001B[43m \u001B[49m\u001B[43mtimestr\u001B[49m\u001B[43m)\u001B[49m\u001B[43m,\u001B[49m\u001B[43m \u001B[49m\u001B[43me\u001B[49m\u001B[43m)\u001B[49m\n\u001B[0;32m    653\u001B[0m \u001B[38;5;28;01mif\u001B[39;00m \u001B[38;5;129;01mnot\u001B[39;00m ignoretz:\n",
      "File \u001B[1;32m<string>:3\u001B[0m, in \u001B[0;36mraise_from\u001B[1;34m(value, from_value)\u001B[0m\n",
      "\u001B[1;31mParserError\u001B[0m: month must be in 1..12: 1943-00-00",
      "\nDuring handling of the above exception, another exception occurred:\n",
      "\u001B[1;31mTypeError\u001B[0m                                 Traceback (most recent call last)",
      "File \u001B[1;32mc:\\users\\priego\\pycharmprojects\\01-intropython\\venv\\lib\\site-packages\\pandas\\_libs\\tslib.pyx:547\u001B[0m, in \u001B[0;36mpandas._libs.tslib.array_to_datetime\u001B[1;34m()\u001B[0m\n",
      "\u001B[1;31mTypeError\u001B[0m: invalid string coercion to datetime",
      "\nDuring handling of the above exception, another exception occurred:\n",
      "\u001B[1;31mValueError\u001B[0m                                Traceback (most recent call last)",
      "File \u001B[1;32mc:\\users\\priego\\pycharmprojects\\01-intropython\\venv\\lib\\site-packages\\dateutil\\parser\\_parser.py:649\u001B[0m, in \u001B[0;36mparser.parse\u001B[1;34m(self, timestr, default, ignoretz, tzinfos, **kwargs)\u001B[0m\n\u001B[0;32m    648\u001B[0m \u001B[38;5;28;01mtry\u001B[39;00m:\n\u001B[1;32m--> 649\u001B[0m     ret \u001B[38;5;241m=\u001B[39m \u001B[38;5;28;43mself\u001B[39;49m\u001B[38;5;241;43m.\u001B[39;49m\u001B[43m_build_naive\u001B[49m\u001B[43m(\u001B[49m\u001B[43mres\u001B[49m\u001B[43m,\u001B[49m\u001B[43m \u001B[49m\u001B[43mdefault\u001B[49m\u001B[43m)\u001B[49m\n\u001B[0;32m    650\u001B[0m \u001B[38;5;28;01mexcept\u001B[39;00m \u001B[38;5;167;01mValueError\u001B[39;00m \u001B[38;5;28;01mas\u001B[39;00m e:\n",
      "File \u001B[1;32mc:\\users\\priego\\pycharmprojects\\01-intropython\\venv\\lib\\site-packages\\dateutil\\parser\\_parser.py:1235\u001B[0m, in \u001B[0;36mparser._build_naive\u001B[1;34m(self, res, default)\u001B[0m\n\u001B[0;32m   1233\u001B[0m         repl[\u001B[38;5;124m'\u001B[39m\u001B[38;5;124mday\u001B[39m\u001B[38;5;124m'\u001B[39m] \u001B[38;5;241m=\u001B[39m monthrange(cyear, cmonth)[\u001B[38;5;241m1\u001B[39m]\n\u001B[1;32m-> 1235\u001B[0m naive \u001B[38;5;241m=\u001B[39m default\u001B[38;5;241m.\u001B[39mreplace(\u001B[38;5;241m*\u001B[39m\u001B[38;5;241m*\u001B[39mrepl)\n\u001B[0;32m   1237\u001B[0m \u001B[38;5;28;01mif\u001B[39;00m res\u001B[38;5;241m.\u001B[39mweekday \u001B[38;5;129;01mis\u001B[39;00m \u001B[38;5;129;01mnot\u001B[39;00m \u001B[38;5;28;01mNone\u001B[39;00m \u001B[38;5;129;01mand\u001B[39;00m \u001B[38;5;129;01mnot\u001B[39;00m res\u001B[38;5;241m.\u001B[39mday:\n",
      "\u001B[1;31mValueError\u001B[0m: month must be in 1..12",
      "\nThe above exception was the direct cause of the following exception:\n",
      "\u001B[1;31mParserError\u001B[0m                               Traceback (most recent call last)",
      "Input \u001B[1;32mIn [110]\u001B[0m, in \u001B[0;36m<cell line: 1>\u001B[1;34m()\u001B[0m\n\u001B[1;32m----> 1\u001B[0m \u001B[43mpd\u001B[49m\u001B[38;5;241;43m.\u001B[39;49m\u001B[43mto_datetime\u001B[49m\u001B[43m(\u001B[49m\u001B[43mdf\u001B[49m\u001B[38;5;241;43m.\u001B[39;49m\u001B[43mbirth_date\u001B[49m\u001B[43m)\u001B[49m\n",
      "File \u001B[1;32mc:\\users\\priego\\pycharmprojects\\01-intropython\\venv\\lib\\site-packages\\pandas\\core\\tools\\datetimes.py:1051\u001B[0m, in \u001B[0;36mto_datetime\u001B[1;34m(arg, errors, dayfirst, yearfirst, utc, format, exact, unit, infer_datetime_format, origin, cache)\u001B[0m\n\u001B[0;32m   1049\u001B[0m         result \u001B[38;5;241m=\u001B[39m arg\u001B[38;5;241m.\u001B[39mmap(cache_array)\n\u001B[0;32m   1050\u001B[0m     \u001B[38;5;28;01melse\u001B[39;00m:\n\u001B[1;32m-> 1051\u001B[0m         values \u001B[38;5;241m=\u001B[39m \u001B[43mconvert_listlike\u001B[49m\u001B[43m(\u001B[49m\u001B[43marg\u001B[49m\u001B[38;5;241;43m.\u001B[39;49m\u001B[43m_values\u001B[49m\u001B[43m,\u001B[49m\u001B[43m \u001B[49m\u001B[38;5;28;43mformat\u001B[39;49m\u001B[43m)\u001B[49m\n\u001B[0;32m   1052\u001B[0m         result \u001B[38;5;241m=\u001B[39m arg\u001B[38;5;241m.\u001B[39m_constructor(values, index\u001B[38;5;241m=\u001B[39marg\u001B[38;5;241m.\u001B[39mindex, name\u001B[38;5;241m=\u001B[39marg\u001B[38;5;241m.\u001B[39mname)\n\u001B[0;32m   1053\u001B[0m \u001B[38;5;28;01melif\u001B[39;00m \u001B[38;5;28misinstance\u001B[39m(arg, (ABCDataFrame, abc\u001B[38;5;241m.\u001B[39mMutableMapping)):\n",
      "File \u001B[1;32mc:\\users\\priego\\pycharmprojects\\01-intropython\\venv\\lib\\site-packages\\pandas\\core\\tools\\datetimes.py:402\u001B[0m, in \u001B[0;36m_convert_listlike_datetimes\u001B[1;34m(arg, format, name, tz, unit, errors, infer_datetime_format, dayfirst, yearfirst, exact)\u001B[0m\n\u001B[0;32m    400\u001B[0m \u001B[38;5;28;01massert\u001B[39;00m \u001B[38;5;28mformat\u001B[39m \u001B[38;5;129;01mis\u001B[39;00m \u001B[38;5;28;01mNone\u001B[39;00m \u001B[38;5;129;01mor\u001B[39;00m infer_datetime_format\n\u001B[0;32m    401\u001B[0m utc \u001B[38;5;241m=\u001B[39m tz \u001B[38;5;241m==\u001B[39m \u001B[38;5;124m\"\u001B[39m\u001B[38;5;124mutc\u001B[39m\u001B[38;5;124m\"\u001B[39m\n\u001B[1;32m--> 402\u001B[0m result, tz_parsed \u001B[38;5;241m=\u001B[39m \u001B[43mobjects_to_datetime64ns\u001B[49m\u001B[43m(\u001B[49m\n\u001B[0;32m    403\u001B[0m \u001B[43m    \u001B[49m\u001B[43marg\u001B[49m\u001B[43m,\u001B[49m\n\u001B[0;32m    404\u001B[0m \u001B[43m    \u001B[49m\u001B[43mdayfirst\u001B[49m\u001B[38;5;241;43m=\u001B[39;49m\u001B[43mdayfirst\u001B[49m\u001B[43m,\u001B[49m\n\u001B[0;32m    405\u001B[0m \u001B[43m    \u001B[49m\u001B[43myearfirst\u001B[49m\u001B[38;5;241;43m=\u001B[39;49m\u001B[43myearfirst\u001B[49m\u001B[43m,\u001B[49m\n\u001B[0;32m    406\u001B[0m \u001B[43m    \u001B[49m\u001B[43mutc\u001B[49m\u001B[38;5;241;43m=\u001B[39;49m\u001B[43mutc\u001B[49m\u001B[43m,\u001B[49m\n\u001B[0;32m    407\u001B[0m \u001B[43m    \u001B[49m\u001B[43merrors\u001B[49m\u001B[38;5;241;43m=\u001B[39;49m\u001B[43merrors\u001B[49m\u001B[43m,\u001B[49m\n\u001B[0;32m    408\u001B[0m \u001B[43m    \u001B[49m\u001B[43mrequire_iso8601\u001B[49m\u001B[38;5;241;43m=\u001B[39;49m\u001B[43mrequire_iso8601\u001B[49m\u001B[43m,\u001B[49m\n\u001B[0;32m    409\u001B[0m \u001B[43m    \u001B[49m\u001B[43mallow_object\u001B[49m\u001B[38;5;241;43m=\u001B[39;49m\u001B[38;5;28;43;01mTrue\u001B[39;49;00m\u001B[43m,\u001B[49m\n\u001B[0;32m    410\u001B[0m \u001B[43m\u001B[49m\u001B[43m)\u001B[49m\n\u001B[0;32m    412\u001B[0m \u001B[38;5;28;01mif\u001B[39;00m tz_parsed \u001B[38;5;129;01mis\u001B[39;00m \u001B[38;5;129;01mnot\u001B[39;00m \u001B[38;5;28;01mNone\u001B[39;00m:\n\u001B[0;32m    413\u001B[0m     \u001B[38;5;66;03m# We can take a shortcut since the datetime64 numpy array\u001B[39;00m\n\u001B[0;32m    414\u001B[0m     \u001B[38;5;66;03m# is in UTC\u001B[39;00m\n\u001B[0;32m    415\u001B[0m     dta \u001B[38;5;241m=\u001B[39m DatetimeArray(result, dtype\u001B[38;5;241m=\u001B[39mtz_to_dtype(tz_parsed))\n",
      "File \u001B[1;32mc:\\users\\priego\\pycharmprojects\\01-intropython\\venv\\lib\\site-packages\\pandas\\core\\arrays\\datetimes.py:2217\u001B[0m, in \u001B[0;36mobjects_to_datetime64ns\u001B[1;34m(data, dayfirst, yearfirst, utc, errors, require_iso8601, allow_object, allow_mixed)\u001B[0m\n\u001B[0;32m   2215\u001B[0m         \u001B[38;5;28;01mreturn\u001B[39;00m values\u001B[38;5;241m.\u001B[39mview(\u001B[38;5;124m\"\u001B[39m\u001B[38;5;124mi8\u001B[39m\u001B[38;5;124m\"\u001B[39m), tz_parsed\n\u001B[0;32m   2216\u001B[0m     \u001B[38;5;28;01mexcept\u001B[39;00m (\u001B[38;5;167;01mValueError\u001B[39;00m, \u001B[38;5;167;01mTypeError\u001B[39;00m):\n\u001B[1;32m-> 2217\u001B[0m         \u001B[38;5;28;01mraise\u001B[39;00m err\n\u001B[0;32m   2219\u001B[0m \u001B[38;5;28;01mif\u001B[39;00m tz_parsed \u001B[38;5;129;01mis\u001B[39;00m \u001B[38;5;129;01mnot\u001B[39;00m \u001B[38;5;28;01mNone\u001B[39;00m:\n\u001B[0;32m   2220\u001B[0m     \u001B[38;5;66;03m# We can take a shortcut since the datetime64 numpy array\u001B[39;00m\n\u001B[0;32m   2221\u001B[0m     \u001B[38;5;66;03m#  is in UTC\u001B[39;00m\n\u001B[0;32m   2222\u001B[0m     \u001B[38;5;66;03m# Return i8 values to denote unix timestamps\u001B[39;00m\n\u001B[0;32m   2223\u001B[0m     \u001B[38;5;28;01mreturn\u001B[39;00m result\u001B[38;5;241m.\u001B[39mview(\u001B[38;5;124m\"\u001B[39m\u001B[38;5;124mi8\u001B[39m\u001B[38;5;124m\"\u001B[39m), tz_parsed\n",
      "File \u001B[1;32mc:\\users\\priego\\pycharmprojects\\01-intropython\\venv\\lib\\site-packages\\pandas\\core\\arrays\\datetimes.py:2199\u001B[0m, in \u001B[0;36mobjects_to_datetime64ns\u001B[1;34m(data, dayfirst, yearfirst, utc, errors, require_iso8601, allow_object, allow_mixed)\u001B[0m\n\u001B[0;32m   2197\u001B[0m order: Literal[\u001B[38;5;124m\"\u001B[39m\u001B[38;5;124mF\u001B[39m\u001B[38;5;124m\"\u001B[39m, \u001B[38;5;124m\"\u001B[39m\u001B[38;5;124mC\u001B[39m\u001B[38;5;124m\"\u001B[39m] \u001B[38;5;241m=\u001B[39m \u001B[38;5;124m\"\u001B[39m\u001B[38;5;124mF\u001B[39m\u001B[38;5;124m\"\u001B[39m \u001B[38;5;28;01mif\u001B[39;00m flags\u001B[38;5;241m.\u001B[39mf_contiguous \u001B[38;5;28;01melse\u001B[39;00m \u001B[38;5;124m\"\u001B[39m\u001B[38;5;124mC\u001B[39m\u001B[38;5;124m\"\u001B[39m\n\u001B[0;32m   2198\u001B[0m \u001B[38;5;28;01mtry\u001B[39;00m:\n\u001B[1;32m-> 2199\u001B[0m     result, tz_parsed \u001B[38;5;241m=\u001B[39m \u001B[43mtslib\u001B[49m\u001B[38;5;241;43m.\u001B[39;49m\u001B[43marray_to_datetime\u001B[49m\u001B[43m(\u001B[49m\n\u001B[0;32m   2200\u001B[0m \u001B[43m        \u001B[49m\u001B[43mdata\u001B[49m\u001B[38;5;241;43m.\u001B[39;49m\u001B[43mravel\u001B[49m\u001B[43m(\u001B[49m\u001B[38;5;124;43m\"\u001B[39;49m\u001B[38;5;124;43mK\u001B[39;49m\u001B[38;5;124;43m\"\u001B[39;49m\u001B[43m)\u001B[49m\u001B[43m,\u001B[49m\n\u001B[0;32m   2201\u001B[0m \u001B[43m        \u001B[49m\u001B[43merrors\u001B[49m\u001B[38;5;241;43m=\u001B[39;49m\u001B[43merrors\u001B[49m\u001B[43m,\u001B[49m\n\u001B[0;32m   2202\u001B[0m \u001B[43m        \u001B[49m\u001B[43mutc\u001B[49m\u001B[38;5;241;43m=\u001B[39;49m\u001B[43mutc\u001B[49m\u001B[43m,\u001B[49m\n\u001B[0;32m   2203\u001B[0m \u001B[43m        \u001B[49m\u001B[43mdayfirst\u001B[49m\u001B[38;5;241;43m=\u001B[39;49m\u001B[43mdayfirst\u001B[49m\u001B[43m,\u001B[49m\n\u001B[0;32m   2204\u001B[0m \u001B[43m        \u001B[49m\u001B[43myearfirst\u001B[49m\u001B[38;5;241;43m=\u001B[39;49m\u001B[43myearfirst\u001B[49m\u001B[43m,\u001B[49m\n\u001B[0;32m   2205\u001B[0m \u001B[43m        \u001B[49m\u001B[43mrequire_iso8601\u001B[49m\u001B[38;5;241;43m=\u001B[39;49m\u001B[43mrequire_iso8601\u001B[49m\u001B[43m,\u001B[49m\n\u001B[0;32m   2206\u001B[0m \u001B[43m        \u001B[49m\u001B[43mallow_mixed\u001B[49m\u001B[38;5;241;43m=\u001B[39;49m\u001B[43mallow_mixed\u001B[49m\u001B[43m,\u001B[49m\n\u001B[0;32m   2207\u001B[0m \u001B[43m    \u001B[49m\u001B[43m)\u001B[49m\n\u001B[0;32m   2208\u001B[0m     result \u001B[38;5;241m=\u001B[39m result\u001B[38;5;241m.\u001B[39mreshape(data\u001B[38;5;241m.\u001B[39mshape, order\u001B[38;5;241m=\u001B[39morder)\n\u001B[0;32m   2209\u001B[0m \u001B[38;5;28;01mexcept\u001B[39;00m \u001B[38;5;167;01mValueError\u001B[39;00m \u001B[38;5;28;01mas\u001B[39;00m err:\n",
      "File \u001B[1;32mc:\\users\\priego\\pycharmprojects\\01-intropython\\venv\\lib\\site-packages\\pandas\\_libs\\tslib.pyx:381\u001B[0m, in \u001B[0;36mpandas._libs.tslib.array_to_datetime\u001B[1;34m()\u001B[0m\n",
      "File \u001B[1;32mc:\\users\\priego\\pycharmprojects\\01-intropython\\venv\\lib\\site-packages\\pandas\\_libs\\tslib.pyx:613\u001B[0m, in \u001B[0;36mpandas._libs.tslib.array_to_datetime\u001B[1;34m()\u001B[0m\n",
      "File \u001B[1;32mc:\\users\\priego\\pycharmprojects\\01-intropython\\venv\\lib\\site-packages\\pandas\\_libs\\tslib.pyx:751\u001B[0m, in \u001B[0;36mpandas._libs.tslib._array_to_datetime_object\u001B[1;34m()\u001B[0m\n",
      "File \u001B[1;32mc:\\users\\priego\\pycharmprojects\\01-intropython\\venv\\lib\\site-packages\\pandas\\_libs\\tslib.pyx:742\u001B[0m, in \u001B[0;36mpandas._libs.tslib._array_to_datetime_object\u001B[1;34m()\u001B[0m\n",
      "File \u001B[1;32mc:\\users\\priego\\pycharmprojects\\01-intropython\\venv\\lib\\site-packages\\pandas\\_libs\\tslibs\\parsing.pyx:281\u001B[0m, in \u001B[0;36mpandas._libs.tslibs.parsing.parse_datetime_string\u001B[1;34m()\u001B[0m\n",
      "File \u001B[1;32mc:\\users\\priego\\pycharmprojects\\01-intropython\\venv\\lib\\site-packages\\dateutil\\parser\\_parser.py:1368\u001B[0m, in \u001B[0;36mparse\u001B[1;34m(timestr, parserinfo, **kwargs)\u001B[0m\n\u001B[0;32m   1366\u001B[0m     \u001B[38;5;28;01mreturn\u001B[39;00m parser(parserinfo)\u001B[38;5;241m.\u001B[39mparse(timestr, \u001B[38;5;241m*\u001B[39m\u001B[38;5;241m*\u001B[39mkwargs)\n\u001B[0;32m   1367\u001B[0m \u001B[38;5;28;01melse\u001B[39;00m:\n\u001B[1;32m-> 1368\u001B[0m     \u001B[38;5;28;01mreturn\u001B[39;00m DEFAULTPARSER\u001B[38;5;241m.\u001B[39mparse(timestr, \u001B[38;5;241m*\u001B[39m\u001B[38;5;241m*\u001B[39mkwargs)\n",
      "File \u001B[1;32mc:\\users\\priego\\pycharmprojects\\01-intropython\\venv\\lib\\site-packages\\dateutil\\parser\\_parser.py:651\u001B[0m, in \u001B[0;36mparser.parse\u001B[1;34m(self, timestr, default, ignoretz, tzinfos, **kwargs)\u001B[0m\n\u001B[0;32m    649\u001B[0m     ret \u001B[38;5;241m=\u001B[39m \u001B[38;5;28mself\u001B[39m\u001B[38;5;241m.\u001B[39m_build_naive(res, default)\n\u001B[0;32m    650\u001B[0m \u001B[38;5;28;01mexcept\u001B[39;00m \u001B[38;5;167;01mValueError\u001B[39;00m \u001B[38;5;28;01mas\u001B[39;00m e:\n\u001B[1;32m--> 651\u001B[0m     \u001B[43msix\u001B[49m\u001B[38;5;241;43m.\u001B[39;49m\u001B[43mraise_from\u001B[49m\u001B[43m(\u001B[49m\u001B[43mParserError\u001B[49m\u001B[43m(\u001B[49m\u001B[38;5;28;43mstr\u001B[39;49m\u001B[43m(\u001B[49m\u001B[43me\u001B[49m\u001B[43m)\u001B[49m\u001B[43m \u001B[49m\u001B[38;5;241;43m+\u001B[39;49m\u001B[43m \u001B[49m\u001B[38;5;124;43m\"\u001B[39;49m\u001B[38;5;124;43m: \u001B[39;49m\u001B[38;5;132;43;01m%s\u001B[39;49;00m\u001B[38;5;124;43m\"\u001B[39;49m\u001B[43m,\u001B[49m\u001B[43m \u001B[49m\u001B[43mtimestr\u001B[49m\u001B[43m)\u001B[49m\u001B[43m,\u001B[49m\u001B[43m \u001B[49m\u001B[43me\u001B[49m\u001B[43m)\u001B[49m\n\u001B[0;32m    653\u001B[0m \u001B[38;5;28;01mif\u001B[39;00m \u001B[38;5;129;01mnot\u001B[39;00m ignoretz:\n\u001B[0;32m    654\u001B[0m     ret \u001B[38;5;241m=\u001B[39m \u001B[38;5;28mself\u001B[39m\u001B[38;5;241m.\u001B[39m_build_tzaware(ret, res, tzinfos)\n",
      "File \u001B[1;32m<string>:3\u001B[0m, in \u001B[0;36mraise_from\u001B[1;34m(value, from_value)\u001B[0m\n",
      "\u001B[1;31mParserError\u001B[0m: month must be in 1..12: 1943-00-00"
     ]
    }
   ],
   "source": [
    "pd.to_datetime(df.birth_date)"
   ],
   "metadata": {
    "collapsed": false,
    "pycharm": {
     "name": "#%%\n"
    }
   }
  },
  {
   "cell_type": "code",
   "execution_count": 111,
   "id": "5dc11bfd",
   "metadata": {},
   "outputs": [],
   "source": [
    "df['birth_date'] = df.birth_date.str.replace('00','01')"
   ]
  },
  {
   "cell_type": "code",
   "execution_count": 112,
   "id": "b64ecb29",
   "metadata": {},
   "outputs": [],
   "source": [
    "df['bd'] = pd.to_datetime(df.birth_date)"
   ]
  },
  {
   "cell_type": "code",
   "execution_count": 116,
   "outputs": [
    {
     "data": {
      "text/plain": "0      1943.0\n1      1922.0\n2      1947.0\n3      1926.0\n4      1926.0\n        ...  \n945    1908.0\n946    1901.0\n947    1867.0\n948       NaN\n949       NaN\nName: bd, Length: 950, dtype: float64"
     },
     "execution_count": 116,
     "metadata": {},
     "output_type": "execute_result"
    }
   ],
   "source": [
    "df['bd'].dt.year"
   ],
   "metadata": {
    "collapsed": false,
    "pycharm": {
     "name": "#%%\n"
    }
   }
  },
  {
   "cell_type": "code",
   "execution_count": 117,
   "id": "74f93ce4",
   "metadata": {},
   "outputs": [],
   "source": [
    "df['age_awarded'] = df.awardYear - df.bd.dt.year"
   ]
  },
  {
   "cell_type": "code",
   "execution_count": 118,
   "id": "ad23666a",
   "metadata": {},
   "outputs": [
    {
     "data": {
      "text/plain": "                   category  awardYear  age_awarded                   name\n503  Physiology or Medicine       1973         87.0        Karl von Frisch\n572               Chemistry       2013         83.0         Martin Karplus\n683              Literature       2019         77.0           Peter Handke\n892               Chemistry       1998         75.0            Walter Kohn\n269       Economic Sciences       1974         75.0    Friedrich von Hayek\n218  Physiology or Medicine       2000         71.0            Eric Kandel\n497  Physiology or Medicine       1927         70.0  Julius Wagner-Jauregg\n520  Physiology or Medicine       1973         70.0          Konrad Lorenz\n502  Physiology or Medicine       1930         62.0       Karl Landsteiner\n726               Chemistry       1925         60.0      Richard Zsigmondy\n201              Literature       2004         58.0       Elfriede Jelinek\n884                 Physics       1936         53.0         Victor F. Hess\n585               Chemistry       1962         48.0          Max F. Perutz\n36                    Peace       1911         47.0           Alfred Fried\n230                 Physics       1933         46.0      Erwin Schrödinger\n933                 Physics       1945         44.0         Wolfgang Pauli\n733  Physiology or Medicine       1914         38.0          Robert Bárány\n719               Chemistry       1938         37.0           Richard Kuhn",
      "text/html": "<div>\n<style scoped>\n    .dataframe tbody tr th:only-of-type {\n        vertical-align: middle;\n    }\n\n    .dataframe tbody tr th {\n        vertical-align: top;\n    }\n\n    .dataframe thead th {\n        text-align: right;\n    }\n</style>\n<table border=\"1\" class=\"dataframe\">\n  <thead>\n    <tr style=\"text-align: right;\">\n      <th></th>\n      <th>category</th>\n      <th>awardYear</th>\n      <th>age_awarded</th>\n      <th>name</th>\n    </tr>\n  </thead>\n  <tbody>\n    <tr>\n      <th>503</th>\n      <td>Physiology or Medicine</td>\n      <td>1973</td>\n      <td>87.0</td>\n      <td>Karl von Frisch</td>\n    </tr>\n    <tr>\n      <th>572</th>\n      <td>Chemistry</td>\n      <td>2013</td>\n      <td>83.0</td>\n      <td>Martin Karplus</td>\n    </tr>\n    <tr>\n      <th>683</th>\n      <td>Literature</td>\n      <td>2019</td>\n      <td>77.0</td>\n      <td>Peter Handke</td>\n    </tr>\n    <tr>\n      <th>892</th>\n      <td>Chemistry</td>\n      <td>1998</td>\n      <td>75.0</td>\n      <td>Walter Kohn</td>\n    </tr>\n    <tr>\n      <th>269</th>\n      <td>Economic Sciences</td>\n      <td>1974</td>\n      <td>75.0</td>\n      <td>Friedrich von Hayek</td>\n    </tr>\n    <tr>\n      <th>218</th>\n      <td>Physiology or Medicine</td>\n      <td>2000</td>\n      <td>71.0</td>\n      <td>Eric Kandel</td>\n    </tr>\n    <tr>\n      <th>497</th>\n      <td>Physiology or Medicine</td>\n      <td>1927</td>\n      <td>70.0</td>\n      <td>Julius Wagner-Jauregg</td>\n    </tr>\n    <tr>\n      <th>520</th>\n      <td>Physiology or Medicine</td>\n      <td>1973</td>\n      <td>70.0</td>\n      <td>Konrad Lorenz</td>\n    </tr>\n    <tr>\n      <th>502</th>\n      <td>Physiology or Medicine</td>\n      <td>1930</td>\n      <td>62.0</td>\n      <td>Karl Landsteiner</td>\n    </tr>\n    <tr>\n      <th>726</th>\n      <td>Chemistry</td>\n      <td>1925</td>\n      <td>60.0</td>\n      <td>Richard Zsigmondy</td>\n    </tr>\n    <tr>\n      <th>201</th>\n      <td>Literature</td>\n      <td>2004</td>\n      <td>58.0</td>\n      <td>Elfriede Jelinek</td>\n    </tr>\n    <tr>\n      <th>884</th>\n      <td>Physics</td>\n      <td>1936</td>\n      <td>53.0</td>\n      <td>Victor F. Hess</td>\n    </tr>\n    <tr>\n      <th>585</th>\n      <td>Chemistry</td>\n      <td>1962</td>\n      <td>48.0</td>\n      <td>Max F. Perutz</td>\n    </tr>\n    <tr>\n      <th>36</th>\n      <td>Peace</td>\n      <td>1911</td>\n      <td>47.0</td>\n      <td>Alfred Fried</td>\n    </tr>\n    <tr>\n      <th>230</th>\n      <td>Physics</td>\n      <td>1933</td>\n      <td>46.0</td>\n      <td>Erwin Schrödinger</td>\n    </tr>\n    <tr>\n      <th>933</th>\n      <td>Physics</td>\n      <td>1945</td>\n      <td>44.0</td>\n      <td>Wolfgang Pauli</td>\n    </tr>\n    <tr>\n      <th>733</th>\n      <td>Physiology or Medicine</td>\n      <td>1914</td>\n      <td>38.0</td>\n      <td>Robert Bárány</td>\n    </tr>\n    <tr>\n      <th>719</th>\n      <td>Chemistry</td>\n      <td>1938</td>\n      <td>37.0</td>\n      <td>Richard Kuhn</td>\n    </tr>\n  </tbody>\n</table>\n</div>"
     },
     "execution_count": 118,
     "metadata": {},
     "output_type": "execute_result"
    }
   ],
   "source": [
    "df[df.birth_countryNow == 'Austria'].\\\n",
    "    sort_values('age_awarded', ascending = False)\\\n",
    "[['category','awardYear','age_awarded','name']]"
   ]
  },
  {
   "cell_type": "code",
   "execution_count": 119,
   "id": "0c0d67ca",
   "metadata": {},
   "outputs": [
    {
     "data": {
      "text/plain": "'Karl von Frisch'"
     },
     "execution_count": 119,
     "metadata": {},
     "output_type": "execute_result"
    }
   ],
   "source": [
    "df[df.birth_countryNow == 'Austria'].sort_values('age_awarded', ascending = False)\\\n",
    ".iloc[0]['name']"
   ]
  },
  {
   "cell_type": "markdown",
   "id": "11686495",
   "metadata": {},
   "source": [
    "(5)"
   ]
  },
  {
   "cell_type": "code",
   "execution_count": 121,
   "id": "23762589",
   "metadata": {},
   "outputs": [
    {
     "data": {
      "text/plain": "7"
     },
     "execution_count": 121,
     "metadata": {},
     "output_type": "execute_result"
    }
   ],
   "source": [
    "df[df.birth_countryNow == \"Spain\"].shape[0]"
   ]
  },
  {
   "cell_type": "markdown",
   "id": "7ca23061",
   "metadata": {},
   "source": [
    "(6)"
   ]
  },
  {
   "cell_type": "code",
   "execution_count": 122,
   "id": "cbbf0208",
   "metadata": {},
   "outputs": [],
   "source": [
    "current_year = datetime.datetime.now().year"
   ]
  },
  {
   "cell_type": "code",
   "execution_count": 123,
   "id": "aa7bd872",
   "metadata": {},
   "outputs": [
    {
     "data": {
      "text/plain": "     awardYear                category  \\\n111       1989              Literature   \n411       1922              Literature   \n480       1904              Literature   \n492       1956              Literature   \n782       1906  Physiology or Medicine   \n791       1959  Physiology or Medicine   \n883       1977              Literature   \n\n                              categoryFullName  sortOrder portion  \\\n111             The Nobel Prize in  Literature          1       1   \n411             The Nobel Prize in  Literature          1       1   \n480             The Nobel Prize in  Literature          2     1/2   \n492             The Nobel Prize in  Literature          1       1   \n782  The Nobel Prize in Physiology or Medicine          2     1/2   \n791  The Nobel Prize in Physiology or Medicine          1     1/2   \n883             The Nobel Prize in  Literature          1       1   \n\n     prizeAmount  prizeAmountAdjusted dateAwarded prizeStatus  \\\n111      3000000              5242311         NaN    received   \n411       122483              3145967         NaN    received   \n480       140859              7767960         NaN    received   \n492       200123              2699501         NaN    received   \n782       138536              7421571         NaN    received   \n791       220678              2704387         NaN    received   \n883       700000              3080986         NaN    received   \n\n                                            motivation  ...  \\\n111  for a rich and intensive prose, which with res...  ...   \n411  for the happy manner in which he has continued...  ...   \n480  in recognition of the numerous and brilliant c...  ...   \n492  for his lyrical poetry, which in Spanish langu...  ...   \n782  in recognition of their work on the structure ...  ...   \n791  for their discovery of the mechanisms in the b...  ...   \n883  for a creative poetic writing which illuminate...  ...   \n\n    org_founded_locationString  ind_or_org  residence_1 residence_2  \\\n111                        NaN  Individual        Spain         NaN   \n411                        NaN  Individual        Spain         NaN   \n480                        NaN  Individual        Spain         NaN   \n492                        NaN  Individual        Spain         NaN   \n782                        NaN  Individual          NaN         NaN   \n791                        NaN  Individual          NaN         NaN   \n883                        NaN  Individual        Spain         NaN   \n\n                                         affiliation_1 affiliation_2  \\\n111                                                NaN           NaN   \n411                                                NaN           NaN   \n480                                                NaN           NaN   \n492                                                NaN           NaN   \n782                   Madrid University, Madrid, Spain           NaN   \n791  New York University, College of Medicine, New ...           NaN   \n883                                                NaN           NaN   \n\n    affiliation_3 affiliation_4         bd age_awarded  \n111           NaN           NaN 1916-05-11        73.0  \n411           NaN           NaN 1866-08-12        56.0  \n480           NaN           NaN 1832-04-19        72.0  \n492           NaN           NaN 1881-12-24        75.0  \n782           NaN           NaN 1852-05-01        54.0  \n791           NaN           NaN 1905-09-24        54.0  \n883           NaN           NaN 1898-04-26        79.0  \n\n[7 rows x 54 columns]",
      "text/html": "<div>\n<style scoped>\n    .dataframe tbody tr th:only-of-type {\n        vertical-align: middle;\n    }\n\n    .dataframe tbody tr th {\n        vertical-align: top;\n    }\n\n    .dataframe thead th {\n        text-align: right;\n    }\n</style>\n<table border=\"1\" class=\"dataframe\">\n  <thead>\n    <tr style=\"text-align: right;\">\n      <th></th>\n      <th>awardYear</th>\n      <th>category</th>\n      <th>categoryFullName</th>\n      <th>sortOrder</th>\n      <th>portion</th>\n      <th>prizeAmount</th>\n      <th>prizeAmountAdjusted</th>\n      <th>dateAwarded</th>\n      <th>prizeStatus</th>\n      <th>motivation</th>\n      <th>...</th>\n      <th>org_founded_locationString</th>\n      <th>ind_or_org</th>\n      <th>residence_1</th>\n      <th>residence_2</th>\n      <th>affiliation_1</th>\n      <th>affiliation_2</th>\n      <th>affiliation_3</th>\n      <th>affiliation_4</th>\n      <th>bd</th>\n      <th>age_awarded</th>\n    </tr>\n  </thead>\n  <tbody>\n    <tr>\n      <th>111</th>\n      <td>1989</td>\n      <td>Literature</td>\n      <td>The Nobel Prize in  Literature</td>\n      <td>1</td>\n      <td>1</td>\n      <td>3000000</td>\n      <td>5242311</td>\n      <td>NaN</td>\n      <td>received</td>\n      <td>for a rich and intensive prose, which with res...</td>\n      <td>...</td>\n      <td>NaN</td>\n      <td>Individual</td>\n      <td>Spain</td>\n      <td>NaN</td>\n      <td>NaN</td>\n      <td>NaN</td>\n      <td>NaN</td>\n      <td>NaN</td>\n      <td>1916-05-11</td>\n      <td>73.0</td>\n    </tr>\n    <tr>\n      <th>411</th>\n      <td>1922</td>\n      <td>Literature</td>\n      <td>The Nobel Prize in  Literature</td>\n      <td>1</td>\n      <td>1</td>\n      <td>122483</td>\n      <td>3145967</td>\n      <td>NaN</td>\n      <td>received</td>\n      <td>for the happy manner in which he has continued...</td>\n      <td>...</td>\n      <td>NaN</td>\n      <td>Individual</td>\n      <td>Spain</td>\n      <td>NaN</td>\n      <td>NaN</td>\n      <td>NaN</td>\n      <td>NaN</td>\n      <td>NaN</td>\n      <td>1866-08-12</td>\n      <td>56.0</td>\n    </tr>\n    <tr>\n      <th>480</th>\n      <td>1904</td>\n      <td>Literature</td>\n      <td>The Nobel Prize in  Literature</td>\n      <td>2</td>\n      <td>1/2</td>\n      <td>140859</td>\n      <td>7767960</td>\n      <td>NaN</td>\n      <td>received</td>\n      <td>in recognition of the numerous and brilliant c...</td>\n      <td>...</td>\n      <td>NaN</td>\n      <td>Individual</td>\n      <td>Spain</td>\n      <td>NaN</td>\n      <td>NaN</td>\n      <td>NaN</td>\n      <td>NaN</td>\n      <td>NaN</td>\n      <td>1832-04-19</td>\n      <td>72.0</td>\n    </tr>\n    <tr>\n      <th>492</th>\n      <td>1956</td>\n      <td>Literature</td>\n      <td>The Nobel Prize in  Literature</td>\n      <td>1</td>\n      <td>1</td>\n      <td>200123</td>\n      <td>2699501</td>\n      <td>NaN</td>\n      <td>received</td>\n      <td>for his lyrical poetry, which in Spanish langu...</td>\n      <td>...</td>\n      <td>NaN</td>\n      <td>Individual</td>\n      <td>Spain</td>\n      <td>NaN</td>\n      <td>NaN</td>\n      <td>NaN</td>\n      <td>NaN</td>\n      <td>NaN</td>\n      <td>1881-12-24</td>\n      <td>75.0</td>\n    </tr>\n    <tr>\n      <th>782</th>\n      <td>1906</td>\n      <td>Physiology or Medicine</td>\n      <td>The Nobel Prize in Physiology or Medicine</td>\n      <td>2</td>\n      <td>1/2</td>\n      <td>138536</td>\n      <td>7421571</td>\n      <td>NaN</td>\n      <td>received</td>\n      <td>in recognition of their work on the structure ...</td>\n      <td>...</td>\n      <td>NaN</td>\n      <td>Individual</td>\n      <td>NaN</td>\n      <td>NaN</td>\n      <td>Madrid University, Madrid, Spain</td>\n      <td>NaN</td>\n      <td>NaN</td>\n      <td>NaN</td>\n      <td>1852-05-01</td>\n      <td>54.0</td>\n    </tr>\n    <tr>\n      <th>791</th>\n      <td>1959</td>\n      <td>Physiology or Medicine</td>\n      <td>The Nobel Prize in Physiology or Medicine</td>\n      <td>1</td>\n      <td>1/2</td>\n      <td>220678</td>\n      <td>2704387</td>\n      <td>NaN</td>\n      <td>received</td>\n      <td>for their discovery of the mechanisms in the b...</td>\n      <td>...</td>\n      <td>NaN</td>\n      <td>Individual</td>\n      <td>NaN</td>\n      <td>NaN</td>\n      <td>New York University, College of Medicine, New ...</td>\n      <td>NaN</td>\n      <td>NaN</td>\n      <td>NaN</td>\n      <td>1905-09-24</td>\n      <td>54.0</td>\n    </tr>\n    <tr>\n      <th>883</th>\n      <td>1977</td>\n      <td>Literature</td>\n      <td>The Nobel Prize in  Literature</td>\n      <td>1</td>\n      <td>1</td>\n      <td>700000</td>\n      <td>3080986</td>\n      <td>NaN</td>\n      <td>received</td>\n      <td>for a creative poetic writing which illuminate...</td>\n      <td>...</td>\n      <td>NaN</td>\n      <td>Individual</td>\n      <td>Spain</td>\n      <td>NaN</td>\n      <td>NaN</td>\n      <td>NaN</td>\n      <td>NaN</td>\n      <td>NaN</td>\n      <td>1898-04-26</td>\n      <td>79.0</td>\n    </tr>\n  </tbody>\n</table>\n<p>7 rows × 54 columns</p>\n</div>"
     },
     "execution_count": 123,
     "metadata": {},
     "output_type": "execute_result"
    }
   ],
   "source": [
    "spanish = df[df.birth_countryNow == \"Spain\"]\n",
    "spanish"
   ]
  },
  {
   "cell_type": "code",
   "execution_count": 124,
   "id": "b5a085b7",
   "metadata": {},
   "outputs": [
    {
     "name": "stderr",
     "output_type": "stream",
     "text": [
      "C:\\Users\\priego\\AppData\\Local\\Temp\\ipykernel_69244\\3096524763.py:1: SettingWithCopyWarning: \n",
      "A value is trying to be set on a copy of a slice from a DataFrame.\n",
      "Try using .loc[row_indexer,col_indexer] = value instead\n",
      "\n",
      "See the caveats in the documentation: https://pandas.pydata.org/pandas-docs/stable/user_guide/indexing.html#returning-a-view-versus-a-copy\n",
      "  spanish['years_since'] = current_year - spanish.awardYear\n"
     ]
    }
   ],
   "source": [
    "spanish['years_since'] = current_year - spanish.awardYear"
   ]
  },
  {
   "cell_type": "code",
   "execution_count": 125,
   "id": "2aaeb159",
   "metadata": {},
   "outputs": [
    {
     "data": {
      "text/plain": "33"
     },
     "execution_count": 125,
     "metadata": {},
     "output_type": "execute_result"
    }
   ],
   "source": [
    "spanish.years_since.min()"
   ]
  },
  {
   "cell_type": "code",
   "execution_count": 41,
   "id": "cee2f16b",
   "metadata": {},
   "outputs": [
    {
     "data": {
      "text/plain": "     awardYear                category                    name\n111       1989              Literature        Camilo José Cela\n883       1977              Literature      Vicente Aleixandre\n791       1959  Physiology or Medicine            Severo Ochoa\n492       1956              Literature      Juan Ramón Jiménez\n411       1922              Literature       Jacinto Benavente\n782       1906  Physiology or Medicine  Santiago Ramón y Cajal\n480       1904              Literature          José Echegaray",
      "text/html": "<div>\n<style scoped>\n    .dataframe tbody tr th:only-of-type {\n        vertical-align: middle;\n    }\n\n    .dataframe tbody tr th {\n        vertical-align: top;\n    }\n\n    .dataframe thead th {\n        text-align: right;\n    }\n</style>\n<table border=\"1\" class=\"dataframe\">\n  <thead>\n    <tr style=\"text-align: right;\">\n      <th></th>\n      <th>awardYear</th>\n      <th>category</th>\n      <th>name</th>\n    </tr>\n  </thead>\n  <tbody>\n    <tr>\n      <th>111</th>\n      <td>1989</td>\n      <td>Literature</td>\n      <td>Camilo José Cela</td>\n    </tr>\n    <tr>\n      <th>883</th>\n      <td>1977</td>\n      <td>Literature</td>\n      <td>Vicente Aleixandre</td>\n    </tr>\n    <tr>\n      <th>791</th>\n      <td>1959</td>\n      <td>Physiology or Medicine</td>\n      <td>Severo Ochoa</td>\n    </tr>\n    <tr>\n      <th>492</th>\n      <td>1956</td>\n      <td>Literature</td>\n      <td>Juan Ramón Jiménez</td>\n    </tr>\n    <tr>\n      <th>411</th>\n      <td>1922</td>\n      <td>Literature</td>\n      <td>Jacinto Benavente</td>\n    </tr>\n    <tr>\n      <th>782</th>\n      <td>1906</td>\n      <td>Physiology or Medicine</td>\n      <td>Santiago Ramón y Cajal</td>\n    </tr>\n    <tr>\n      <th>480</th>\n      <td>1904</td>\n      <td>Literature</td>\n      <td>José Echegaray</td>\n    </tr>\n  </tbody>\n</table>\n</div>"
     },
     "execution_count": 41,
     "metadata": {},
     "output_type": "execute_result"
    }
   ],
   "source": [
    "spanish.sort_values('years_since')[['awardYear','category','name']]"
   ]
  },
  {
   "cell_type": "markdown",
   "id": "85ebdf93",
   "metadata": {},
   "source": [
    "(7)"
   ]
  },
  {
   "cell_type": "code",
   "execution_count": 126,
   "id": "04b1a76c",
   "metadata": {},
   "outputs": [],
   "source": [
    "df['decade'] = (df.awardYear//10)*10"
   ]
  },
  {
   "cell_type": "code",
   "execution_count": 127,
   "outputs": [
    {
     "data": {
      "text/plain": "decade\n1900     3\n1910     1\n1920     2\n1930     3\n1940     3\n1960     3\n1970     4\n1980     4\n1990     7\n2000    11\n2010    13\ndtype: int64"
     },
     "execution_count": 127,
     "metadata": {},
     "output_type": "execute_result"
    }
   ],
   "source": [
    "df[df.gender == 'female'].groupby('decade').size()"
   ],
   "metadata": {
    "collapsed": false,
    "pycharm": {
     "name": "#%%\n"
    }
   }
  },
  {
   "cell_type": "code",
   "execution_count": 132,
   "outputs": [
    {
     "data": {
      "text/plain": "    decade  num_women\n0     1900          3\n2     1910          1\n4     1920          2\n6     1930          3\n8     1940          3\n11    1960          3\n13    1970          4\n15    1980          4\n17    1990          7\n19    2000         11\n21    2010         13",
      "text/html": "<div>\n<style scoped>\n    .dataframe tbody tr th:only-of-type {\n        vertical-align: middle;\n    }\n\n    .dataframe tbody tr th {\n        vertical-align: top;\n    }\n\n    .dataframe thead th {\n        text-align: right;\n    }\n</style>\n<table border=\"1\" class=\"dataframe\">\n  <thead>\n    <tr style=\"text-align: right;\">\n      <th></th>\n      <th>decade</th>\n      <th>num_women</th>\n    </tr>\n  </thead>\n  <tbody>\n    <tr>\n      <th>0</th>\n      <td>1900</td>\n      <td>3</td>\n    </tr>\n    <tr>\n      <th>2</th>\n      <td>1910</td>\n      <td>1</td>\n    </tr>\n    <tr>\n      <th>4</th>\n      <td>1920</td>\n      <td>2</td>\n    </tr>\n    <tr>\n      <th>6</th>\n      <td>1930</td>\n      <td>3</td>\n    </tr>\n    <tr>\n      <th>8</th>\n      <td>1940</td>\n      <td>3</td>\n    </tr>\n    <tr>\n      <th>11</th>\n      <td>1960</td>\n      <td>3</td>\n    </tr>\n    <tr>\n      <th>13</th>\n      <td>1970</td>\n      <td>4</td>\n    </tr>\n    <tr>\n      <th>15</th>\n      <td>1980</td>\n      <td>4</td>\n    </tr>\n    <tr>\n      <th>17</th>\n      <td>1990</td>\n      <td>7</td>\n    </tr>\n    <tr>\n      <th>19</th>\n      <td>2000</td>\n      <td>11</td>\n    </tr>\n    <tr>\n      <th>21</th>\n      <td>2010</td>\n      <td>13</td>\n    </tr>\n  </tbody>\n</table>\n</div>"
     },
     "execution_count": 132,
     "metadata": {},
     "output_type": "execute_result"
    }
   ],
   "source": [
    "df.groupby(['decade','gender']).size().reset_index(name = 'count').\\\n",
    "    query('gender == \"female\"').drop(columns = 'gender').\\\n",
    "    rename(columns = {\"count\":\"num_women\"})"
   ],
   "metadata": {
    "collapsed": false,
    "pycharm": {
     "name": "#%%\n"
    }
   }
  },
  {
   "cell_type": "code",
   "execution_count": 43,
   "id": "b2be6fe3",
   "metadata": {},
   "outputs": [
    {
     "data": {
      "text/plain": "    decade  num_women\n0     1900          3\n1     1910          1\n2     1920          2\n3     1930          3\n4     1940          3\n5     1960          3\n6     1970          4\n7     1980          4\n8     1990          7\n9     2000         11\n10    2010         13",
      "text/html": "<div>\n<style scoped>\n    .dataframe tbody tr th:only-of-type {\n        vertical-align: middle;\n    }\n\n    .dataframe tbody tr th {\n        vertical-align: top;\n    }\n\n    .dataframe thead th {\n        text-align: right;\n    }\n</style>\n<table border=\"1\" class=\"dataframe\">\n  <thead>\n    <tr style=\"text-align: right;\">\n      <th></th>\n      <th>decade</th>\n      <th>num_women</th>\n    </tr>\n  </thead>\n  <tbody>\n    <tr>\n      <th>0</th>\n      <td>1900</td>\n      <td>3</td>\n    </tr>\n    <tr>\n      <th>1</th>\n      <td>1910</td>\n      <td>1</td>\n    </tr>\n    <tr>\n      <th>2</th>\n      <td>1920</td>\n      <td>2</td>\n    </tr>\n    <tr>\n      <th>3</th>\n      <td>1930</td>\n      <td>3</td>\n    </tr>\n    <tr>\n      <th>4</th>\n      <td>1940</td>\n      <td>3</td>\n    </tr>\n    <tr>\n      <th>5</th>\n      <td>1960</td>\n      <td>3</td>\n    </tr>\n    <tr>\n      <th>6</th>\n      <td>1970</td>\n      <td>4</td>\n    </tr>\n    <tr>\n      <th>7</th>\n      <td>1980</td>\n      <td>4</td>\n    </tr>\n    <tr>\n      <th>8</th>\n      <td>1990</td>\n      <td>7</td>\n    </tr>\n    <tr>\n      <th>9</th>\n      <td>2000</td>\n      <td>11</td>\n    </tr>\n    <tr>\n      <th>10</th>\n      <td>2010</td>\n      <td>13</td>\n    </tr>\n  </tbody>\n</table>\n</div>"
     },
     "execution_count": 43,
     "metadata": {},
     "output_type": "execute_result"
    }
   ],
   "source": [
    "df.groupby(['decade','gender']).size().reset_index(name = 'count').\\\n",
    "query('gender == \"female\"').reset_index(drop=True).drop(columns = 'gender').\\\n",
    "rename(columns = {\"count\":\"num_women\"})"
   ]
  },
  {
   "cell_type": "markdown",
   "id": "b67f256a",
   "metadata": {},
   "source": [
    "(8)"
   ]
  },
  {
   "cell_type": "markdown",
   "id": "76de1a4d",
   "metadata": {},
   "source": [
    "(a)"
   ]
  },
  {
   "cell_type": "code",
   "execution_count": 138,
   "id": "075451c6",
   "metadata": {},
   "outputs": [
    {
     "data": {
      "text/plain": "                 category  num_awardees\n2              Literature      1.035714\n3                   Peace      1.340000\n1       Economic Sciences      1.647059\n0               Chemistry      1.657658\n4                 Physics      1.884956\n5  Physiology or Medicine      1.990909",
      "text/html": "<div>\n<style scoped>\n    .dataframe tbody tr th:only-of-type {\n        vertical-align: middle;\n    }\n\n    .dataframe tbody tr th {\n        vertical-align: top;\n    }\n\n    .dataframe thead th {\n        text-align: right;\n    }\n</style>\n<table border=\"1\" class=\"dataframe\">\n  <thead>\n    <tr style=\"text-align: right;\">\n      <th></th>\n      <th>category</th>\n      <th>num_awardees</th>\n    </tr>\n  </thead>\n  <tbody>\n    <tr>\n      <th>2</th>\n      <td>Literature</td>\n      <td>1.035714</td>\n    </tr>\n    <tr>\n      <th>3</th>\n      <td>Peace</td>\n      <td>1.340000</td>\n    </tr>\n    <tr>\n      <th>1</th>\n      <td>Economic Sciences</td>\n      <td>1.647059</td>\n    </tr>\n    <tr>\n      <th>0</th>\n      <td>Chemistry</td>\n      <td>1.657658</td>\n    </tr>\n    <tr>\n      <th>4</th>\n      <td>Physics</td>\n      <td>1.884956</td>\n    </tr>\n    <tr>\n      <th>5</th>\n      <td>Physiology or Medicine</td>\n      <td>1.990909</td>\n    </tr>\n  </tbody>\n</table>\n</div>"
     },
     "execution_count": 138,
     "metadata": {},
     "output_type": "execute_result"
    }
   ],
   "source": [
    "df.groupby(['awardYear','category']).size().\\\n",
    "reset_index(name = \"num_awardees\").\\\n",
    "    groupby('category').num_awardees.mean().\\\n",
    "    reset_index().\\\n",
    "    sort_values('num_awardees')"
   ]
  },
  {
   "cell_type": "code",
   "execution_count": 45,
   "id": "85637106",
   "metadata": {},
   "outputs": [
    {
     "data": {
      "text/plain": "category\nChemistry                 1.657658\nEconomic Sciences         1.647059\nLiterature                1.035714\nPeace                     1.340000\nPhysics                   1.884956\nPhysiology or Medicine    1.990909\nName: num_awardees, dtype: float64"
     },
     "execution_count": 45,
     "metadata": {},
     "output_type": "execute_result"
    }
   ],
   "source": [
    "df.groupby(['awardYear','category']).size().\\\n",
    "reset_index(name = \"num_awardees\").\\\n",
    "groupby(\"category\").num_awardees.mean()"
   ]
  },
  {
   "cell_type": "code",
   "execution_count": 47,
   "id": "849aeeec",
   "metadata": {},
   "outputs": [
    {
     "data": {
      "text/plain": "'Physiology or Medicine'"
     },
     "execution_count": 47,
     "metadata": {},
     "output_type": "execute_result"
    }
   ],
   "source": [
    "df.groupby(['awardYear','category']).size().\\\n",
    "groupby('category').mean().nlargest(1).index.values[0]"
   ]
  },
  {
   "cell_type": "code",
   "execution_count": 48,
   "id": "57af2f07",
   "metadata": {},
   "outputs": [
    {
     "data": {
      "text/plain": "'Physiology or Medicine'"
     },
     "execution_count": 48,
     "metadata": {},
     "output_type": "execute_result"
    }
   ],
   "source": [
    "df.groupby(['awardYear','category']).size().reset_index(name = 'count').\\\n",
    "groupby('category')['count'].mean().reset_index(name = 'mean_n_awardees').\\\n",
    "sort_values('mean_n_awardees', ascending = False).reset_index(drop = True).iloc[0]['category']"
   ]
  },
  {
   "cell_type": "markdown",
   "id": "6ba382b3",
   "metadata": {},
   "source": [
    "(b)"
   ]
  },
  {
   "cell_type": "code",
   "execution_count": 49,
   "id": "c9b33918",
   "metadata": {},
   "outputs": [
    {
     "data": {
      "text/plain": "     awardYear                category  count\n0         1901               Chemistry      1\n1         1901              Literature      1\n2         1901                   Peace      2\n3         1901                 Physics      1\n4         1901  Physiology or Medicine      1\n..         ...                     ...    ...\n592       2019       Economic Sciences      3\n593       2019              Literature      1\n594       2019                   Peace      1\n595       2019                 Physics      3\n596       2019  Physiology or Medicine      3\n\n[597 rows x 3 columns]",
      "text/html": "<div>\n<style scoped>\n    .dataframe tbody tr th:only-of-type {\n        vertical-align: middle;\n    }\n\n    .dataframe tbody tr th {\n        vertical-align: top;\n    }\n\n    .dataframe thead th {\n        text-align: right;\n    }\n</style>\n<table border=\"1\" class=\"dataframe\">\n  <thead>\n    <tr style=\"text-align: right;\">\n      <th></th>\n      <th>awardYear</th>\n      <th>category</th>\n      <th>count</th>\n    </tr>\n  </thead>\n  <tbody>\n    <tr>\n      <th>0</th>\n      <td>1901</td>\n      <td>Chemistry</td>\n      <td>1</td>\n    </tr>\n    <tr>\n      <th>1</th>\n      <td>1901</td>\n      <td>Literature</td>\n      <td>1</td>\n    </tr>\n    <tr>\n      <th>2</th>\n      <td>1901</td>\n      <td>Peace</td>\n      <td>2</td>\n    </tr>\n    <tr>\n      <th>3</th>\n      <td>1901</td>\n      <td>Physics</td>\n      <td>1</td>\n    </tr>\n    <tr>\n      <th>4</th>\n      <td>1901</td>\n      <td>Physiology or Medicine</td>\n      <td>1</td>\n    </tr>\n    <tr>\n      <th>...</th>\n      <td>...</td>\n      <td>...</td>\n      <td>...</td>\n    </tr>\n    <tr>\n      <th>592</th>\n      <td>2019</td>\n      <td>Economic Sciences</td>\n      <td>3</td>\n    </tr>\n    <tr>\n      <th>593</th>\n      <td>2019</td>\n      <td>Literature</td>\n      <td>1</td>\n    </tr>\n    <tr>\n      <th>594</th>\n      <td>2019</td>\n      <td>Peace</td>\n      <td>1</td>\n    </tr>\n    <tr>\n      <th>595</th>\n      <td>2019</td>\n      <td>Physics</td>\n      <td>3</td>\n    </tr>\n    <tr>\n      <th>596</th>\n      <td>2019</td>\n      <td>Physiology or Medicine</td>\n      <td>3</td>\n    </tr>\n  </tbody>\n</table>\n<p>597 rows × 3 columns</p>\n</div>"
     },
     "execution_count": 49,
     "metadata": {},
     "output_type": "execute_result"
    }
   ],
   "source": [
    "df.groupby(['awardYear','category']).size().reset_index(name = 'count')"
   ]
  },
  {
   "cell_type": "code",
   "execution_count": 140,
   "id": "3f9eb45c",
   "metadata": {},
   "outputs": [
    {
     "data": {
      "text/plain": "    awardYear                category  count\n2        1901                   Peace      2\n7        1902                   Peace      2\n8        1902                 Physics      2\n13       1903                 Physics      3\n16       1904              Literature      2\n29       1906  Physiology or Medicine      2\n32       1907                   Peace      2\n37       1908                   Peace      2\n39       1908  Physiology or Medicine      2\n42       1909                   Peace      2",
      "text/html": "<div>\n<style scoped>\n    .dataframe tbody tr th:only-of-type {\n        vertical-align: middle;\n    }\n\n    .dataframe tbody tr th {\n        vertical-align: top;\n    }\n\n    .dataframe thead th {\n        text-align: right;\n    }\n</style>\n<table border=\"1\" class=\"dataframe\">\n  <thead>\n    <tr style=\"text-align: right;\">\n      <th></th>\n      <th>awardYear</th>\n      <th>category</th>\n      <th>count</th>\n    </tr>\n  </thead>\n  <tbody>\n    <tr>\n      <th>2</th>\n      <td>1901</td>\n      <td>Peace</td>\n      <td>2</td>\n    </tr>\n    <tr>\n      <th>7</th>\n      <td>1902</td>\n      <td>Peace</td>\n      <td>2</td>\n    </tr>\n    <tr>\n      <th>8</th>\n      <td>1902</td>\n      <td>Physics</td>\n      <td>2</td>\n    </tr>\n    <tr>\n      <th>13</th>\n      <td>1903</td>\n      <td>Physics</td>\n      <td>3</td>\n    </tr>\n    <tr>\n      <th>16</th>\n      <td>1904</td>\n      <td>Literature</td>\n      <td>2</td>\n    </tr>\n    <tr>\n      <th>29</th>\n      <td>1906</td>\n      <td>Physiology or Medicine</td>\n      <td>2</td>\n    </tr>\n    <tr>\n      <th>32</th>\n      <td>1907</td>\n      <td>Peace</td>\n      <td>2</td>\n    </tr>\n    <tr>\n      <th>37</th>\n      <td>1908</td>\n      <td>Peace</td>\n      <td>2</td>\n    </tr>\n    <tr>\n      <th>39</th>\n      <td>1908</td>\n      <td>Physiology or Medicine</td>\n      <td>2</td>\n    </tr>\n    <tr>\n      <th>42</th>\n      <td>1909</td>\n      <td>Peace</td>\n      <td>2</td>\n    </tr>\n  </tbody>\n</table>\n</div>"
     },
     "execution_count": 140,
     "metadata": {},
     "output_type": "execute_result"
    }
   ],
   "source": [
    "shared_prizes = df.groupby(['awardYear','category']).size().\\\n",
    "reset_index(name = 'count').query('count > 1')\n",
    "shared_prizes.head(10)"
   ]
  },
  {
   "cell_type": "code",
   "execution_count": 141,
   "outputs": [
    {
     "data": {
      "text/plain": "category\nChemistry                 48\nEconomic Sciences         26\nLiterature                 4\nPeace                     32\nPhysics                   66\nPhysiology or Medicine    71\ndtype: int64"
     },
     "execution_count": 141,
     "metadata": {},
     "output_type": "execute_result"
    }
   ],
   "source": [
    "shared_prizes.groupby('category').size()"
   ],
   "metadata": {
    "collapsed": false,
    "pycharm": {
     "name": "#%%\n"
    }
   }
  },
  {
   "cell_type": "code",
   "execution_count": 142,
   "id": "40d793bb",
   "metadata": {},
   "outputs": [
    {
     "name": "stdout",
     "output_type": "stream",
     "text": [
      "['Physiology or Medicine']\n"
     ]
    }
   ],
   "source": [
    "print(shared_prizes.groupby('category').size().nlargest(1).index.values)"
   ]
  },
  {
   "cell_type": "markdown",
   "source": [],
   "metadata": {
    "collapsed": false
   }
  },
  {
   "cell_type": "code",
   "execution_count": 58,
   "id": "e3084eb2",
   "metadata": {},
   "outputs": [
    {
     "data": {
      "text/plain": "category\nChemistry                 48\nEconomic Sciences         26\nLiterature                 4\nPeace                     32\nPhysics                   66\nPhysiology or Medicine    71\ndtype: int64"
     },
     "execution_count": 58,
     "metadata": {},
     "output_type": "execute_result"
    }
   ],
   "source": [
    "shared_prizes.groupby('category').size()"
   ]
  },
  {
   "cell_type": "markdown",
   "id": "70562afd",
   "metadata": {},
   "source": [
    "(c)"
   ]
  },
  {
   "cell_type": "code",
   "execution_count": 143,
   "id": "ca593b45",
   "metadata": {},
   "outputs": [
    {
     "data": {
      "text/plain": "array([1974, 1904, 1917, 1966], dtype=int64)"
     },
     "execution_count": 143,
     "metadata": {},
     "output_type": "execute_result"
    }
   ],
   "source": [
    "plc = df[df.category == \"Literature\"].\\\n",
    "groupby(\"awardYear\").filter(lambda x: len(x) > 1)\n",
    "plc.name\n",
    "plc.awardYear.unique()"
   ]
  },
  {
   "cell_type": "code",
   "execution_count": 60,
   "id": "b3b34002",
   "metadata": {},
   "outputs": [],
   "source": [
    "years_lit_shared = shared_prizes.query('category == \"Literature\"').awardYear"
   ]
  },
  {
   "cell_type": "code",
   "execution_count": 61,
   "id": "c029d129",
   "metadata": {},
   "outputs": [
    {
     "data": {
      "text/plain": "16     1904\n72     1917\n280    1966\n323    1974\nName: awardYear, dtype: int64"
     },
     "execution_count": 61,
     "metadata": {},
     "output_type": "execute_result"
    }
   ],
   "source": [
    "years_lit_shared"
   ]
  },
  {
   "cell_type": "code",
   "execution_count": 62,
   "id": "04b9c55a",
   "metadata": {},
   "outputs": [
    {
     "data": {
      "text/plain": "0      False\n1      False\n2      False\n3      False\n4      False\n       ...  \n945    False\n946    False\n947    False\n948    False\n949    False\nName: awardYear, Length: 950, dtype: bool"
     },
     "execution_count": 62,
     "metadata": {},
     "output_type": "execute_result"
    }
   ],
   "source": [
    "df['awardYear'].isin(years_lit_shared)"
   ]
  },
  {
   "cell_type": "code",
   "execution_count": 63,
   "id": "ded9db39",
   "metadata": {},
   "outputs": [
    {
     "data": {
      "text/plain": "     awardYear                name portion  \\\n259       1904    Frédéric Mistral     1/2   \n480       1904      José Echegaray     1/2   \n359       1917  Henrik Pontoppidan     1/2   \n501       1917      Karl Gjellerup     1/2   \n618       1966         Nelly Sachs     1/2   \n796       1966        Shmuel Agnon     1/2   \n237       1974      Eyvind Johnson     1/2   \n347       1974     Harry Martinson     1/2   \n\n                                            motivation  \n259  in recognition of the fresh originality and tr...  \n480  in recognition of the numerous and brilliant c...  \n359  for his authentic descriptions of present-day ...  \n501  for his varied and rich poetry, which is inspi...  \n618  for her outstanding lyrical and dramatic writi...  \n796  for his profoundly characteristic narrative ar...  \n237  for a narrative art, far-seeing in lands and a...  \n347  for writings that catch the dewdrop and reflec...  ",
      "text/html": "<div>\n<style scoped>\n    .dataframe tbody tr th:only-of-type {\n        vertical-align: middle;\n    }\n\n    .dataframe tbody tr th {\n        vertical-align: top;\n    }\n\n    .dataframe thead th {\n        text-align: right;\n    }\n</style>\n<table border=\"1\" class=\"dataframe\">\n  <thead>\n    <tr style=\"text-align: right;\">\n      <th></th>\n      <th>awardYear</th>\n      <th>name</th>\n      <th>portion</th>\n      <th>motivation</th>\n    </tr>\n  </thead>\n  <tbody>\n    <tr>\n      <th>259</th>\n      <td>1904</td>\n      <td>Frédéric Mistral</td>\n      <td>1/2</td>\n      <td>in recognition of the fresh originality and tr...</td>\n    </tr>\n    <tr>\n      <th>480</th>\n      <td>1904</td>\n      <td>José Echegaray</td>\n      <td>1/2</td>\n      <td>in recognition of the numerous and brilliant c...</td>\n    </tr>\n    <tr>\n      <th>359</th>\n      <td>1917</td>\n      <td>Henrik Pontoppidan</td>\n      <td>1/2</td>\n      <td>for his authentic descriptions of present-day ...</td>\n    </tr>\n    <tr>\n      <th>501</th>\n      <td>1917</td>\n      <td>Karl Gjellerup</td>\n      <td>1/2</td>\n      <td>for his varied and rich poetry, which is inspi...</td>\n    </tr>\n    <tr>\n      <th>618</th>\n      <td>1966</td>\n      <td>Nelly Sachs</td>\n      <td>1/2</td>\n      <td>for her outstanding lyrical and dramatic writi...</td>\n    </tr>\n    <tr>\n      <th>796</th>\n      <td>1966</td>\n      <td>Shmuel Agnon</td>\n      <td>1/2</td>\n      <td>for his profoundly characteristic narrative ar...</td>\n    </tr>\n    <tr>\n      <th>237</th>\n      <td>1974</td>\n      <td>Eyvind Johnson</td>\n      <td>1/2</td>\n      <td>for a narrative art, far-seeing in lands and a...</td>\n    </tr>\n    <tr>\n      <th>347</th>\n      <td>1974</td>\n      <td>Harry Martinson</td>\n      <td>1/2</td>\n      <td>for writings that catch the dewdrop and reflec...</td>\n    </tr>\n  </tbody>\n</table>\n</div>"
     },
     "execution_count": 63,
     "metadata": {},
     "output_type": "execute_result"
    }
   ],
   "source": [
    "df[ (df['awardYear'].isin(years_lit_shared)) & (df['category'] == 'Literature')] \\\n",
    "[['awardYear','name','portion','motivation']].sort_values('awardYear')"
   ]
  },
  {
   "cell_type": "markdown",
   "id": "b55cdd1e",
   "metadata": {},
   "source": [
    "(d)"
   ]
  },
  {
   "cell_type": "code",
   "execution_count": 145,
   "outputs": [
    {
     "data": {
      "text/plain": "category\nChemistry                 3\nEconomic Sciences         3\nLiterature                2\nPeace                     3\nPhysics                   3\nPhysiology or Medicine    3\ndtype: int64"
     },
     "execution_count": 145,
     "metadata": {},
     "output_type": "execute_result"
    }
   ],
   "source": [
    "df.groupby([\"category\",\"awardYear\"]).size().\\\n",
    "    groupby('category').max()"
   ],
   "metadata": {
    "collapsed": false,
    "pycharm": {
     "name": "#%%\n"
    }
   }
  },
  {
   "cell_type": "code",
   "execution_count": null,
   "outputs": [],
   "source": [],
   "metadata": {
    "collapsed": false,
    "pycharm": {
     "name": "#%%\n"
    }
   }
  },
  {
   "cell_type": "code",
   "execution_count": null,
   "outputs": [],
   "source": [],
   "metadata": {
    "collapsed": false,
    "pycharm": {
     "name": "#%%\n"
    }
   }
  },
  {
   "cell_type": "code",
   "execution_count": null,
   "outputs": [],
   "source": [],
   "metadata": {
    "collapsed": false,
    "pycharm": {
     "name": "#%%\n"
    }
   }
  },
  {
   "cell_type": "code",
   "execution_count": null,
   "outputs": [],
   "source": [],
   "metadata": {
    "collapsed": false,
    "pycharm": {
     "name": "#%%\n"
    }
   }
  },
  {
   "cell_type": "code",
   "execution_count": null,
   "outputs": [],
   "source": [],
   "metadata": {
    "collapsed": false,
    "pycharm": {
     "name": "#%%\n"
    }
   }
  },
  {
   "cell_type": "code",
   "execution_count": 64,
   "id": "a355784e",
   "metadata": {},
   "outputs": [
    {
     "data": {
      "text/plain": "category\nChemistry                 3\nEconomic Sciences         3\nLiterature                2\nPeace                     3\nPhysics                   3\nPhysiology or Medicine    3\ndtype: int64"
     },
     "execution_count": 64,
     "metadata": {},
     "output_type": "execute_result"
    }
   ],
   "source": [
    "df.groupby([\"category\",\"awardYear\"]).size().\\\n",
    "groupby('category').max()"
   ]
  },
  {
   "cell_type": "code",
   "execution_count": 65,
   "id": "35223af6",
   "metadata": {},
   "outputs": [
    {
     "data": {
      "text/plain": "array(['1/3', '1', '1/4', '1/2'], dtype=object)"
     },
     "execution_count": 65,
     "metadata": {},
     "output_type": "execute_result"
    }
   ],
   "source": [
    "df.portion.unique()"
   ]
  },
  {
   "cell_type": "code",
   "execution_count": 66,
   "id": "4f4ac836",
   "metadata": {},
   "outputs": [
    {
     "data": {
      "text/plain": "                 category  max_n_awardees\n0               Chemistry               3\n1       Economic Sciences               3\n2                   Peace               3\n3                 Physics               3\n4  Physiology or Medicine               3\n5              Literature               2",
      "text/html": "<div>\n<style scoped>\n    .dataframe tbody tr th:only-of-type {\n        vertical-align: middle;\n    }\n\n    .dataframe tbody tr th {\n        vertical-align: top;\n    }\n\n    .dataframe thead th {\n        text-align: right;\n    }\n</style>\n<table border=\"1\" class=\"dataframe\">\n  <thead>\n    <tr style=\"text-align: right;\">\n      <th></th>\n      <th>category</th>\n      <th>max_n_awardees</th>\n    </tr>\n  </thead>\n  <tbody>\n    <tr>\n      <th>0</th>\n      <td>Chemistry</td>\n      <td>3</td>\n    </tr>\n    <tr>\n      <th>1</th>\n      <td>Economic Sciences</td>\n      <td>3</td>\n    </tr>\n    <tr>\n      <th>2</th>\n      <td>Peace</td>\n      <td>3</td>\n    </tr>\n    <tr>\n      <th>3</th>\n      <td>Physics</td>\n      <td>3</td>\n    </tr>\n    <tr>\n      <th>4</th>\n      <td>Physiology or Medicine</td>\n      <td>3</td>\n    </tr>\n    <tr>\n      <th>5</th>\n      <td>Literature</td>\n      <td>2</td>\n    </tr>\n  </tbody>\n</table>\n</div>"
     },
     "execution_count": 66,
     "metadata": {},
     "output_type": "execute_result"
    }
   ],
   "source": [
    "df.groupby(['awardYear','category']).size().reset_index(name = 'count').\\\n",
    "groupby('category')['count'].max().reset_index(name = 'max_n_awardees').\\\n",
    "sort_values('max_n_awardees', ascending = False).reset_index(drop = True)"
   ]
  },
  {
   "cell_type": "code",
   "execution_count": 67,
   "id": "61503880",
   "metadata": {},
   "outputs": [
    {
     "data": {
      "text/plain": "     awardYear                category  \\\n566       1903                 Physics   \n693       1903                 Physics   \n469       1946               Chemistry   \n897       1946               Chemistry   \n113       1947  Physiology or Medicine   \n\n                              categoryFullName  sortOrder portion  \\\n566                 The Nobel Prize in Physics          3     1/4   \n693                 The Nobel Prize in Physics          2     1/4   \n469               The Nobel Prize in Chemistry          2     1/4   \n897               The Nobel Prize in Chemistry          3     1/4   \n113  The Nobel Prize in Physiology or Medicine          1     1/4   \n\n     prizeAmount  prizeAmountAdjusted dateAwarded prizeStatus  \\\n566       141358              7795478         NaN    received   \n693       141358              7795478         NaN    received   \n469       121524              2503929         NaN    received   \n897       121524              2503929         NaN    received   \n113       146115              2914528         NaN    received   \n\n                                            motivation  ...  ind_or_org  \\\n566  in recognition of the extraordinary services t...  ...  Individual   \n693  in recognition of the extraordinary services t...  ...  Individual   \n469  for their preparation of enzymes and virus pro...  ...  Individual   \n897  for their preparation of enzymes and virus pro...  ...  Individual   \n113  for their discovery of the course of the catal...  ...  Individual   \n\n    residence_1  residence_2  \\\n566         NaN          NaN   \n693         NaN          NaN   \n469         NaN          NaN   \n897         NaN          NaN   \n113         NaN          NaN   \n\n                                         affiliation_1 affiliation_2  \\\n566                                                NaN           NaN   \n693  École municipale de physique et de chimie indu...           NaN   \n469  Rockefeller Institute for Medical Research, Pr...           NaN   \n897  Rockefeller Institute for Medical Research, Pr...           NaN   \n113          Washington University, St. Louis, MO, USA           NaN   \n\n    affiliation_3 affiliation_4         bd age_awarded decade  \n566           NaN           NaN 1867-11-07        36.0   1900  \n693           NaN           NaN 1859-05-15        44.0   1900  \n469           NaN           NaN 1891-07-05        55.0   1940  \n897           NaN           NaN 1904-08-16        42.0   1940  \n113           NaN           NaN 1896-12-05        51.0   1940  \n\n[5 rows x 55 columns]",
      "text/html": "<div>\n<style scoped>\n    .dataframe tbody tr th:only-of-type {\n        vertical-align: middle;\n    }\n\n    .dataframe tbody tr th {\n        vertical-align: top;\n    }\n\n    .dataframe thead th {\n        text-align: right;\n    }\n</style>\n<table border=\"1\" class=\"dataframe\">\n  <thead>\n    <tr style=\"text-align: right;\">\n      <th></th>\n      <th>awardYear</th>\n      <th>category</th>\n      <th>categoryFullName</th>\n      <th>sortOrder</th>\n      <th>portion</th>\n      <th>prizeAmount</th>\n      <th>prizeAmountAdjusted</th>\n      <th>dateAwarded</th>\n      <th>prizeStatus</th>\n      <th>motivation</th>\n      <th>...</th>\n      <th>ind_or_org</th>\n      <th>residence_1</th>\n      <th>residence_2</th>\n      <th>affiliation_1</th>\n      <th>affiliation_2</th>\n      <th>affiliation_3</th>\n      <th>affiliation_4</th>\n      <th>bd</th>\n      <th>age_awarded</th>\n      <th>decade</th>\n    </tr>\n  </thead>\n  <tbody>\n    <tr>\n      <th>566</th>\n      <td>1903</td>\n      <td>Physics</td>\n      <td>The Nobel Prize in Physics</td>\n      <td>3</td>\n      <td>1/4</td>\n      <td>141358</td>\n      <td>7795478</td>\n      <td>NaN</td>\n      <td>received</td>\n      <td>in recognition of the extraordinary services t...</td>\n      <td>...</td>\n      <td>Individual</td>\n      <td>NaN</td>\n      <td>NaN</td>\n      <td>NaN</td>\n      <td>NaN</td>\n      <td>NaN</td>\n      <td>NaN</td>\n      <td>1867-11-07</td>\n      <td>36.0</td>\n      <td>1900</td>\n    </tr>\n    <tr>\n      <th>693</th>\n      <td>1903</td>\n      <td>Physics</td>\n      <td>The Nobel Prize in Physics</td>\n      <td>2</td>\n      <td>1/4</td>\n      <td>141358</td>\n      <td>7795478</td>\n      <td>NaN</td>\n      <td>received</td>\n      <td>in recognition of the extraordinary services t...</td>\n      <td>...</td>\n      <td>Individual</td>\n      <td>NaN</td>\n      <td>NaN</td>\n      <td>École municipale de physique et de chimie indu...</td>\n      <td>NaN</td>\n      <td>NaN</td>\n      <td>NaN</td>\n      <td>1859-05-15</td>\n      <td>44.0</td>\n      <td>1900</td>\n    </tr>\n    <tr>\n      <th>469</th>\n      <td>1946</td>\n      <td>Chemistry</td>\n      <td>The Nobel Prize in Chemistry</td>\n      <td>2</td>\n      <td>1/4</td>\n      <td>121524</td>\n      <td>2503929</td>\n      <td>NaN</td>\n      <td>received</td>\n      <td>for their preparation of enzymes and virus pro...</td>\n      <td>...</td>\n      <td>Individual</td>\n      <td>NaN</td>\n      <td>NaN</td>\n      <td>Rockefeller Institute for Medical Research, Pr...</td>\n      <td>NaN</td>\n      <td>NaN</td>\n      <td>NaN</td>\n      <td>1891-07-05</td>\n      <td>55.0</td>\n      <td>1940</td>\n    </tr>\n    <tr>\n      <th>897</th>\n      <td>1946</td>\n      <td>Chemistry</td>\n      <td>The Nobel Prize in Chemistry</td>\n      <td>3</td>\n      <td>1/4</td>\n      <td>121524</td>\n      <td>2503929</td>\n      <td>NaN</td>\n      <td>received</td>\n      <td>for their preparation of enzymes and virus pro...</td>\n      <td>...</td>\n      <td>Individual</td>\n      <td>NaN</td>\n      <td>NaN</td>\n      <td>Rockefeller Institute for Medical Research, Pr...</td>\n      <td>NaN</td>\n      <td>NaN</td>\n      <td>NaN</td>\n      <td>1904-08-16</td>\n      <td>42.0</td>\n      <td>1940</td>\n    </tr>\n    <tr>\n      <th>113</th>\n      <td>1947</td>\n      <td>Physiology or Medicine</td>\n      <td>The Nobel Prize in Physiology or Medicine</td>\n      <td>1</td>\n      <td>1/4</td>\n      <td>146115</td>\n      <td>2914528</td>\n      <td>NaN</td>\n      <td>received</td>\n      <td>for their discovery of the course of the catal...</td>\n      <td>...</td>\n      <td>Individual</td>\n      <td>NaN</td>\n      <td>NaN</td>\n      <td>Washington University, St. Louis, MO, USA</td>\n      <td>NaN</td>\n      <td>NaN</td>\n      <td>NaN</td>\n      <td>1896-12-05</td>\n      <td>51.0</td>\n      <td>1940</td>\n    </tr>\n  </tbody>\n</table>\n<p>5 rows × 55 columns</p>\n</div>"
     },
     "execution_count": 67,
     "metadata": {},
     "output_type": "execute_result"
    }
   ],
   "source": [
    "df[df.portion == '1/4'].sort_values('awardYear').head()"
   ]
  },
  {
   "cell_type": "code",
   "execution_count": 68,
   "id": "f0ccf968",
   "metadata": {},
   "outputs": [
    {
     "data": {
      "text/plain": "     awardYear category            categoryFullName  sortOrder portion  \\\n354       1903  Physics  The Nobel Prize in Physics          1     1/2   \n566       1903  Physics  The Nobel Prize in Physics          3     1/4   \n693       1903  Physics  The Nobel Prize in Physics          2     1/4   \n\n     prizeAmount  prizeAmountAdjusted dateAwarded prizeStatus  \\\n354       141358              7795478         NaN    received   \n566       141358              7795478         NaN    received   \n693       141358              7795478         NaN    received   \n\n                                            motivation  ...  ind_or_org  \\\n354  in recognition of the extraordinary services h...  ...  Individual   \n566  in recognition of the extraordinary services t...  ...  Individual   \n693  in recognition of the extraordinary services t...  ...  Individual   \n\n    residence_1  residence_2  \\\n354         NaN          NaN   \n566         NaN          NaN   \n693         NaN          NaN   \n\n                                         affiliation_1 affiliation_2  \\\n354                 École Polytechnique, Paris, France           NaN   \n566                                                NaN           NaN   \n693  École municipale de physique et de chimie indu...           NaN   \n\n    affiliation_3 affiliation_4         bd age_awarded decade  \n354           NaN           NaN 1852-12-15        51.0   1900  \n566           NaN           NaN 1867-11-07        36.0   1900  \n693           NaN           NaN 1859-05-15        44.0   1900  \n\n[3 rows x 55 columns]",
      "text/html": "<div>\n<style scoped>\n    .dataframe tbody tr th:only-of-type {\n        vertical-align: middle;\n    }\n\n    .dataframe tbody tr th {\n        vertical-align: top;\n    }\n\n    .dataframe thead th {\n        text-align: right;\n    }\n</style>\n<table border=\"1\" class=\"dataframe\">\n  <thead>\n    <tr style=\"text-align: right;\">\n      <th></th>\n      <th>awardYear</th>\n      <th>category</th>\n      <th>categoryFullName</th>\n      <th>sortOrder</th>\n      <th>portion</th>\n      <th>prizeAmount</th>\n      <th>prizeAmountAdjusted</th>\n      <th>dateAwarded</th>\n      <th>prizeStatus</th>\n      <th>motivation</th>\n      <th>...</th>\n      <th>ind_or_org</th>\n      <th>residence_1</th>\n      <th>residence_2</th>\n      <th>affiliation_1</th>\n      <th>affiliation_2</th>\n      <th>affiliation_3</th>\n      <th>affiliation_4</th>\n      <th>bd</th>\n      <th>age_awarded</th>\n      <th>decade</th>\n    </tr>\n  </thead>\n  <tbody>\n    <tr>\n      <th>354</th>\n      <td>1903</td>\n      <td>Physics</td>\n      <td>The Nobel Prize in Physics</td>\n      <td>1</td>\n      <td>1/2</td>\n      <td>141358</td>\n      <td>7795478</td>\n      <td>NaN</td>\n      <td>received</td>\n      <td>in recognition of the extraordinary services h...</td>\n      <td>...</td>\n      <td>Individual</td>\n      <td>NaN</td>\n      <td>NaN</td>\n      <td>École Polytechnique, Paris, France</td>\n      <td>NaN</td>\n      <td>NaN</td>\n      <td>NaN</td>\n      <td>1852-12-15</td>\n      <td>51.0</td>\n      <td>1900</td>\n    </tr>\n    <tr>\n      <th>566</th>\n      <td>1903</td>\n      <td>Physics</td>\n      <td>The Nobel Prize in Physics</td>\n      <td>3</td>\n      <td>1/4</td>\n      <td>141358</td>\n      <td>7795478</td>\n      <td>NaN</td>\n      <td>received</td>\n      <td>in recognition of the extraordinary services t...</td>\n      <td>...</td>\n      <td>Individual</td>\n      <td>NaN</td>\n      <td>NaN</td>\n      <td>NaN</td>\n      <td>NaN</td>\n      <td>NaN</td>\n      <td>NaN</td>\n      <td>1867-11-07</td>\n      <td>36.0</td>\n      <td>1900</td>\n    </tr>\n    <tr>\n      <th>693</th>\n      <td>1903</td>\n      <td>Physics</td>\n      <td>The Nobel Prize in Physics</td>\n      <td>2</td>\n      <td>1/4</td>\n      <td>141358</td>\n      <td>7795478</td>\n      <td>NaN</td>\n      <td>received</td>\n      <td>in recognition of the extraordinary services t...</td>\n      <td>...</td>\n      <td>Individual</td>\n      <td>NaN</td>\n      <td>NaN</td>\n      <td>École municipale de physique et de chimie indu...</td>\n      <td>NaN</td>\n      <td>NaN</td>\n      <td>NaN</td>\n      <td>1859-05-15</td>\n      <td>44.0</td>\n      <td>1900</td>\n    </tr>\n  </tbody>\n</table>\n<p>3 rows × 55 columns</p>\n</div>"
     },
     "execution_count": 68,
     "metadata": {},
     "output_type": "execute_result"
    }
   ],
   "source": [
    "df.query('awardYear == 1903 & category == \"Physics\"')"
   ]
  },
  {
   "cell_type": "code",
   "execution_count": 69,
   "id": "69faea4b",
   "metadata": {
    "pycharm": {
     "name": "#%%\n"
    }
   },
   "outputs": [
    {
     "name": "stdout",
     "output_type": "stream",
     "text": [
      "True\n",
      "False\n"
     ]
    }
   ],
   "source": [
    "mot = df.query('awardYear == 1903 & category == \"Physics\"').reset_index()['motivation']\n",
    "print(mot.iloc[1] == mot.iloc[2])\n",
    "print(mot.iloc[0] == mot.iloc[1])"
   ]
  },
  {
   "cell_type": "code",
   "execution_count": null,
   "outputs": [],
   "source": [],
   "metadata": {
    "collapsed": false,
    "pycharm": {
     "name": "#%%\n"
    }
   }
  }
 ],
 "metadata": {
  "kernelspec": {
   "display_name": "Python 3",
   "language": "python",
   "name": "python3"
  },
  "language_info": {
   "codemirror_mode": {
    "name": "ipython",
    "version": 3
   },
   "file_extension": ".py",
   "mimetype": "text/x-python",
   "name": "python",
   "nbconvert_exporter": "python",
   "pygments_lexer": "ipython3",
   "version": "3.8.8"
  }
 },
 "nbformat": 4,
 "nbformat_minor": 5
}