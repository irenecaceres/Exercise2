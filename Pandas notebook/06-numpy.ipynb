{
 "cells": [
  {
   "cell_type": "code",
   "execution_count": 27,
   "id": "aead0416",
   "metadata": {},
   "outputs": [],
   "source": [
    "import numpy as np"
   ]
  },
  {
   "cell_type": "code",
   "execution_count": 28,
   "id": "c7fef183",
   "metadata": {},
   "outputs": [
    {
     "data": {
      "text/plain": "(1, 2, 3, 4, 5, 6)"
     },
     "execution_count": 28,
     "metadata": {},
     "output_type": "execute_result"
    }
   ],
   "source": [
    "a = (1,2,3)\n",
    "b = (4,5,6)\n",
    "a + b"
   ]
  },
  {
   "cell_type": "code",
   "execution_count": 29,
   "id": "750bb96f",
   "metadata": {},
   "outputs": [
    {
     "data": {
      "text/plain": "array([5, 7, 9])"
     },
     "execution_count": 29,
     "metadata": {},
     "output_type": "execute_result"
    }
   ],
   "source": [
    "a = np.array(a)\n",
    "b = np.array(b)\n",
    "a + b"
   ]
  },
  {
   "cell_type": "code",
   "execution_count": 31,
   "id": "2953d5e4",
   "metadata": {},
   "outputs": [
    {
     "data": {
      "text/plain": "array([-1,  0,  1])"
     },
     "execution_count": 31,
     "metadata": {},
     "output_type": "execute_result"
    }
   ],
   "source": [
    "a - 2"
   ]
  },
  {
   "cell_type": "code",
   "execution_count": 32,
   "id": "5cf80c7b",
   "metadata": {},
   "outputs": [
    {
     "data": {
      "text/plain": "array([ 1,  8, 27], dtype=int32)"
     },
     "execution_count": 32,
     "metadata": {},
     "output_type": "execute_result"
    }
   ],
   "source": [
    "a**3"
   ]
  },
  {
   "cell_type": "code",
   "execution_count": 33,
   "id": "edf6748b",
   "metadata": {},
   "outputs": [
    {
     "data": {
      "text/plain": "array([  1,  32, 729])"
     },
     "execution_count": 33,
     "metadata": {},
     "output_type": "execute_result"
    }
   ],
   "source": [
    "a**b # elementwise"
   ]
  },
  {
   "cell_type": "code",
   "execution_count": 34,
   "id": "b1767683",
   "metadata": {},
   "outputs": [
    {
     "data": {
      "text/plain": "array([ 4, 10, 18])"
     },
     "execution_count": 34,
     "metadata": {},
     "output_type": "execute_result"
    }
   ],
   "source": [
    "a*b"
   ]
  },
  {
   "cell_type": "code",
   "execution_count": 35,
   "outputs": [
    {
     "data": {
      "text/plain": "array([1, 2, 3])"
     },
     "execution_count": 35,
     "metadata": {},
     "output_type": "execute_result"
    }
   ],
   "source": [
    "a"
   ],
   "metadata": {
    "collapsed": false,
    "pycharm": {
     "name": "#%%\n"
    }
   }
  },
  {
   "cell_type": "code",
   "execution_count": 36,
   "outputs": [
    {
     "data": {
      "text/plain": "array([4, 5, 6])"
     },
     "execution_count": 36,
     "metadata": {},
     "output_type": "execute_result"
    }
   ],
   "source": [
    "b"
   ],
   "metadata": {
    "collapsed": false,
    "pycharm": {
     "name": "#%%\n"
    }
   }
  },
  {
   "cell_type": "code",
   "execution_count": 37,
   "outputs": [
    {
     "data": {
      "text/plain": "32"
     },
     "execution_count": 37,
     "metadata": {},
     "output_type": "execute_result"
    }
   ],
   "source": [
    "np.matmul(a,b)"
   ],
   "metadata": {
    "collapsed": false,
    "pycharm": {
     "name": "#%%\n"
    }
   }
  },
  {
   "cell_type": "code",
   "execution_count": 38,
   "outputs": [
    {
     "data": {
      "text/plain": "array([1, 2, 3])"
     },
     "execution_count": 38,
     "metadata": {},
     "output_type": "execute_result"
    }
   ],
   "source": [
    "a"
   ],
   "metadata": {
    "collapsed": false,
    "pycharm": {
     "name": "#%%\n"
    }
   }
  },
  {
   "cell_type": "code",
   "execution_count": 39,
   "outputs": [
    {
     "data": {
      "text/plain": "array([4, 5, 6])"
     },
     "execution_count": 39,
     "metadata": {},
     "output_type": "execute_result"
    }
   ],
   "source": [
    "b"
   ],
   "metadata": {
    "collapsed": false,
    "pycharm": {
     "name": "#%%\n"
    }
   }
  },
  {
   "cell_type": "code",
   "execution_count": 40,
   "outputs": [
    {
     "data": {
      "text/plain": "array([[ 4,  5,  6],\n       [ 8, 10, 12],\n       [12, 15, 18]])"
     },
     "execution_count": 40,
     "metadata": {},
     "output_type": "execute_result"
    }
   ],
   "source": [
    "np.outer(a,b)"
   ],
   "metadata": {
    "collapsed": false,
    "pycharm": {
     "name": "#%%\n"
    }
   }
  },
  {
   "cell_type": "code",
   "execution_count": 41,
   "outputs": [
    {
     "data": {
      "text/plain": "array([[ 4,  8, 12],\n       [ 5, 10, 15],\n       [ 6, 12, 18]])"
     },
     "execution_count": 41,
     "metadata": {},
     "output_type": "execute_result"
    }
   ],
   "source": [
    "np.outer(b,a)"
   ],
   "metadata": {
    "collapsed": false,
    "pycharm": {
     "name": "#%%\n"
    }
   }
  },
  {
   "cell_type": "code",
   "execution_count": 42,
   "outputs": [
    {
     "data": {
      "text/plain": "array([1, 2, 3])"
     },
     "execution_count": 42,
     "metadata": {},
     "output_type": "execute_result"
    }
   ],
   "source": [
    "a"
   ],
   "metadata": {
    "collapsed": false,
    "pycharm": {
     "name": "#%%\n"
    }
   }
  },
  {
   "cell_type": "code",
   "execution_count": 43,
   "id": "946da686",
   "metadata": {},
   "outputs": [],
   "source": [
    "c = np.array((0,3))"
   ]
  },
  {
   "cell_type": "code",
   "execution_count": 44,
   "id": "5c03c630",
   "metadata": {},
   "outputs": [
    {
     "ename": "ValueError",
     "evalue": "operands could not be broadcast together with shapes (3,) (2,) ",
     "output_type": "error",
     "traceback": [
      "\u001B[1;31m---------------------------------------------------------------------------\u001B[0m",
      "\u001B[1;31mValueError\u001B[0m                                Traceback (most recent call last)",
      "Input \u001B[1;32mIn [44]\u001B[0m, in \u001B[0;36m<cell line: 1>\u001B[1;34m()\u001B[0m\n\u001B[1;32m----> 1\u001B[0m \u001B[43ma\u001B[49m\u001B[43m \u001B[49m\u001B[38;5;241;43m+\u001B[39;49m\u001B[43m \u001B[49m\u001B[43mc\u001B[49m\n",
      "\u001B[1;31mValueError\u001B[0m: operands could not be broadcast together with shapes (3,) (2,) "
     ]
    }
   ],
   "source": [
    "a + c # error, incompatible sizes"
   ]
  },
  {
   "cell_type": "code",
   "execution_count": 45,
   "id": "555a0f95",
   "metadata": {},
   "outputs": [],
   "source": [
    "d = np.array((7))"
   ]
  },
  {
   "cell_type": "code",
   "execution_count": 46,
   "id": "88343225",
   "metadata": {},
   "outputs": [
    {
     "data": {
      "text/plain": "array([ 8,  9, 10])"
     },
     "execution_count": 46,
     "metadata": {},
     "output_type": "execute_result"
    }
   ],
   "source": [
    "a + d # even if sizes are not the same, numpy performs broadcasting when one of the elements is of size 1"
   ]
  },
  {
   "cell_type": "code",
   "execution_count": 47,
   "id": "37c280aa",
   "metadata": {},
   "outputs": [
    {
     "name": "stdout",
     "output_type": "stream",
     "text": [
      "3 1\n"
     ]
    }
   ],
   "source": [
    "print(a.size,d.size)"
   ]
  },
  {
   "cell_type": "code",
   "execution_count": null,
   "id": "77fa3a99",
   "metadata": {},
   "outputs": [],
   "source": [
    "# convert a list into a numpy array"
   ]
  },
  {
   "cell_type": "code",
   "execution_count": 48,
   "id": "2745a2cd",
   "metadata": {},
   "outputs": [
    {
     "data": {
      "text/plain": "array([4, 5, 2, 7])"
     },
     "execution_count": 48,
     "metadata": {},
     "output_type": "execute_result"
    }
   ],
   "source": [
    "A = [4,5,2,7]\n",
    "np.array(A)"
   ]
  },
  {
   "cell_type": "code",
   "execution_count": null,
   "id": "8097f9a6",
   "metadata": {},
   "outputs": [],
   "source": [
    "# Arrays of more than one dimension"
   ]
  },
  {
   "cell_type": "code",
   "execution_count": 49,
   "id": "75becb61",
   "metadata": {},
   "outputs": [
    {
     "data": {
      "text/plain": "array([[1, 2],\n       [3, 4]])"
     },
     "execution_count": 49,
     "metadata": {},
     "output_type": "execute_result"
    }
   ],
   "source": [
    "e = np.array(((1,2),(3,4)))\n",
    "e"
   ]
  },
  {
   "cell_type": "code",
   "execution_count": 50,
   "outputs": [
    {
     "data": {
      "text/plain": "array([-10,  10])"
     },
     "execution_count": 50,
     "metadata": {},
     "output_type": "execute_result"
    }
   ],
   "source": [
    "f = np.array((-10,10))\n",
    "f"
   ],
   "metadata": {
    "collapsed": false,
    "pycharm": {
     "name": "#%%\n"
    }
   }
  },
  {
   "cell_type": "code",
   "execution_count": 51,
   "outputs": [
    {
     "data": {
      "text/plain": "array([[-9, 12],\n       [-7, 14]])"
     },
     "execution_count": 51,
     "metadata": {},
     "output_type": "execute_result"
    }
   ],
   "source": [
    "e + f # broadcasting"
   ],
   "metadata": {
    "collapsed": false,
    "pycharm": {
     "name": "#%%\n"
    }
   }
  },
  {
   "cell_type": "code",
   "execution_count": 52,
   "outputs": [
    {
     "data": {
      "text/plain": "array([[-10, -10],\n       [100, 100]])"
     },
     "execution_count": 52,
     "metadata": {},
     "output_type": "execute_result"
    }
   ],
   "source": [
    "f = np.array(((-10,-10),(100,100)))\n",
    "f"
   ],
   "metadata": {
    "collapsed": false,
    "pycharm": {
     "name": "#%%\n"
    }
   }
  },
  {
   "cell_type": "code",
   "execution_count": 53,
   "outputs": [
    {
     "data": {
      "text/plain": "array([[ -9,  -8],\n       [103, 104]])"
     },
     "execution_count": 53,
     "metadata": {},
     "output_type": "execute_result"
    }
   ],
   "source": [
    "e + f"
   ],
   "metadata": {
    "collapsed": false,
    "pycharm": {
     "name": "#%%\n"
    }
   }
  },
  {
   "cell_type": "code",
   "execution_count": 54,
   "outputs": [
    {
     "data": {
      "text/plain": "array([ 0, 10, 20, 30])"
     },
     "execution_count": 54,
     "metadata": {},
     "output_type": "execute_result"
    }
   ],
   "source": [
    "e = np.array((0,10,20,30))\n",
    "e"
   ],
   "metadata": {
    "collapsed": false,
    "pycharm": {
     "name": "#%%\n"
    }
   }
  },
  {
   "cell_type": "code",
   "execution_count": 59,
   "outputs": [
    {
     "data": {
      "text/plain": "array([1, 2, 3])"
     },
     "execution_count": 59,
     "metadata": {},
     "output_type": "execute_result"
    }
   ],
   "source": [
    "f = np.array((1,2,3))\n",
    "f"
   ],
   "metadata": {
    "collapsed": false,
    "pycharm": {
     "name": "#%%\n"
    }
   }
  },
  {
   "cell_type": "code",
   "execution_count": 62,
   "outputs": [
    {
     "data": {
      "text/plain": "array([ 0, 10, 20, 30])"
     },
     "execution_count": 62,
     "metadata": {},
     "output_type": "execute_result"
    }
   ],
   "source": [
    "e"
   ],
   "metadata": {
    "collapsed": false,
    "pycharm": {
     "name": "#%%\n"
    }
   }
  },
  {
   "cell_type": "code",
   "execution_count": 60,
   "outputs": [
    {
     "data": {
      "text/plain": "array([[ 0],\n       [10],\n       [20],\n       [30]])"
     },
     "execution_count": 60,
     "metadata": {},
     "output_type": "execute_result"
    }
   ],
   "source": [
    "e.reshape(4,1)"
   ],
   "metadata": {
    "collapsed": false,
    "pycharm": {
     "name": "#%%\n"
    }
   }
  },
  {
   "cell_type": "code",
   "execution_count": 61,
   "outputs": [
    {
     "data": {
      "text/plain": "array([[ 1,  2,  3],\n       [11, 12, 13],\n       [21, 22, 23],\n       [31, 32, 33]])"
     },
     "execution_count": 61,
     "metadata": {},
     "output_type": "execute_result"
    }
   ],
   "source": [
    "e.reshape(4,1) + f"
   ],
   "metadata": {
    "collapsed": false,
    "pycharm": {
     "name": "#%%\n"
    }
   }
  },
  {
   "cell_type": "code",
   "execution_count": 4,
   "id": "4bb24094",
   "metadata": {},
   "outputs": [
    {
     "name": "stdout",
     "output_type": "stream",
     "text": [
      "[[1 2]\n",
      " [3 4]]\n"
     ]
    }
   ],
   "source": []
  },
  {
   "cell_type": "code",
   "execution_count": null,
   "id": "307d76d8",
   "metadata": {},
   "outputs": [],
   "source": [
    "# SUBSETS"
   ]
  },
  {
   "cell_type": "code",
   "execution_count": 63,
   "id": "b2e5467b",
   "metadata": {},
   "outputs": [
    {
     "data": {
      "text/plain": "array([ 3.  ,  3.  ,  6.  ,  1.  , -2.  ,  8.3 ,  7.34,  9.  ])"
     },
     "execution_count": 63,
     "metadata": {},
     "output_type": "execute_result"
    }
   ],
   "source": [
    "r = np.array((3,3,6,1,-2,8.3,7.34,9))\n",
    "r"
   ]
  },
  {
   "cell_type": "code",
   "execution_count": 64,
   "id": "50941926",
   "metadata": {},
   "outputs": [
    {
     "data": {
      "text/plain": "3.0"
     },
     "execution_count": 64,
     "metadata": {},
     "output_type": "execute_result"
    }
   ],
   "source": [
    "r[0]"
   ]
  },
  {
   "cell_type": "code",
   "execution_count": 65,
   "id": "1f77bf79",
   "metadata": {},
   "outputs": [
    {
     "data": {
      "text/plain": "9.0"
     },
     "execution_count": 65,
     "metadata": {},
     "output_type": "execute_result"
    }
   ],
   "source": [
    "r[-1] # last value"
   ]
  },
  {
   "cell_type": "code",
   "execution_count": 66,
   "id": "c6f27e12",
   "metadata": {},
   "outputs": [
    {
     "data": {
      "text/plain": "array([3., 3., 6.])"
     },
     "execution_count": 66,
     "metadata": {},
     "output_type": "execute_result"
    }
   ],
   "source": [
    "r[:3] # from 0th to 3rd (not included)"
   ]
  },
  {
   "cell_type": "code",
   "execution_count": 67,
   "id": "0004cb8b",
   "metadata": {},
   "outputs": [
    {
     "data": {
      "text/plain": "array([3., 1.])"
     },
     "execution_count": 67,
     "metadata": {},
     "output_type": "execute_result"
    }
   ],
   "source": [
    "r[1:5:2]"
   ]
  },
  {
   "cell_type": "code",
   "execution_count": 68,
   "id": "186b8f9b",
   "metadata": {},
   "outputs": [
    {
     "data": {
      "text/plain": "array([ 3.  ,  6.  , -2.  ,  7.34])"
     },
     "execution_count": 68,
     "metadata": {},
     "output_type": "execute_result"
    }
   ],
   "source": [
    "r[::2]"
   ]
  },
  {
   "cell_type": "code",
   "execution_count": 69,
   "id": "1e318d41",
   "metadata": {},
   "outputs": [
    {
     "data": {
      "text/plain": "array([ 9.  ,  7.34,  8.3 , -2.  ,  1.  ,  6.  ,  3.  ,  3.  ])"
     },
     "execution_count": 69,
     "metadata": {},
     "output_type": "execute_result"
    }
   ],
   "source": [
    "r[::-1] # reverse"
   ]
  },
  {
   "cell_type": "markdown",
   "id": "3b555345",
   "metadata": {
    "pycharm": {
     "name": "#%% md\n"
    }
   },
   "source": [
    "### Repeating values"
   ]
  },
  {
   "cell_type": "code",
   "execution_count": 70,
   "id": "e59a70c9",
   "metadata": {},
   "outputs": [
    {
     "data": {
      "text/plain": "array([0., 0., 0., 0., 0., 0., 0., 0., 0., 0.])"
     },
     "execution_count": 70,
     "metadata": {},
     "output_type": "execute_result"
    }
   ],
   "source": [
    "np.zeros(10) # all zeros"
   ]
  },
  {
   "cell_type": "code",
   "execution_count": 71,
   "id": "66096a4e",
   "metadata": {},
   "outputs": [
    {
     "data": {
      "text/plain": "array([[0., 0., 0.],\n       [0., 0., 0.],\n       [0., 0., 0.],\n       [0., 0., 0.],\n       [0., 0., 0.],\n       [0., 0., 0.],\n       [0., 0., 0.],\n       [0., 0., 0.],\n       [0., 0., 0.],\n       [0., 0., 0.]])"
     },
     "execution_count": 71,
     "metadata": {},
     "output_type": "execute_result"
    }
   ],
   "source": [
    "np.zeros((10,3)) # 10 rows, 3 cols"
   ]
  },
  {
   "cell_type": "code",
   "execution_count": 72,
   "id": "d39c67a1",
   "metadata": {},
   "outputs": [
    {
     "data": {
      "text/plain": "array([1., 1., 1.])"
     },
     "execution_count": 72,
     "metadata": {},
     "output_type": "execute_result"
    }
   ],
   "source": [
    "np.ones(3) # all ones"
   ]
  },
  {
   "cell_type": "code",
   "execution_count": 73,
   "id": "65675c47",
   "metadata": {},
   "outputs": [
    {
     "data": {
      "text/plain": "array([3., 3., 3., 3.])"
     },
     "execution_count": 73,
     "metadata": {},
     "output_type": "execute_result"
    }
   ],
   "source": [
    "3*np.ones(4)"
   ]
  },
  {
   "cell_type": "code",
   "execution_count": 74,
   "id": "9034d4f0",
   "metadata": {},
   "outputs": [
    {
     "data": {
      "text/plain": "3.141592653589793"
     },
     "execution_count": 74,
     "metadata": {},
     "output_type": "execute_result"
    }
   ],
   "source": [
    "np.pi"
   ]
  },
  {
   "cell_type": "code",
   "execution_count": 75,
   "id": "3cc2b0ee",
   "metadata": {},
   "outputs": [
    {
     "data": {
      "text/plain": "2.718281828459045"
     },
     "execution_count": 75,
     "metadata": {},
     "output_type": "execute_result"
    }
   ],
   "source": [
    "np.e"
   ]
  },
  {
   "cell_type": "code",
   "execution_count": 76,
   "id": "fcaaf823",
   "metadata": {},
   "outputs": [
    {
     "data": {
      "text/plain": "array([3.14159265, 3.14159265, 3.14159265, 3.14159265, 3.14159265])"
     },
     "execution_count": 76,
     "metadata": {},
     "output_type": "execute_result"
    }
   ],
   "source": [
    "np.pi*np.ones(5)"
   ]
  },
  {
   "cell_type": "markdown",
   "id": "128e72b0",
   "metadata": {
    "pycharm": {
     "name": "#%% md\n"
    }
   },
   "source": [
    "### RANDOM NUMBERS"
   ]
  },
  {
   "cell_type": "code",
   "execution_count": 77,
   "id": "06b71791",
   "metadata": {},
   "outputs": [
    {
     "data": {
      "text/plain": "0.37699741526020647"
     },
     "execution_count": 77,
     "metadata": {},
     "output_type": "execute_result"
    }
   ],
   "source": [
    "np.random.random() # uniform distribution (0,1)"
   ]
  },
  {
   "cell_type": "code",
   "execution_count": 78,
   "id": "4729052d",
   "metadata": {},
   "outputs": [
    {
     "data": {
      "text/plain": "array([0.92307802, 0.75112365, 0.94961167])"
     },
     "execution_count": 78,
     "metadata": {},
     "output_type": "execute_result"
    }
   ],
   "source": [
    "np.random.random(3) # of size 3"
   ]
  },
  {
   "cell_type": "code",
   "execution_count": 79,
   "id": "b8124d91",
   "metadata": {},
   "outputs": [
    {
     "data": {
      "text/plain": "array([[0.24867427, 0.44718897, 0.70048534, 0.49621647, 0.61534804],\n       [0.46837745, 0.43993006, 0.63928976, 0.27654822, 0.88162161],\n       [0.63697665, 0.67285524, 0.44886021, 0.33305236, 0.86140291],\n       [0.26572171, 0.62747595, 0.84330323, 0.98982641, 0.01077814]])"
     },
     "execution_count": 79,
     "metadata": {},
     "output_type": "execute_result"
    }
   ],
   "source": [
    "np.random.random((4,5)) "
   ]
  },
  {
   "cell_type": "code",
   "execution_count": 80,
   "id": "8b4c8fa0",
   "metadata": {},
   "outputs": [],
   "source": [
    "np.random.seed(33) \n",
    "# fix \"seed\" for reproducibility"
   ]
  },
  {
   "cell_type": "code",
   "execution_count": 81,
   "id": "a0a448f7",
   "metadata": {},
   "outputs": [
    {
     "data": {
      "text/plain": "array([0.24851013, 0.44997542, 0.4109408 ])"
     },
     "execution_count": 81,
     "metadata": {},
     "output_type": "execute_result"
    }
   ],
   "source": [
    "np.random.random(3)"
   ]
  },
  {
   "cell_type": "code",
   "execution_count": 82,
   "id": "1358a9f0",
   "metadata": {},
   "outputs": [
    {
     "data": {
      "text/plain": "0.5939528918035563"
     },
     "execution_count": 82,
     "metadata": {},
     "output_type": "execute_result"
    }
   ],
   "source": [
    "np.random.normal() # random.normal(loc=0.0, scale=1.0, size=None)\n",
    "# gaussian distribution with mean = 0 (default) and sd =  1 (por default)"
   ]
  },
  {
   "cell_type": "code",
   "execution_count": 85,
   "id": "eedb4ac5",
   "metadata": {},
   "outputs": [
    {
     "data": {
      "text/plain": "array([-0.01548176, -0.73092457, -0.18532259])"
     },
     "execution_count": 85,
     "metadata": {},
     "output_type": "execute_result"
    }
   ],
   "source": [
    "np.random.normal(size = 3)"
   ]
  },
  {
   "cell_type": "code",
   "execution_count": 86,
   "id": "604ec829",
   "metadata": {},
   "outputs": [
    {
     "data": {
      "text/plain": "array([[-1.01410294, -0.44799025],\n       [-2.53889235, -0.15218195],\n       [ 1.73950856, -0.38360253]])"
     },
     "execution_count": 86,
     "metadata": {},
     "output_type": "execute_result"
    }
   ],
   "source": [
    "np.random.normal(size = (3,2))"
   ]
  },
  {
   "cell_type": "code",
   "execution_count": 89,
   "id": "6ad2387e",
   "metadata": {},
   "outputs": [
    {
     "data": {
      "text/plain": "array([ 1.3944703 , -0.21431088,  1.348505  ])"
     },
     "execution_count": 89,
     "metadata": {},
     "output_type": "execute_result"
    }
   ],
   "source": [
    "np.random.normal(loc = 1.1, scale = 2.2, size = 3) # mean 1.1, sd 2.2, size 3"
   ]
  },
  {
   "cell_type": "markdown",
   "id": "2b398aaf",
   "metadata": {
    "pycharm": {
     "name": "#%% md\n"
    }
   },
   "source": [
    "### RANGES"
   ]
  },
  {
   "cell_type": "code",
   "execution_count": 90,
   "id": "d30d0a57",
   "metadata": {},
   "outputs": [
    {
     "data": {
      "text/plain": "array([10, 15, 20, 25])"
     },
     "execution_count": 90,
     "metadata": {},
     "output_type": "execute_result"
    }
   ],
   "source": [
    "np.arange(10, 30, 5)"
   ]
  },
  {
   "cell_type": "code",
   "execution_count": 91,
   "id": "88e5b09f",
   "metadata": {},
   "outputs": [
    {
     "data": {
      "text/plain": "array([ 1,  2,  3,  4,  5,  6,  7,  8,  9, 10])"
     },
     "execution_count": 91,
     "metadata": {},
     "output_type": "execute_result"
    }
   ],
   "source": [
    "np.arange(1, 11, 1) "
   ]
  },
  {
   "cell_type": "code",
   "execution_count": 92,
   "id": "ca87dfbf",
   "metadata": {},
   "outputs": [
    {
     "data": {
      "text/plain": "array([], dtype=int32)"
     },
     "execution_count": 92,
     "metadata": {},
     "output_type": "execute_result"
    }
   ],
   "source": [
    "np.arange(1, 11, -1) "
   ]
  },
  {
   "cell_type": "code",
   "execution_count": 93,
   "id": "457aea4a",
   "metadata": {},
   "outputs": [
    {
     "data": {
      "text/plain": "array([10,  9,  8,  7,  6,  5,  4,  3,  2,  1])"
     },
     "execution_count": 93,
     "metadata": {},
     "output_type": "execute_result"
    }
   ],
   "source": [
    "np.arange(10, 0, -1) "
   ]
  },
  {
   "cell_type": "code",
   "execution_count": 94,
   "id": "a91903e9",
   "metadata": {},
   "outputs": [
    {
     "data": {
      "text/plain": "array([ 0,  1,  2,  3,  4,  5,  6,  7,  8,  9, 10, 11])"
     },
     "execution_count": 94,
     "metadata": {},
     "output_type": "execute_result"
    }
   ],
   "source": [
    "np.arange(12) # from 0 (implicit), to 12 (not included), in steps of 1 (implicit)"
   ]
  },
  {
   "cell_type": "code",
   "execution_count": 97,
   "id": "efedcb7d",
   "metadata": {},
   "outputs": [
    {
     "data": {
      "text/plain": "array([0.  , 0.75, 1.5 , 2.25, 3.  ])"
     },
     "execution_count": 97,
     "metadata": {},
     "output_type": "execute_result"
    }
   ],
   "source": [
    "np.linspace(0, 3, 5) # del 0 al 3 (INCLUDED), returning an array of length 5"
   ]
  },
  {
   "cell_type": "markdown",
   "id": "69d640b0",
   "metadata": {
    "pycharm": {
     "name": "#%% md\n"
    }
   },
   "source": [
    "### RESHAPE"
   ]
  },
  {
   "cell_type": "code",
   "execution_count": 99,
   "id": "410841b5",
   "metadata": {},
   "outputs": [
    {
     "data": {
      "text/plain": "array([[ 0,  1,  2],\n       [ 3,  4,  5],\n       [ 6,  7,  8],\n       [ 9, 10, 11]])"
     },
     "execution_count": 99,
     "metadata": {},
     "output_type": "execute_result"
    }
   ],
   "source": [
    "np.arange(12).reshape(4,3)  # convert it to a matrix of 4 rows and 3 cols"
   ]
  },
  {
   "cell_type": "code",
   "execution_count": 100,
   "id": "9384fef6",
   "metadata": {},
   "outputs": [
    {
     "ename": "ValueError",
     "evalue": "cannot reshape array of size 11 into shape (4,3)",
     "output_type": "error",
     "traceback": [
      "\u001B[1;31m---------------------------------------------------------------------------\u001B[0m",
      "\u001B[1;31mValueError\u001B[0m                                Traceback (most recent call last)",
      "Input \u001B[1;32mIn [100]\u001B[0m, in \u001B[0;36m<cell line: 1>\u001B[1;34m()\u001B[0m\n\u001B[1;32m----> 1\u001B[0m \u001B[43mnp\u001B[49m\u001B[38;5;241;43m.\u001B[39;49m\u001B[43marange\u001B[49m\u001B[43m(\u001B[49m\u001B[38;5;241;43m11\u001B[39;49m\u001B[43m)\u001B[49m\u001B[38;5;241;43m.\u001B[39;49m\u001B[43mreshape\u001B[49m\u001B[43m(\u001B[49m\u001B[38;5;241;43m4\u001B[39;49m\u001B[43m,\u001B[49m\u001B[38;5;241;43m3\u001B[39;49m\u001B[43m)\u001B[49m\n",
      "\u001B[1;31mValueError\u001B[0m: cannot reshape array of size 11 into shape (4,3)"
     ]
    }
   ],
   "source": [
    "np.arange(11).reshape(4,3)  # error, non-commensurable"
   ]
  },
  {
   "cell_type": "code",
   "execution_count": 101,
   "id": "1ae9536d",
   "metadata": {},
   "outputs": [
    {
     "data": {
      "text/plain": "array([[1, 2],\n       [3, 4]])"
     },
     "execution_count": 101,
     "metadata": {},
     "output_type": "execute_result"
    }
   ],
   "source": [
    "np.array(((1,2),(3,4)))"
   ]
  },
  {
   "cell_type": "code",
   "execution_count": 102,
   "id": "208c84a6",
   "metadata": {},
   "outputs": [
    {
     "data": {
      "text/plain": "array([1, 2, 3, 4])"
     },
     "execution_count": 102,
     "metadata": {},
     "output_type": "execute_result"
    }
   ],
   "source": [
    "np.array(((1,2),(3,4))).reshape(4)"
   ]
  },
  {
   "cell_type": "markdown",
   "id": "fc586481",
   "metadata": {
    "pycharm": {
     "name": "#%% md\n"
    }
   },
   "source": [
    "###"
   ]
  },
  {
   "cell_type": "code",
   "execution_count": 103,
   "id": "fa22accb",
   "metadata": {},
   "outputs": [
    {
     "name": "stdout",
     "output_type": "stream",
     "text": [
      "0.0 1.0\n"
     ]
    }
   ],
   "source": [
    "print(np.sin(0),np.cos(0))"
   ]
  },
  {
   "cell_type": "code",
   "execution_count": 104,
   "id": "ad61d1e4",
   "metadata": {},
   "outputs": [
    {
     "data": {
      "text/plain": "3.0"
     },
     "execution_count": 104,
     "metadata": {},
     "output_type": "execute_result"
    }
   ],
   "source": [
    "np.sqrt(9)"
   ]
  },
  {
   "cell_type": "markdown",
   "source": [
    "### AXES"
   ],
   "metadata": {
    "collapsed": false,
    "pycharm": {
     "name": "#%% md\n"
    }
   }
  },
  {
   "cell_type": "code",
   "execution_count": 105,
   "outputs": [
    {
     "data": {
      "text/plain": "array([[1, 2],\n       [3, 4]])"
     },
     "execution_count": 105,
     "metadata": {},
     "output_type": "execute_result"
    }
   ],
   "source": [
    "a = np.array(((1,2),(3,4)))\n",
    "a"
   ],
   "metadata": {
    "collapsed": false,
    "pycharm": {
     "name": "#%%\n"
    }
   }
  },
  {
   "cell_type": "code",
   "execution_count": 106,
   "outputs": [
    {
     "data": {
      "text/plain": "10"
     },
     "execution_count": 106,
     "metadata": {},
     "output_type": "execute_result"
    }
   ],
   "source": [
    "np.sum(a)"
   ],
   "metadata": {
    "collapsed": false,
    "pycharm": {
     "name": "#%%\n"
    }
   }
  },
  {
   "cell_type": "code",
   "execution_count": 108,
   "outputs": [
    {
     "data": {
      "text/plain": "array([4, 6])"
     },
     "execution_count": 108,
     "metadata": {},
     "output_type": "execute_result"
    }
   ],
   "source": [
    "np.sum(a,axis=0)"
   ],
   "metadata": {
    "collapsed": false,
    "pycharm": {
     "name": "#%%\n"
    }
   }
  },
  {
   "cell_type": "code",
   "execution_count": 109,
   "outputs": [
    {
     "data": {
      "text/plain": "array([3, 7])"
     },
     "execution_count": 109,
     "metadata": {},
     "output_type": "execute_result"
    }
   ],
   "source": [
    "np.sum(a,axis=1)"
   ],
   "metadata": {
    "collapsed": false,
    "pycharm": {
     "name": "#%%\n"
    }
   }
  },
  {
   "cell_type": "code",
   "execution_count": 110,
   "outputs": [
    {
     "data": {
      "text/plain": "array([[1., 1.],\n       [1., 1.],\n       [1., 1.]])"
     },
     "execution_count": 110,
     "metadata": {},
     "output_type": "execute_result"
    }
   ],
   "source": [
    "a1 = np.ones((3,2))\n",
    "a1"
   ],
   "metadata": {
    "collapsed": false,
    "pycharm": {
     "name": "#%%\n"
    }
   }
  },
  {
   "cell_type": "code",
   "execution_count": 111,
   "outputs": [
    {
     "data": {
      "text/plain": "array([[0., 0.],\n       [0., 0.],\n       [0., 0.]])"
     },
     "execution_count": 111,
     "metadata": {},
     "output_type": "execute_result"
    }
   ],
   "source": [
    "b1 = np.zeros((3,2))\n",
    "b1"
   ],
   "metadata": {
    "collapsed": false,
    "pycharm": {
     "name": "#%%\n"
    }
   }
  },
  {
   "cell_type": "code",
   "execution_count": 112,
   "outputs": [
    {
     "data": {
      "text/plain": "array([[1., 1.],\n       [1., 1.],\n       [1., 1.],\n       [0., 0.],\n       [0., 0.],\n       [0., 0.]])"
     },
     "execution_count": 112,
     "metadata": {},
     "output_type": "execute_result"
    }
   ],
   "source": [
    "np.concatenate([a1,b1])  # by default, axis = 0"
   ],
   "metadata": {
    "collapsed": false,
    "pycharm": {
     "name": "#%%\n"
    }
   }
  },
  {
   "cell_type": "code",
   "execution_count": 113,
   "outputs": [
    {
     "data": {
      "text/plain": "array([[1., 1., 0., 0.],\n       [1., 1., 0., 0.],\n       [1., 1., 0., 0.]])"
     },
     "execution_count": 113,
     "metadata": {},
     "output_type": "execute_result"
    }
   ],
   "source": [
    "np.concatenate([a1,b1], axis = 1)"
   ],
   "metadata": {
    "collapsed": false,
    "pycharm": {
     "name": "#%%\n"
    }
   }
  },
  {
   "cell_type": "markdown",
   "id": "a82845d1",
   "metadata": {
    "pycharm": {
     "name": "#%% md\n"
    }
   },
   "source": [
    "### REPETITIONS"
   ]
  },
  {
   "cell_type": "code",
   "execution_count": 114,
   "id": "574ebfcf",
   "metadata": {},
   "outputs": [
    {
     "data": {
      "text/plain": "array([3, 3, 3, 3, 3])"
     },
     "execution_count": 114,
     "metadata": {},
     "output_type": "execute_result"
    }
   ],
   "source": [
    "np.repeat(3,5) # repeat number 3 5 times"
   ]
  },
  {
   "cell_type": "code",
   "execution_count": 115,
   "id": "9466e402",
   "metadata": {},
   "outputs": [
    {
     "data": {
      "text/plain": "array([1, 1, 1, 2, 2, 2])"
     },
     "execution_count": 115,
     "metadata": {},
     "output_type": "execute_result"
    }
   ],
   "source": [
    "np.repeat((1,2), 3) # repeat 1 3 times, then 2 3 times"
   ]
  },
  {
   "cell_type": "code",
   "execution_count": 116,
   "id": "c160bc87",
   "metadata": {},
   "outputs": [
    {
     "data": {
      "text/plain": "array([0, 0, 0, 1, 1, 1, 2, 2, 2, 3, 3, 3])"
     },
     "execution_count": 116,
     "metadata": {},
     "output_type": "execute_result"
    }
   ],
   "source": [
    "np.repeat(np.arange(0,4), 3)"
   ]
  },
  {
   "cell_type": "markdown",
   "id": "5b3b4e8a",
   "metadata": {
    "pycharm": {
     "name": "#%% md\n"
    }
   },
   "source": [
    "### LOGIC"
   ]
  },
  {
   "cell_type": "code",
   "execution_count": 117,
   "id": "87970a6c",
   "metadata": {},
   "outputs": [],
   "source": [
    "a = np.array((1,2,3))"
   ]
  },
  {
   "cell_type": "code",
   "execution_count": 118,
   "id": "f9818671",
   "metadata": {},
   "outputs": [
    {
     "data": {
      "text/plain": "array([ True, False, False])"
     },
     "execution_count": 118,
     "metadata": {},
     "output_type": "execute_result"
    }
   ],
   "source": [
    "a == 1"
   ]
  },
  {
   "cell_type": "code",
   "execution_count": 119,
   "id": "13d90651",
   "metadata": {},
   "outputs": [
    {
     "data": {
      "text/plain": "False"
     },
     "execution_count": 119,
     "metadata": {},
     "output_type": "execute_result"
    }
   ],
   "source": [
    "all(a == 1)"
   ]
  },
  {
   "cell_type": "code",
   "execution_count": 120,
   "id": "2d15e6ca",
   "metadata": {},
   "outputs": [
    {
     "data": {
      "text/plain": "True"
     },
     "execution_count": 120,
     "metadata": {},
     "output_type": "execute_result"
    }
   ],
   "source": [
    "any(a == 1)"
   ]
  },
  {
   "cell_type": "code",
   "execution_count": 124,
   "outputs": [
    {
     "data": {
      "text/plain": "array([1, 2, 3])"
     },
     "execution_count": 124,
     "metadata": {},
     "output_type": "execute_result"
    }
   ],
   "source": [
    "a"
   ],
   "metadata": {
    "collapsed": false,
    "pycharm": {
     "name": "#%%\n"
    }
   }
  },
  {
   "cell_type": "code",
   "execution_count": 123,
   "outputs": [
    {
     "data": {
      "text/plain": "array([ True, False, False])"
     },
     "execution_count": 123,
     "metadata": {},
     "output_type": "execute_result"
    }
   ],
   "source": [
    "a == 1"
   ],
   "metadata": {
    "collapsed": false,
    "pycharm": {
     "name": "#%%\n"
    }
   }
  },
  {
   "cell_type": "code",
   "execution_count": 122,
   "outputs": [
    {
     "data": {
      "text/plain": "array([False,  True, False])"
     },
     "execution_count": 122,
     "metadata": {},
     "output_type": "execute_result"
    }
   ],
   "source": [
    "a == 2"
   ],
   "metadata": {
    "collapsed": false,
    "pycharm": {
     "name": "#%%\n"
    }
   }
  },
  {
   "cell_type": "code",
   "execution_count": 74,
   "id": "b95668cb",
   "metadata": {},
   "outputs": [
    {
     "data": {
      "text/plain": "array([ True,  True, False])"
     },
     "execution_count": 74,
     "metadata": {},
     "output_type": "execute_result"
    }
   ],
   "source": [
    "np.logical_or(a == 1, a == 2)"
   ]
  },
  {
   "cell_type": "code",
   "execution_count": 75,
   "id": "72e5a4a4",
   "metadata": {},
   "outputs": [
    {
     "data": {
      "text/plain": "array([False,  True,  True])"
     },
     "execution_count": 75,
     "metadata": {},
     "output_type": "execute_result"
    }
   ],
   "source": [
    "np.logical_and(a > 1, a < 4)"
   ]
  },
  {
   "cell_type": "code",
   "execution_count": 125,
   "id": "62a62937",
   "metadata": {},
   "outputs": [
    {
     "data": {
      "text/plain": "array([ True, False, False])"
     },
     "execution_count": 125,
     "metadata": {},
     "output_type": "execute_result"
    }
   ],
   "source": [
    "np.logical_not(a > 1)"
   ]
  },
  {
   "cell_type": "code",
   "execution_count": 126,
   "id": "9c6d7ff6",
   "metadata": {},
   "outputs": [
    {
     "data": {
      "text/plain": "array([ True, False, False])"
     },
     "execution_count": 126,
     "metadata": {},
     "output_type": "execute_result"
    }
   ],
   "source": [
    "np.logical_xor(a > 1, a < 4)"
   ]
  },
  {
   "cell_type": "markdown",
   "id": "8bd79f53",
   "metadata": {
    "pycharm": {
     "name": "#%% md\n"
    }
   },
   "source": [
    "### NA"
   ]
  },
  {
   "cell_type": "code",
   "execution_count": 78,
   "id": "c3ea75b1",
   "metadata": {},
   "outputs": [
    {
     "data": {
      "text/plain": "nan"
     },
     "execution_count": 78,
     "metadata": {},
     "output_type": "execute_result"
    }
   ],
   "source": [
    "np.nan"
   ]
  },
  {
   "cell_type": "code",
   "execution_count": 127,
   "id": "c233357d",
   "metadata": {},
   "outputs": [
    {
     "data": {
      "text/plain": "array([1.        , 2.        ,        nan, 3.14159265, 2.82842712])"
     },
     "execution_count": 127,
     "metadata": {},
     "output_type": "execute_result"
    }
   ],
   "source": [
    "q = np.array((1,2,np.nan,np.pi,np.sqrt(8)))\n",
    "q"
   ]
  },
  {
   "cell_type": "code",
   "execution_count": 128,
   "id": "24c8c66d",
   "metadata": {},
   "outputs": [
    {
     "data": {
      "text/plain": "array([False, False,  True, False, False])"
     },
     "execution_count": 128,
     "metadata": {},
     "output_type": "execute_result"
    }
   ],
   "source": [
    "np.isnan(q)"
   ]
  },
  {
   "cell_type": "code",
   "execution_count": 81,
   "id": "dbe37ebf",
   "metadata": {},
   "outputs": [],
   "source": [
    "### SEARCH FOR ELEMENTS"
   ]
  },
  {
   "cell_type": "code",
   "execution_count": 129,
   "id": "38035b41",
   "metadata": {},
   "outputs": [
    {
     "data": {
      "text/plain": "array([1, 2, 3])"
     },
     "execution_count": 129,
     "metadata": {},
     "output_type": "execute_result"
    }
   ],
   "source": [
    "a"
   ]
  },
  {
   "cell_type": "code",
   "execution_count": 130,
   "id": "3fa6f4a8",
   "metadata": {},
   "outputs": [
    {
     "data": {
      "text/plain": "3"
     },
     "execution_count": 130,
     "metadata": {},
     "output_type": "execute_result"
    }
   ],
   "source": [
    "np.max(a)"
   ]
  },
  {
   "cell_type": "code",
   "execution_count": 131,
   "id": "ff79e587",
   "metadata": {},
   "outputs": [
    {
     "data": {
      "text/plain": "2"
     },
     "execution_count": 131,
     "metadata": {},
     "output_type": "execute_result"
    }
   ],
   "source": [
    "np.argmax(a) # index of the element which is the maximum"
   ]
  },
  {
   "cell_type": "code",
   "execution_count": 132,
   "id": "dc6cdd0c",
   "metadata": {},
   "outputs": [
    {
     "data": {
      "text/plain": "3"
     },
     "execution_count": 132,
     "metadata": {},
     "output_type": "execute_result"
    }
   ],
   "source": [
    "a[np.argmax(a)]"
   ]
  },
  {
   "cell_type": "code",
   "execution_count": 133,
   "id": "6a52d6f0",
   "metadata": {},
   "outputs": [
    {
     "data": {
      "text/plain": "array([1.        , 2.        ,        nan, 3.14159265, 2.82842712])"
     },
     "execution_count": 133,
     "metadata": {},
     "output_type": "execute_result"
    }
   ],
   "source": [
    "q"
   ]
  },
  {
   "cell_type": "code",
   "execution_count": 134,
   "id": "eed431ab",
   "metadata": {},
   "outputs": [
    {
     "data": {
      "text/plain": "2"
     },
     "execution_count": 134,
     "metadata": {},
     "output_type": "execute_result"
    }
   ],
   "source": [
    "np.argmax(q)"
   ]
  },
  {
   "cell_type": "code",
   "execution_count": 135,
   "id": "54b97a28",
   "metadata": {},
   "outputs": [
    {
     "data": {
      "text/plain": "nan"
     },
     "execution_count": 135,
     "metadata": {},
     "output_type": "execute_result"
    }
   ],
   "source": [
    "q[np.argmax(q)]"
   ]
  },
  {
   "cell_type": "code",
   "execution_count": 136,
   "id": "d114c6f0",
   "metadata": {},
   "outputs": [
    {
     "data": {
      "text/plain": "3"
     },
     "execution_count": 136,
     "metadata": {},
     "output_type": "execute_result"
    }
   ],
   "source": [
    "np.nanargmax(q) # ignore NA"
   ]
  },
  {
   "cell_type": "code",
   "execution_count": 141,
   "outputs": [
    {
     "data": {
      "text/plain": "array([1.        , 2.        ,        nan, 3.14159265, 2.82842712])"
     },
     "execution_count": 141,
     "metadata": {},
     "output_type": "execute_result"
    }
   ],
   "source": [
    "q"
   ],
   "metadata": {
    "collapsed": false,
    "pycharm": {
     "name": "#%%\n"
    }
   }
  },
  {
   "cell_type": "code",
   "execution_count": 142,
   "outputs": [
    {
     "data": {
      "text/plain": "3"
     },
     "execution_count": 142,
     "metadata": {},
     "output_type": "execute_result"
    }
   ],
   "source": [
    "np.nanargmax(q)"
   ],
   "metadata": {
    "collapsed": false,
    "pycharm": {
     "name": "#%%\n"
    }
   }
  },
  {
   "cell_type": "code",
   "execution_count": 143,
   "outputs": [
    {
     "data": {
      "text/plain": "3.141592653589793"
     },
     "execution_count": 143,
     "metadata": {},
     "output_type": "execute_result"
    }
   ],
   "source": [
    "q[3]"
   ],
   "metadata": {
    "collapsed": false,
    "pycharm": {
     "name": "#%%\n"
    }
   }
  },
  {
   "cell_type": "code",
   "execution_count": 144,
   "id": "a4170829",
   "metadata": {},
   "outputs": [
    {
     "data": {
      "text/plain": "3.141592653589793"
     },
     "execution_count": 144,
     "metadata": {},
     "output_type": "execute_result"
    }
   ],
   "source": [
    "q[np.nanargmax(q)]"
   ]
  },
  {
   "cell_type": "code",
   "execution_count": 138,
   "outputs": [
    {
     "data": {
      "text/plain": "array([1.        , 2.        ,        nan, 3.14159265, 2.82842712])"
     },
     "execution_count": 138,
     "metadata": {},
     "output_type": "execute_result"
    }
   ],
   "source": [
    "q"
   ],
   "metadata": {
    "collapsed": false,
    "pycharm": {
     "name": "#%%\n"
    }
   }
  },
  {
   "cell_type": "code",
   "execution_count": 139,
   "outputs": [
    {
     "data": {
      "text/plain": "array([False, False, False,  True,  True])"
     },
     "execution_count": 139,
     "metadata": {},
     "output_type": "execute_result"
    }
   ],
   "source": [
    "q > 2"
   ],
   "metadata": {
    "collapsed": false,
    "pycharm": {
     "name": "#%%\n"
    }
   }
  },
  {
   "cell_type": "code",
   "execution_count": 140,
   "id": "adfdf7c8",
   "metadata": {},
   "outputs": [
    {
     "data": {
      "text/plain": "(array([3, 4], dtype=int64),)"
     },
     "execution_count": 140,
     "metadata": {},
     "output_type": "execute_result"
    }
   ],
   "source": [
    "np.where(q > 2) # search for where the condition is satisfied"
   ]
  },
  {
   "cell_type": "code",
   "execution_count": 145,
   "id": "2c3a1edc",
   "metadata": {},
   "outputs": [
    {
     "data": {
      "text/plain": "array([3.14159265, 2.82842712])"
     },
     "execution_count": 145,
     "metadata": {},
     "output_type": "execute_result"
    }
   ],
   "source": [
    "q[np.where(q > 2)]"
   ]
  },
  {
   "cell_type": "code",
   "execution_count": 147,
   "outputs": [
    {
     "data": {
      "text/plain": "array([False, False, False,  True,  True])"
     },
     "execution_count": 147,
     "metadata": {},
     "output_type": "execute_result"
    }
   ],
   "source": [
    "q > 2"
   ],
   "metadata": {
    "collapsed": false,
    "pycharm": {
     "name": "#%%\n"
    }
   }
  },
  {
   "cell_type": "code",
   "execution_count": 148,
   "id": "6e8a24d9",
   "metadata": {},
   "outputs": [
    {
     "data": {
      "text/plain": "array([  0,   0,   0, 999, 999])"
     },
     "execution_count": 148,
     "metadata": {},
     "output_type": "execute_result"
    }
   ],
   "source": [
    "np.where(q > 2, 999, 0) # where condition is met, replace with 999, where it is not, replace with 0"
   ]
  },
  {
   "cell_type": "code",
   "execution_count": 149,
   "id": "0ffb1a1b",
   "metadata": {},
   "outputs": [
    {
     "data": {
      "text/plain": "array([  3,   5,   1,   2,   7,  22,   4, -23])"
     },
     "execution_count": 149,
     "metadata": {},
     "output_type": "execute_result"
    }
   ],
   "source": [
    "b = np.array((3,5,1,2,7,22,4,-23))\n",
    "b"
   ]
  },
  {
   "cell_type": "code",
   "execution_count": 150,
   "id": "7576c02b",
   "metadata": {},
   "outputs": [
    {
     "data": {
      "text/plain": "array([-23,   1,   2,   3,   4,   5,   7,  22])"
     },
     "execution_count": 150,
     "metadata": {},
     "output_type": "execute_result"
    }
   ],
   "source": [
    "np.sort(b)"
   ]
  },
  {
   "cell_type": "code",
   "execution_count": 151,
   "id": "db52e4b8",
   "metadata": {},
   "outputs": [
    {
     "data": {
      "text/plain": "array([ 22,   7,   5,   4,   3,   2,   1, -23])"
     },
     "execution_count": 151,
     "metadata": {},
     "output_type": "execute_result"
    }
   ],
   "source": [
    "np.sort(b)[::-1]"
   ]
  },
  {
   "cell_type": "code",
   "execution_count": 98,
   "id": "8fa55414",
   "metadata": {
    "pycharm": {
     "name": "#%%\n"
    }
   },
   "outputs": [
    {
     "data": {
      "text/plain": "array([  3,   5,   1,   2,   7,  22,   4, -23])"
     },
     "execution_count": 98,
     "metadata": {},
     "output_type": "execute_result"
    }
   ],
   "source": [
    "b"
   ]
  },
  {
   "cell_type": "code",
   "execution_count": null,
   "outputs": [],
   "source": [],
   "metadata": {
    "collapsed": false,
    "pycharm": {
     "name": "#%%\n"
    }
   }
  }
 ],
 "metadata": {
  "kernelspec": {
   "display_name": "Python 3",
   "language": "python",
   "name": "python3"
  },
  "language_info": {
   "codemirror_mode": {
    "name": "ipython",
    "version": 3
   },
   "file_extension": ".py",
   "mimetype": "text/x-python",
   "name": "python",
   "nbconvert_exporter": "python",
   "pygments_lexer": "ipython3",
   "version": "3.8.8"
  }
 },
 "nbformat": 4,
 "nbformat_minor": 5
}